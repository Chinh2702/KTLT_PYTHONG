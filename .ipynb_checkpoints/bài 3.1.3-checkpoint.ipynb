{
 "cells": [
  {
   "cell_type": "markdown",
   "id": "ad7e2141",
   "metadata": {},
   "source": [
    "# Library"
   ]
  },
  {
   "cell_type": "code",
   "execution_count": null,
   "id": "73468a99",
   "metadata": {},
   "outputs": [],
   "source": [
    "%pip install scikit-learn\n",
    "\n",
    "import numpy as np\n",
    "import pandas as pd\n",
    "import os\n",
    "os.environ[\"OMP_NUM_THREADS\"] = \"2\"\n",
    "os.environ[\"MKL_NUM_THREADS\"] = \"2\"\n",
    "from sklearn.cluster import KMeans # type: ignore\n",
    "import plotly.express as px # type: ignore\n",
    "import seaborn as sns\n",
    "import plotly.graph_objects as go # type: ignore\n",
    "from sklearn.preprocessing import MinMaxScaler # type: ignore\n",
    "from sklearn.metrics import silhouette_score # type: ignore\n",
    "from sklearn.impute import SimpleImputer # type: ignore\n",
    "from sklearn.preprocessing import StandardScaler # type: ignore"
   ]
  },
  {
   "cell_type": "markdown",
   "id": "d0b4a582",
   "metadata": {},
   "source": [
    "# Read and data representation"
   ]
  },
  {
   "cell_type": "code",
   "execution_count": 2,
   "id": "f282ef53",
   "metadata": {},
   "outputs": [
    {
     "data": {
      "text/html": [
       "<style type=\"text/css\">\n",
       "#T_74b74_row0_col0 {\n",
       "  background-color: #834c7d;\n",
       "  color: #f1f1f1;\n",
       "}\n",
       "#T_74b74_row0_col1 {\n",
       "  background-color: #7e497a;\n",
       "  color: #f1f1f1;\n",
       "}\n",
       "#T_74b74_row0_col2, #T_74b74_row1_col1, #T_74b74_row2_col3, #T_74b74_row4_col0 {\n",
       "  background-color: #edd1cb;\n",
       "  color: #000000;\n",
       "}\n",
       "#T_74b74_row0_col3 {\n",
       "  background-color: #432a53;\n",
       "  color: #f1f1f1;\n",
       "}\n",
       "#T_74b74_row1_col0 {\n",
       "  background-color: #653b6c;\n",
       "  color: #f1f1f1;\n",
       "}\n",
       "#T_74b74_row1_col2 {\n",
       "  background-color: #c4829c;\n",
       "  color: #f1f1f1;\n",
       "}\n",
       "#T_74b74_row1_col3, #T_74b74_row2_col0, #T_74b74_row2_col2, #T_74b74_row4_col1 {\n",
       "  background-color: #2d1e3e;\n",
       "  color: #f1f1f1;\n",
       "}\n",
       "#T_74b74_row2_col1 {\n",
       "  background-color: #cb8ca0;\n",
       "  color: #f1f1f1;\n",
       "}\n",
       "#T_74b74_row3_col0, #T_74b74_row3_col1, #T_74b74_row3_col2, #T_74b74_row3_col3 {\n",
       "  background-color: #000000;\n",
       "  color: #f1f1f1;\n",
       "}\n",
       "#T_74b74_row4_col2 {\n",
       "  background-color: #50305d;\n",
       "  color: #f1f1f1;\n",
       "}\n",
       "#T_74b74_row4_col3 {\n",
       "  background-color: #c3819c;\n",
       "  color: #f1f1f1;\n",
       "}\n",
       "</style>\n",
       "<table id=\"T_74b74\">\n",
       "  <thead>\n",
       "    <tr>\n",
       "      <th class=\"blank level0\" >&nbsp;</th>\n",
       "      <th id=\"T_74b74_level0_col0\" class=\"col_heading level0 col0\" >culmen_length_mm</th>\n",
       "      <th id=\"T_74b74_level0_col1\" class=\"col_heading level0 col1\" >culmen_depth_mm</th>\n",
       "      <th id=\"T_74b74_level0_col2\" class=\"col_heading level0 col2\" >flipper_length_mm</th>\n",
       "      <th id=\"T_74b74_level0_col3\" class=\"col_heading level0 col3\" >body_mass_g</th>\n",
       "      <th id=\"T_74b74_level0_col4\" class=\"col_heading level0 col4\" >sex</th>\n",
       "    </tr>\n",
       "  </thead>\n",
       "  <tbody>\n",
       "    <tr>\n",
       "      <th id=\"T_74b74_level0_row0\" class=\"row_heading level0 row0\" >0</th>\n",
       "      <td id=\"T_74b74_row0_col0\" class=\"data row0 col0\" >39.100000</td>\n",
       "      <td id=\"T_74b74_row0_col1\" class=\"data row0 col1\" >18.700000</td>\n",
       "      <td id=\"T_74b74_row0_col2\" class=\"data row0 col2\" >181.000000</td>\n",
       "      <td id=\"T_74b74_row0_col3\" class=\"data row0 col3\" >3750.000000</td>\n",
       "      <td id=\"T_74b74_row0_col4\" class=\"data row0 col4\" >MALE</td>\n",
       "    </tr>\n",
       "    <tr>\n",
       "      <th id=\"T_74b74_level0_row1\" class=\"row_heading level0 row1\" >1</th>\n",
       "      <td id=\"T_74b74_row1_col0\" class=\"data row1 col0\" >39.500000</td>\n",
       "      <td id=\"T_74b74_row1_col1\" class=\"data row1 col1\" >17.400000</td>\n",
       "      <td id=\"T_74b74_row1_col2\" class=\"data row1 col2\" >186.000000</td>\n",
       "      <td id=\"T_74b74_row1_col3\" class=\"data row1 col3\" >3800.000000</td>\n",
       "      <td id=\"T_74b74_row1_col4\" class=\"data row1 col4\" >FEMALE</td>\n",
       "    </tr>\n",
       "    <tr>\n",
       "      <th id=\"T_74b74_level0_row2\" class=\"row_heading level0 row2\" >2</th>\n",
       "      <td id=\"T_74b74_row2_col0\" class=\"data row2 col0\" >40.300000</td>\n",
       "      <td id=\"T_74b74_row2_col1\" class=\"data row2 col1\" >18.000000</td>\n",
       "      <td id=\"T_74b74_row2_col2\" class=\"data row2 col2\" >195.000000</td>\n",
       "      <td id=\"T_74b74_row2_col3\" class=\"data row2 col3\" >3250.000000</td>\n",
       "      <td id=\"T_74b74_row2_col4\" class=\"data row2 col4\" >FEMALE</td>\n",
       "    </tr>\n",
       "    <tr>\n",
       "      <th id=\"T_74b74_level0_row3\" class=\"row_heading level0 row3\" >3</th>\n",
       "      <td id=\"T_74b74_row3_col0\" class=\"data row3 col0\" >nan</td>\n",
       "      <td id=\"T_74b74_row3_col1\" class=\"data row3 col1\" >nan</td>\n",
       "      <td id=\"T_74b74_row3_col2\" class=\"data row3 col2\" >nan</td>\n",
       "      <td id=\"T_74b74_row3_col3\" class=\"data row3 col3\" >nan</td>\n",
       "      <td id=\"T_74b74_row3_col4\" class=\"data row3 col4\" >nan</td>\n",
       "    </tr>\n",
       "    <tr>\n",
       "      <th id=\"T_74b74_level0_row4\" class=\"row_heading level0 row4\" >4</th>\n",
       "      <td id=\"T_74b74_row4_col0\" class=\"data row4 col0\" >36.700000</td>\n",
       "      <td id=\"T_74b74_row4_col1\" class=\"data row4 col1\" >19.300000</td>\n",
       "      <td id=\"T_74b74_row4_col2\" class=\"data row4 col2\" >193.000000</td>\n",
       "      <td id=\"T_74b74_row4_col3\" class=\"data row4 col3\" >3450.000000</td>\n",
       "      <td id=\"T_74b74_row4_col4\" class=\"data row4 col4\" >FEMALE</td>\n",
       "    </tr>\n",
       "  </tbody>\n",
       "</table>\n"
      ],
      "text/plain": [
       "<pandas.io.formats.style.Styler at 0x17695419400>"
      ]
     },
     "execution_count": 2,
     "metadata": {},
     "output_type": "execute_result"
    }
   ],
   "source": [
    "penguin = pd.read_csv(\"penguins.csv\")\n",
    "\n",
    "# penguin = penguin.dropna() #Drop any rows with missing values\n",
    "\n",
    "X = penguin.iloc[:,:-1].values #Set our training data\n",
    "y = penguin.iloc[:,-1].values #We'll use this just for visualization as\n",
    "\n",
    "penguin.head().style.background_gradient(cmap=sns.cubehelix_palette(as_cmap=True))"
   ]
  },
  {
   "cell_type": "markdown",
   "id": "59be08e2",
   "metadata": {},
   "source": [
    "# EDA and data processing"
   ]
  },
  {
   "cell_type": "code",
   "execution_count": 3,
   "id": "137d6488",
   "metadata": {},
   "outputs": [
    {
     "data": {
      "application/vnd.plotly.v1+json": {
       "config": {
        "plotlyServerURL": "https://plot.ly"
       },
       "data": [
        {
         "domain": {
          "x": [
           0,
           1
          ],
          "y": [
           0,
           1
          ]
         },
         "hovertemplate": "sex=%{label}<extra></extra>",
         "labels": [
          "MALE",
          "FEMALE",
          "FEMALE",
          null,
          "FEMALE",
          "MALE",
          "FEMALE",
          "MALE",
          null,
          "MALE",
          null,
          null,
          "FEMALE",
          "MALE",
          "MALE",
          "FEMALE",
          "FEMALE",
          "MALE",
          "FEMALE",
          "MALE",
          "FEMALE",
          "MALE",
          "FEMALE",
          "MALE",
          "MALE",
          "FEMALE",
          "MALE",
          "FEMALE",
          "FEMALE",
          "MALE",
          "FEMALE",
          "MALE",
          "FEMALE",
          "MALE",
          "FEMALE",
          "MALE",
          "MALE",
          "FEMALE",
          "FEMALE",
          "MALE",
          "FEMALE",
          "MALE",
          "FEMALE",
          "MALE",
          "FEMALE",
          "MALE",
          "MALE",
          null,
          "FEMALE",
          "MALE",
          "FEMALE",
          "MALE",
          "FEMALE",
          "MALE",
          "FEMALE",
          "MALE",
          "FEMALE",
          "MALE",
          "FEMALE",
          "MALE",
          "FEMALE",
          "MALE",
          "FEMALE",
          "MALE",
          "FEMALE",
          "MALE",
          "FEMALE",
          "MALE",
          "FEMALE",
          "MALE",
          "FEMALE",
          "MALE",
          "FEMALE",
          "MALE",
          "FEMALE",
          "MALE",
          "FEMALE",
          "MALE",
          "FEMALE",
          "MALE",
          "FEMALE",
          "MALE",
          "FEMALE",
          "MALE",
          "FEMALE",
          "MALE",
          "MALE",
          "FEMALE",
          "MALE",
          "FEMALE",
          "FEMALE",
          "MALE",
          "FEMALE",
          "MALE",
          "FEMALE",
          "MALE",
          "FEMALE",
          "MALE",
          "FEMALE",
          "MALE",
          "FEMALE",
          "MALE",
          "FEMALE",
          "MALE",
          "FEMALE",
          "MALE",
          "FEMALE",
          "MALE",
          "FEMALE",
          "MALE",
          "FEMALE",
          "MALE",
          "FEMALE",
          "MALE",
          "FEMALE",
          "MALE",
          "FEMALE",
          "MALE",
          "FEMALE",
          "MALE",
          "FEMALE",
          "MALE",
          "FEMALE",
          "MALE",
          "FEMALE",
          "MALE",
          "FEMALE",
          "MALE",
          "FEMALE",
          "MALE",
          "FEMALE",
          "MALE",
          "FEMALE",
          "MALE",
          "FEMALE",
          "MALE",
          "FEMALE",
          "MALE",
          "FEMALE",
          "MALE",
          "FEMALE",
          "MALE",
          "FEMALE",
          "MALE",
          "FEMALE",
          "MALE",
          "MALE",
          "FEMALE",
          "FEMALE",
          "MALE",
          "FEMALE",
          "MALE",
          "FEMALE",
          "MALE",
          "MALE",
          "FEMALE",
          "MALE",
          "FEMALE",
          "FEMALE",
          "MALE",
          "FEMALE",
          "MALE",
          "FEMALE",
          "MALE",
          "FEMALE",
          "MALE",
          "FEMALE",
          "MALE",
          "MALE",
          "FEMALE",
          "FEMALE",
          "MALE",
          "FEMALE",
          "MALE",
          "FEMALE",
          "MALE",
          "FEMALE",
          "MALE",
          "FEMALE",
          "MALE",
          "FEMALE",
          "MALE",
          "FEMALE",
          "MALE",
          "FEMALE",
          "MALE",
          "MALE",
          "FEMALE",
          "FEMALE",
          "MALE",
          "FEMALE",
          "MALE",
          "MALE",
          "FEMALE",
          "MALE",
          "FEMALE",
          "FEMALE",
          "MALE",
          "FEMALE",
          "MALE",
          "MALE",
          "FEMALE",
          "FEMALE",
          "MALE",
          "FEMALE",
          "MALE",
          "FEMALE",
          "MALE",
          "FEMALE",
          "MALE",
          "MALE",
          "FEMALE",
          "MALE",
          "FEMALE",
          "FEMALE",
          "MALE",
          "FEMALE",
          "MALE",
          "MALE",
          "FEMALE",
          "FEMALE",
          "MALE",
          "FEMALE",
          "MALE",
          "MALE",
          "FEMALE",
          "FEMALE",
          "MALE",
          "FEMALE",
          "MALE",
          "FEMALE",
          "MALE",
          "FEMALE",
          "MALE",
          "FEMALE",
          "MALE",
          "FEMALE",
          "MALE",
          "FEMALE",
          "MALE",
          "MALE",
          "FEMALE",
          "FEMALE",
          "MALE",
          "FEMALE",
          "MALE",
          null,
          "MALE",
          "FEMALE",
          "MALE",
          "MALE",
          "FEMALE",
          "FEMALE",
          "MALE",
          "FEMALE",
          "MALE",
          "FEMALE",
          "MALE",
          "FEMALE",
          "MALE",
          "FEMALE",
          "MALE",
          "FEMALE",
          "MALE",
          "MALE",
          "FEMALE",
          "FEMALE",
          "MALE",
          "FEMALE",
          "MALE",
          "FEMALE",
          "MALE",
          "FEMALE",
          "MALE",
          "FEMALE",
          "MALE",
          "FEMALE",
          "MALE",
          "FEMALE",
          "MALE",
          "FEMALE",
          "MALE",
          "FEMALE",
          "MALE",
          "FEMALE",
          "MALE",
          null,
          "MALE",
          "FEMALE",
          "MALE",
          "FEMALE",
          "MALE",
          "MALE",
          "FEMALE",
          "FEMALE",
          "MALE",
          "FEMALE",
          "MALE",
          "FEMALE",
          "MALE",
          "FEMALE",
          "MALE",
          "FEMALE",
          "MALE",
          "FEMALE",
          "MALE",
          "FEMALE",
          "MALE",
          "FEMALE",
          "MALE",
          "FEMALE",
          "MALE",
          "FEMALE",
          "MALE",
          "FEMALE",
          "MALE",
          "MALE",
          "FEMALE",
          "FEMALE",
          "MALE",
          "FEMALE",
          "MALE",
          "FEMALE",
          "MALE",
          null,
          "MALE",
          "FEMALE",
          "MALE",
          "FEMALE",
          "MALE",
          "FEMALE",
          "MALE",
          "FEMALE",
          "MALE",
          "FEMALE",
          "MALE",
          ".",
          "MALE",
          "FEMALE",
          null,
          "FEMALE",
          "MALE",
          "FEMALE",
          "MALE"
         ],
         "legendgroup": "",
         "name": "",
         "showlegend": true,
         "type": "pie"
        }
       ],
       "layout": {
        "legend": {
         "tracegroupgap": 0
        },
        "piecolorway": [
         "#491D8B",
         "#7D3AC1",
         "#EB548C",
         "#F1C40F"
        ],
        "template": {
         "data": {
          "bar": [
           {
            "error_x": {
             "color": "#2a3f5f"
            },
            "error_y": {
             "color": "#2a3f5f"
            },
            "marker": {
             "line": {
              "color": "#E5ECF6",
              "width": 0.5
             },
             "pattern": {
              "fillmode": "overlay",
              "size": 10,
              "solidity": 0.2
             }
            },
            "type": "bar"
           }
          ],
          "barpolar": [
           {
            "marker": {
             "line": {
              "color": "#E5ECF6",
              "width": 0.5
             },
             "pattern": {
              "fillmode": "overlay",
              "size": 10,
              "solidity": 0.2
             }
            },
            "type": "barpolar"
           }
          ],
          "carpet": [
           {
            "aaxis": {
             "endlinecolor": "#2a3f5f",
             "gridcolor": "white",
             "linecolor": "white",
             "minorgridcolor": "white",
             "startlinecolor": "#2a3f5f"
            },
            "baxis": {
             "endlinecolor": "#2a3f5f",
             "gridcolor": "white",
             "linecolor": "white",
             "minorgridcolor": "white",
             "startlinecolor": "#2a3f5f"
            },
            "type": "carpet"
           }
          ],
          "choropleth": [
           {
            "colorbar": {
             "outlinewidth": 0,
             "ticks": ""
            },
            "type": "choropleth"
           }
          ],
          "contour": [
           {
            "colorbar": {
             "outlinewidth": 0,
             "ticks": ""
            },
            "colorscale": [
             [
              0,
              "#0d0887"
             ],
             [
              0.1111111111111111,
              "#46039f"
             ],
             [
              0.2222222222222222,
              "#7201a8"
             ],
             [
              0.3333333333333333,
              "#9c179e"
             ],
             [
              0.4444444444444444,
              "#bd3786"
             ],
             [
              0.5555555555555556,
              "#d8576b"
             ],
             [
              0.6666666666666666,
              "#ed7953"
             ],
             [
              0.7777777777777778,
              "#fb9f3a"
             ],
             [
              0.8888888888888888,
              "#fdca26"
             ],
             [
              1,
              "#f0f921"
             ]
            ],
            "type": "contour"
           }
          ],
          "contourcarpet": [
           {
            "colorbar": {
             "outlinewidth": 0,
             "ticks": ""
            },
            "type": "contourcarpet"
           }
          ],
          "heatmap": [
           {
            "colorbar": {
             "outlinewidth": 0,
             "ticks": ""
            },
            "colorscale": [
             [
              0,
              "#0d0887"
             ],
             [
              0.1111111111111111,
              "#46039f"
             ],
             [
              0.2222222222222222,
              "#7201a8"
             ],
             [
              0.3333333333333333,
              "#9c179e"
             ],
             [
              0.4444444444444444,
              "#bd3786"
             ],
             [
              0.5555555555555556,
              "#d8576b"
             ],
             [
              0.6666666666666666,
              "#ed7953"
             ],
             [
              0.7777777777777778,
              "#fb9f3a"
             ],
             [
              0.8888888888888888,
              "#fdca26"
             ],
             [
              1,
              "#f0f921"
             ]
            ],
            "type": "heatmap"
           }
          ],
          "heatmapgl": [
           {
            "colorbar": {
             "outlinewidth": 0,
             "ticks": ""
            },
            "colorscale": [
             [
              0,
              "#0d0887"
             ],
             [
              0.1111111111111111,
              "#46039f"
             ],
             [
              0.2222222222222222,
              "#7201a8"
             ],
             [
              0.3333333333333333,
              "#9c179e"
             ],
             [
              0.4444444444444444,
              "#bd3786"
             ],
             [
              0.5555555555555556,
              "#d8576b"
             ],
             [
              0.6666666666666666,
              "#ed7953"
             ],
             [
              0.7777777777777778,
              "#fb9f3a"
             ],
             [
              0.8888888888888888,
              "#fdca26"
             ],
             [
              1,
              "#f0f921"
             ]
            ],
            "type": "heatmapgl"
           }
          ],
          "histogram": [
           {
            "marker": {
             "pattern": {
              "fillmode": "overlay",
              "size": 10,
              "solidity": 0.2
             }
            },
            "type": "histogram"
           }
          ],
          "histogram2d": [
           {
            "colorbar": {
             "outlinewidth": 0,
             "ticks": ""
            },
            "colorscale": [
             [
              0,
              "#0d0887"
             ],
             [
              0.1111111111111111,
              "#46039f"
             ],
             [
              0.2222222222222222,
              "#7201a8"
             ],
             [
              0.3333333333333333,
              "#9c179e"
             ],
             [
              0.4444444444444444,
              "#bd3786"
             ],
             [
              0.5555555555555556,
              "#d8576b"
             ],
             [
              0.6666666666666666,
              "#ed7953"
             ],
             [
              0.7777777777777778,
              "#fb9f3a"
             ],
             [
              0.8888888888888888,
              "#fdca26"
             ],
             [
              1,
              "#f0f921"
             ]
            ],
            "type": "histogram2d"
           }
          ],
          "histogram2dcontour": [
           {
            "colorbar": {
             "outlinewidth": 0,
             "ticks": ""
            },
            "colorscale": [
             [
              0,
              "#0d0887"
             ],
             [
              0.1111111111111111,
              "#46039f"
             ],
             [
              0.2222222222222222,
              "#7201a8"
             ],
             [
              0.3333333333333333,
              "#9c179e"
             ],
             [
              0.4444444444444444,
              "#bd3786"
             ],
             [
              0.5555555555555556,
              "#d8576b"
             ],
             [
              0.6666666666666666,
              "#ed7953"
             ],
             [
              0.7777777777777778,
              "#fb9f3a"
             ],
             [
              0.8888888888888888,
              "#fdca26"
             ],
             [
              1,
              "#f0f921"
             ]
            ],
            "type": "histogram2dcontour"
           }
          ],
          "mesh3d": [
           {
            "colorbar": {
             "outlinewidth": 0,
             "ticks": ""
            },
            "type": "mesh3d"
           }
          ],
          "parcoords": [
           {
            "line": {
             "colorbar": {
              "outlinewidth": 0,
              "ticks": ""
             }
            },
            "type": "parcoords"
           }
          ],
          "pie": [
           {
            "automargin": true,
            "type": "pie"
           }
          ],
          "scatter": [
           {
            "fillpattern": {
             "fillmode": "overlay",
             "size": 10,
             "solidity": 0.2
            },
            "type": "scatter"
           }
          ],
          "scatter3d": [
           {
            "line": {
             "colorbar": {
              "outlinewidth": 0,
              "ticks": ""
             }
            },
            "marker": {
             "colorbar": {
              "outlinewidth": 0,
              "ticks": ""
             }
            },
            "type": "scatter3d"
           }
          ],
          "scattercarpet": [
           {
            "marker": {
             "colorbar": {
              "outlinewidth": 0,
              "ticks": ""
             }
            },
            "type": "scattercarpet"
           }
          ],
          "scattergeo": [
           {
            "marker": {
             "colorbar": {
              "outlinewidth": 0,
              "ticks": ""
             }
            },
            "type": "scattergeo"
           }
          ],
          "scattergl": [
           {
            "marker": {
             "colorbar": {
              "outlinewidth": 0,
              "ticks": ""
             }
            },
            "type": "scattergl"
           }
          ],
          "scattermapbox": [
           {
            "marker": {
             "colorbar": {
              "outlinewidth": 0,
              "ticks": ""
             }
            },
            "type": "scattermapbox"
           }
          ],
          "scatterpolar": [
           {
            "marker": {
             "colorbar": {
              "outlinewidth": 0,
              "ticks": ""
             }
            },
            "type": "scatterpolar"
           }
          ],
          "scatterpolargl": [
           {
            "marker": {
             "colorbar": {
              "outlinewidth": 0,
              "ticks": ""
             }
            },
            "type": "scatterpolargl"
           }
          ],
          "scatterternary": [
           {
            "marker": {
             "colorbar": {
              "outlinewidth": 0,
              "ticks": ""
             }
            },
            "type": "scatterternary"
           }
          ],
          "surface": [
           {
            "colorbar": {
             "outlinewidth": 0,
             "ticks": ""
            },
            "colorscale": [
             [
              0,
              "#0d0887"
             ],
             [
              0.1111111111111111,
              "#46039f"
             ],
             [
              0.2222222222222222,
              "#7201a8"
             ],
             [
              0.3333333333333333,
              "#9c179e"
             ],
             [
              0.4444444444444444,
              "#bd3786"
             ],
             [
              0.5555555555555556,
              "#d8576b"
             ],
             [
              0.6666666666666666,
              "#ed7953"
             ],
             [
              0.7777777777777778,
              "#fb9f3a"
             ],
             [
              0.8888888888888888,
              "#fdca26"
             ],
             [
              1,
              "#f0f921"
             ]
            ],
            "type": "surface"
           }
          ],
          "table": [
           {
            "cells": {
             "fill": {
              "color": "#EBF0F8"
             },
             "line": {
              "color": "white"
             }
            },
            "header": {
             "fill": {
              "color": "#C8D4E3"
             },
             "line": {
              "color": "white"
             }
            },
            "type": "table"
           }
          ]
         },
         "layout": {
          "annotationdefaults": {
           "arrowcolor": "#2a3f5f",
           "arrowhead": 0,
           "arrowwidth": 1
          },
          "autotypenumbers": "strict",
          "coloraxis": {
           "colorbar": {
            "outlinewidth": 0,
            "ticks": ""
           }
          },
          "colorscale": {
           "diverging": [
            [
             0,
             "#8e0152"
            ],
            [
             0.1,
             "#c51b7d"
            ],
            [
             0.2,
             "#de77ae"
            ],
            [
             0.3,
             "#f1b6da"
            ],
            [
             0.4,
             "#fde0ef"
            ],
            [
             0.5,
             "#f7f7f7"
            ],
            [
             0.6,
             "#e6f5d0"
            ],
            [
             0.7,
             "#b8e186"
            ],
            [
             0.8,
             "#7fbc41"
            ],
            [
             0.9,
             "#4d9221"
            ],
            [
             1,
             "#276419"
            ]
           ],
           "sequential": [
            [
             0,
             "#0d0887"
            ],
            [
             0.1111111111111111,
             "#46039f"
            ],
            [
             0.2222222222222222,
             "#7201a8"
            ],
            [
             0.3333333333333333,
             "#9c179e"
            ],
            [
             0.4444444444444444,
             "#bd3786"
            ],
            [
             0.5555555555555556,
             "#d8576b"
            ],
            [
             0.6666666666666666,
             "#ed7953"
            ],
            [
             0.7777777777777778,
             "#fb9f3a"
            ],
            [
             0.8888888888888888,
             "#fdca26"
            ],
            [
             1,
             "#f0f921"
            ]
           ],
           "sequentialminus": [
            [
             0,
             "#0d0887"
            ],
            [
             0.1111111111111111,
             "#46039f"
            ],
            [
             0.2222222222222222,
             "#7201a8"
            ],
            [
             0.3333333333333333,
             "#9c179e"
            ],
            [
             0.4444444444444444,
             "#bd3786"
            ],
            [
             0.5555555555555556,
             "#d8576b"
            ],
            [
             0.6666666666666666,
             "#ed7953"
            ],
            [
             0.7777777777777778,
             "#fb9f3a"
            ],
            [
             0.8888888888888888,
             "#fdca26"
            ],
            [
             1,
             "#f0f921"
            ]
           ]
          },
          "colorway": [
           "#636efa",
           "#EF553B",
           "#00cc96",
           "#ab63fa",
           "#FFA15A",
           "#19d3f3",
           "#FF6692",
           "#B6E880",
           "#FF97FF",
           "#FECB52"
          ],
          "font": {
           "color": "#2a3f5f"
          },
          "geo": {
           "bgcolor": "white",
           "lakecolor": "white",
           "landcolor": "#E5ECF6",
           "showlakes": true,
           "showland": true,
           "subunitcolor": "white"
          },
          "hoverlabel": {
           "align": "left"
          },
          "hovermode": "closest",
          "mapbox": {
           "style": "light"
          },
          "paper_bgcolor": "white",
          "plot_bgcolor": "#E5ECF6",
          "polar": {
           "angularaxis": {
            "gridcolor": "white",
            "linecolor": "white",
            "ticks": ""
           },
           "bgcolor": "#E5ECF6",
           "radialaxis": {
            "gridcolor": "white",
            "linecolor": "white",
            "ticks": ""
           }
          },
          "scene": {
           "xaxis": {
            "backgroundcolor": "#E5ECF6",
            "gridcolor": "white",
            "gridwidth": 2,
            "linecolor": "white",
            "showbackground": true,
            "ticks": "",
            "zerolinecolor": "white"
           },
           "yaxis": {
            "backgroundcolor": "#E5ECF6",
            "gridcolor": "white",
            "gridwidth": 2,
            "linecolor": "white",
            "showbackground": true,
            "ticks": "",
            "zerolinecolor": "white"
           },
           "zaxis": {
            "backgroundcolor": "#E5ECF6",
            "gridcolor": "white",
            "gridwidth": 2,
            "linecolor": "white",
            "showbackground": true,
            "ticks": "",
            "zerolinecolor": "white"
           }
          },
          "shapedefaults": {
           "line": {
            "color": "#2a3f5f"
           }
          },
          "ternary": {
           "aaxis": {
            "gridcolor": "white",
            "linecolor": "white",
            "ticks": ""
           },
           "baxis": {
            "gridcolor": "white",
            "linecolor": "white",
            "ticks": ""
           },
           "bgcolor": "#E5ECF6",
           "caxis": {
            "gridcolor": "white",
            "linecolor": "white",
            "ticks": ""
           }
          },
          "title": {
           "x": 0.05
          },
          "xaxis": {
           "automargin": true,
           "gridcolor": "white",
           "linecolor": "white",
           "ticks": "",
           "title": {
            "standoff": 15
           },
           "zerolinecolor": "white",
           "zerolinewidth": 2
          },
          "yaxis": {
           "automargin": true,
           "gridcolor": "white",
           "linecolor": "white",
           "ticks": "",
           "title": {
            "standoff": 15
           },
           "zerolinecolor": "white",
           "zerolinewidth": 2
          }
         }
        },
        "title": {
         "text": "Data Distribution"
        }
       }
      }
     },
     "metadata": {},
     "output_type": "display_data"
    }
   ],
   "source": [
    "fig = px.pie(penguin,'sex',color_discrete_sequence=['#491D8B','#7D3AC1','#EB548C','#F1C40F'],title='Data Distribution',template='plotly')\n",
    "fig.show()"
   ]
  },
  {
   "cell_type": "code",
   "execution_count": 4,
   "id": "3b8cb866",
   "metadata": {},
   "outputs": [
    {
     "data": {
      "application/vnd.plotly.v1+json": {
       "config": {
        "plotlyServerURL": "https://plot.ly"
       },
       "data": [
        {
         "alignmentgroup": "True",
         "hovertemplate": "sex=%{x}<br>culmen_length_mm=%{y}<extra></extra>",
         "legendgroup": "MALE",
         "marker": {
          "color": "#29066B"
         },
         "name": "MALE",
         "notched": false,
         "offsetgroup": "MALE",
         "orientation": "v",
         "showlegend": true,
         "type": "box",
         "x": [
          "MALE",
          "MALE",
          "MALE",
          "MALE",
          "MALE",
          "MALE",
          "MALE",
          "MALE",
          "MALE",
          "MALE",
          "MALE",
          "MALE",
          "MALE",
          "MALE",
          "MALE",
          "MALE",
          "MALE",
          "MALE",
          "MALE",
          "MALE",
          "MALE",
          "MALE",
          "MALE",
          "MALE",
          "MALE",
          "MALE",
          "MALE",
          "MALE",
          "MALE",
          "MALE",
          "MALE",
          "MALE",
          "MALE",
          "MALE",
          "MALE",
          "MALE",
          "MALE",
          "MALE",
          "MALE",
          "MALE",
          "MALE",
          "MALE",
          "MALE",
          "MALE",
          "MALE",
          "MALE",
          "MALE",
          "MALE",
          "MALE",
          "MALE",
          "MALE",
          "MALE",
          "MALE",
          "MALE",
          "MALE",
          "MALE",
          "MALE",
          "MALE",
          "MALE",
          "MALE",
          "MALE",
          "MALE",
          "MALE",
          "MALE",
          "MALE",
          "MALE",
          "MALE",
          "MALE",
          "MALE",
          "MALE",
          "MALE",
          "MALE",
          "MALE",
          "MALE",
          "MALE",
          "MALE",
          "MALE",
          "MALE",
          "MALE",
          "MALE",
          "MALE",
          "MALE",
          "MALE",
          "MALE",
          "MALE",
          "MALE",
          "MALE",
          "MALE",
          "MALE",
          "MALE",
          "MALE",
          "MALE",
          "MALE",
          "MALE",
          "MALE",
          "MALE",
          "MALE",
          "MALE",
          "MALE",
          "MALE",
          "MALE",
          "MALE",
          "MALE",
          "MALE",
          "MALE",
          "MALE",
          "MALE",
          "MALE",
          "MALE",
          "MALE",
          "MALE",
          "MALE",
          "MALE",
          "MALE",
          "MALE",
          "MALE",
          "MALE",
          "MALE",
          "MALE",
          "MALE",
          "MALE",
          "MALE",
          "MALE",
          "MALE",
          "MALE",
          "MALE",
          "MALE",
          "MALE",
          "MALE",
          "MALE",
          "MALE",
          "MALE",
          "MALE",
          "MALE",
          "MALE",
          "MALE",
          "MALE",
          "MALE",
          "MALE",
          "MALE",
          "MALE",
          "MALE",
          "MALE",
          "MALE",
          "MALE",
          "MALE",
          "MALE",
          "MALE",
          "MALE",
          "MALE",
          "MALE",
          "MALE",
          "MALE",
          "MALE",
          "MALE",
          "MALE",
          "MALE",
          "MALE",
          "MALE",
          "MALE",
          "MALE",
          "MALE",
          "MALE",
          "MALE",
          "MALE",
          "MALE",
          "MALE",
          "MALE",
          "MALE"
         ],
         "x0": " ",
         "xaxis": "x",
         "y": [
          39.1,
          39.3,
          39.2,
          42,
          38.6,
          34.6,
          42.5,
          46,
          37.7,
          38.2,
          38.8,
          40.6,
          40.5,
          37.2,
          40.9,
          39.2,
          38.8,
          39.8,
          40.8,
          44.1,
          39.6,
          41.1,
          42.3,
          40.1,
          42,
          41.4,
          40.6,
          37.6,
          41.3,
          41.1,
          41.6,
          41.1,
          41.8,
          39.7,
          45.8,
          42.8,
          37.2,
          42.1,
          42.9,
          35.1,
          41.3,
          36.3,
          38.3,
          41.1,
          39.6,
          40.8,
          40.3,
          43.2,
          41,
          37.8,
          39.7,
          38.2,
          43.2,
          45.6,
          42.2,
          42.7,
          37.3,
          41.1,
          37.7,
          41.4,
          40.6,
          41.5,
          44.1,
          43.1,
          37.5,
          41.1,
          40.2,
          39.7,
          40.6,
          40.7,
          39,
          39.2,
          37.8,
          41.5,
          50,
          51.3,
          52.7,
          51.3,
          51.3,
          51.7,
          52,
          50.5,
          50.3,
          49.2,
          48.5,
          50.6,
          52,
          49.5,
          52.8,
          54.2,
          51,
          49.7,
          52,
          53.5,
          49,
          50.9,
          50.8,
          49,
          51.5,
          51.4,
          50.7,
          52.2,
          49.3,
          50.2,
          51.9,
          55.8,
          49.6,
          50.8,
          50,
          50,
          47.6,
          46.7,
          46.8,
          49,
          48.4,
          49.3,
          49.2,
          48.7,
          50.2,
          46.3,
          46.1,
          47.8,
          50,
          47.3,
          59.6,
          48.4,
          44.4,
          48.7,
          49.6,
          49.6,
          50.5,
          50.5,
          45.2,
          48.5,
          50.1,
          45,
          45.5,
          50.4,
          46.2,
          54.3,
          49.8,
          49.5,
          50.7,
          46.4,
          48.2,
          48.6,
          51.1,
          45.2,
          52.5,
          50,
          50.8,
          51.3,
          52.1,
          52.2,
          49.5,
          50.8,
          49.4,
          51.1,
          55.9,
          49.1,
          46.8,
          53.4,
          48.1,
          49.8,
          51.5,
          55.1,
          48.8,
          50.4,
          49.9
         ],
         "y0": " ",
         "yaxis": "y"
        },
        {
         "alignmentgroup": "True",
         "hovertemplate": "sex=%{x}<br>culmen_length_mm=%{y}<extra></extra>",
         "legendgroup": "FEMALE",
         "marker": {
          "color": "#EB548C"
         },
         "name": "FEMALE",
         "notched": false,
         "offsetgroup": "FEMALE",
         "orientation": "v",
         "showlegend": true,
         "type": "box",
         "x": [
          "FEMALE",
          "FEMALE",
          "FEMALE",
          "FEMALE",
          "FEMALE",
          "FEMALE",
          "FEMALE",
          "FEMALE",
          "FEMALE",
          "FEMALE",
          "FEMALE",
          "FEMALE",
          "FEMALE",
          "FEMALE",
          "FEMALE",
          "FEMALE",
          "FEMALE",
          "FEMALE",
          "FEMALE",
          "FEMALE",
          "FEMALE",
          "FEMALE",
          "FEMALE",
          "FEMALE",
          "FEMALE",
          "FEMALE",
          "FEMALE",
          "FEMALE",
          "FEMALE",
          "FEMALE",
          "FEMALE",
          "FEMALE",
          "FEMALE",
          "FEMALE",
          "FEMALE",
          "FEMALE",
          "FEMALE",
          "FEMALE",
          "FEMALE",
          "FEMALE",
          "FEMALE",
          "FEMALE",
          "FEMALE",
          "FEMALE",
          "FEMALE",
          "FEMALE",
          "FEMALE",
          "FEMALE",
          "FEMALE",
          "FEMALE",
          "FEMALE",
          "FEMALE",
          "FEMALE",
          "FEMALE",
          "FEMALE",
          "FEMALE",
          "FEMALE",
          "FEMALE",
          "FEMALE",
          "FEMALE",
          "FEMALE",
          "FEMALE",
          "FEMALE",
          "FEMALE",
          "FEMALE",
          "FEMALE",
          "FEMALE",
          "FEMALE",
          "FEMALE",
          "FEMALE",
          "FEMALE",
          "FEMALE",
          "FEMALE",
          "FEMALE",
          "FEMALE",
          "FEMALE",
          "FEMALE",
          "FEMALE",
          "FEMALE",
          "FEMALE",
          "FEMALE",
          "FEMALE",
          "FEMALE",
          "FEMALE",
          "FEMALE",
          "FEMALE",
          "FEMALE",
          "FEMALE",
          "FEMALE",
          "FEMALE",
          "FEMALE",
          "FEMALE",
          "FEMALE",
          "FEMALE",
          "FEMALE",
          "FEMALE",
          "FEMALE",
          "FEMALE",
          "FEMALE",
          "FEMALE",
          "FEMALE",
          "FEMALE",
          "FEMALE",
          "FEMALE",
          "FEMALE",
          "FEMALE",
          "FEMALE",
          "FEMALE",
          "FEMALE",
          "FEMALE",
          "FEMALE",
          "FEMALE",
          "FEMALE",
          "FEMALE",
          "FEMALE",
          "FEMALE",
          "FEMALE",
          "FEMALE",
          "FEMALE",
          "FEMALE",
          "FEMALE",
          "FEMALE",
          "FEMALE",
          "FEMALE",
          "FEMALE",
          "FEMALE",
          "FEMALE",
          "FEMALE",
          "FEMALE",
          "FEMALE",
          "FEMALE",
          "FEMALE",
          "FEMALE",
          "FEMALE",
          "FEMALE",
          "FEMALE",
          "FEMALE",
          "FEMALE",
          "FEMALE",
          "FEMALE",
          "FEMALE",
          "FEMALE",
          "FEMALE",
          "FEMALE",
          "FEMALE",
          "FEMALE",
          "FEMALE",
          "FEMALE",
          "FEMALE",
          "FEMALE",
          "FEMALE",
          "FEMALE",
          "FEMALE",
          "FEMALE",
          "FEMALE",
          "FEMALE",
          "FEMALE",
          "FEMALE",
          "FEMALE",
          "FEMALE",
          "FEMALE",
          "FEMALE",
          "FEMALE",
          "FEMALE",
          "FEMALE"
         ],
         "x0": " ",
         "xaxis": "x",
         "y": [
          39.5,
          40.3,
          36.7,
          38.9,
          41.1,
          36.6,
          38.7,
          34.4,
          37.8,
          35.9,
          35.3,
          40.5,
          37.9,
          39.5,
          39.5,
          36.4,
          42.2,
          37.6,
          36.5,
          36,
          37,
          36,
          39.6,
          35,
          34.5,
          39,
          36.5,
          35.7,
          37.6,
          36.4,
          35.5,
          35.9,
          33.5,
          39.6,
          35.5,
          40.9,
          36.2,
          34.6,
          36.7,
          37.3,
          36.9,
          38.9,
          35.7,
          34,
          36.2,
          38.1,
          33.1,
          35,
          37.7,
          37.9,
          38.6,
          38.1,
          38.1,
          39.7,
          39.6,
          38.6,
          35.7,
          36.2,
          40.2,
          35.2,
          38.8,
          39,
          38.5,
          36.8,
          38.1,
          35.6,
          37,
          40.2,
          32.1,
          37.3,
          36.6,
          36,
          36,
          46.5,
          45.4,
          45.2,
          46.1,
          46,
          46.6,
          47,
          45.9,
          58,
          46.4,
          42.4,
          43.2,
          46.7,
          50.5,
          46.4,
          40.9,
          42.5,
          47.5,
          47.6,
          46.9,
          46.2,
          45.5,
          50.9,
          50.1,
          49.8,
          48.1,
          45.7,
          42.5,
          45.2,
          45.6,
          46.8,
          45.7,
          43.5,
          50.2,
          46.1,
          48.7,
          46.5,
          45.4,
          43.3,
          40.9,
          45.5,
          45.8,
          42,
          46.2,
          45.1,
          46.5,
          42.9,
          48.2,
          42.8,
          45.1,
          49.1,
          42.6,
          44,
          42.7,
          45.3,
          43.6,
          45.5,
          44.9,
          46.6,
          45.1,
          46.5,
          43.8,
          43.2,
          45.3,
          45.7,
          45.8,
          43.5,
          47.7,
          46.5,
          46.4,
          47.5,
          45.2,
          49.1,
          47.4,
          44.9,
          43.4,
          47.5,
          47.5,
          45.5,
          44.5,
          46.9,
          48.4,
          48.5,
          47.2,
          41.7,
          43.3,
          50.5,
          43.5,
          46.2,
          47.2,
          46.8,
          45.2
         ],
         "y0": " ",
         "yaxis": "y"
        },
        {
         "alignmentgroup": "True",
         "hovertemplate": "sex=%{x}<br>culmen_length_mm=%{y}<extra></extra>",
         "legendgroup": ".",
         "marker": {
          "color": "#F39C12"
         },
         "name": ".",
         "notched": false,
         "offsetgroup": ".",
         "orientation": "v",
         "showlegend": true,
         "type": "box",
         "x": [
          "."
         ],
         "x0": " ",
         "xaxis": "x",
         "y": [
          44.5
         ],
         "y0": " ",
         "yaxis": "y"
        }
       ],
       "layout": {
        "boxmode": "overlay",
        "legend": {
         "title": {
          "text": "sex"
         },
         "tracegroupgap": 0
        },
        "template": {
         "data": {
          "bar": [
           {
            "error_x": {
             "color": "#2a3f5f"
            },
            "error_y": {
             "color": "#2a3f5f"
            },
            "marker": {
             "line": {
              "color": "#E5ECF6",
              "width": 0.5
             },
             "pattern": {
              "fillmode": "overlay",
              "size": 10,
              "solidity": 0.2
             }
            },
            "type": "bar"
           }
          ],
          "barpolar": [
           {
            "marker": {
             "line": {
              "color": "#E5ECF6",
              "width": 0.5
             },
             "pattern": {
              "fillmode": "overlay",
              "size": 10,
              "solidity": 0.2
             }
            },
            "type": "barpolar"
           }
          ],
          "carpet": [
           {
            "aaxis": {
             "endlinecolor": "#2a3f5f",
             "gridcolor": "white",
             "linecolor": "white",
             "minorgridcolor": "white",
             "startlinecolor": "#2a3f5f"
            },
            "baxis": {
             "endlinecolor": "#2a3f5f",
             "gridcolor": "white",
             "linecolor": "white",
             "minorgridcolor": "white",
             "startlinecolor": "#2a3f5f"
            },
            "type": "carpet"
           }
          ],
          "choropleth": [
           {
            "colorbar": {
             "outlinewidth": 0,
             "ticks": ""
            },
            "type": "choropleth"
           }
          ],
          "contour": [
           {
            "colorbar": {
             "outlinewidth": 0,
             "ticks": ""
            },
            "colorscale": [
             [
              0,
              "#0d0887"
             ],
             [
              0.1111111111111111,
              "#46039f"
             ],
             [
              0.2222222222222222,
              "#7201a8"
             ],
             [
              0.3333333333333333,
              "#9c179e"
             ],
             [
              0.4444444444444444,
              "#bd3786"
             ],
             [
              0.5555555555555556,
              "#d8576b"
             ],
             [
              0.6666666666666666,
              "#ed7953"
             ],
             [
              0.7777777777777778,
              "#fb9f3a"
             ],
             [
              0.8888888888888888,
              "#fdca26"
             ],
             [
              1,
              "#f0f921"
             ]
            ],
            "type": "contour"
           }
          ],
          "contourcarpet": [
           {
            "colorbar": {
             "outlinewidth": 0,
             "ticks": ""
            },
            "type": "contourcarpet"
           }
          ],
          "heatmap": [
           {
            "colorbar": {
             "outlinewidth": 0,
             "ticks": ""
            },
            "colorscale": [
             [
              0,
              "#0d0887"
             ],
             [
              0.1111111111111111,
              "#46039f"
             ],
             [
              0.2222222222222222,
              "#7201a8"
             ],
             [
              0.3333333333333333,
              "#9c179e"
             ],
             [
              0.4444444444444444,
              "#bd3786"
             ],
             [
              0.5555555555555556,
              "#d8576b"
             ],
             [
              0.6666666666666666,
              "#ed7953"
             ],
             [
              0.7777777777777778,
              "#fb9f3a"
             ],
             [
              0.8888888888888888,
              "#fdca26"
             ],
             [
              1,
              "#f0f921"
             ]
            ],
            "type": "heatmap"
           }
          ],
          "heatmapgl": [
           {
            "colorbar": {
             "outlinewidth": 0,
             "ticks": ""
            },
            "colorscale": [
             [
              0,
              "#0d0887"
             ],
             [
              0.1111111111111111,
              "#46039f"
             ],
             [
              0.2222222222222222,
              "#7201a8"
             ],
             [
              0.3333333333333333,
              "#9c179e"
             ],
             [
              0.4444444444444444,
              "#bd3786"
             ],
             [
              0.5555555555555556,
              "#d8576b"
             ],
             [
              0.6666666666666666,
              "#ed7953"
             ],
             [
              0.7777777777777778,
              "#fb9f3a"
             ],
             [
              0.8888888888888888,
              "#fdca26"
             ],
             [
              1,
              "#f0f921"
             ]
            ],
            "type": "heatmapgl"
           }
          ],
          "histogram": [
           {
            "marker": {
             "pattern": {
              "fillmode": "overlay",
              "size": 10,
              "solidity": 0.2
             }
            },
            "type": "histogram"
           }
          ],
          "histogram2d": [
           {
            "colorbar": {
             "outlinewidth": 0,
             "ticks": ""
            },
            "colorscale": [
             [
              0,
              "#0d0887"
             ],
             [
              0.1111111111111111,
              "#46039f"
             ],
             [
              0.2222222222222222,
              "#7201a8"
             ],
             [
              0.3333333333333333,
              "#9c179e"
             ],
             [
              0.4444444444444444,
              "#bd3786"
             ],
             [
              0.5555555555555556,
              "#d8576b"
             ],
             [
              0.6666666666666666,
              "#ed7953"
             ],
             [
              0.7777777777777778,
              "#fb9f3a"
             ],
             [
              0.8888888888888888,
              "#fdca26"
             ],
             [
              1,
              "#f0f921"
             ]
            ],
            "type": "histogram2d"
           }
          ],
          "histogram2dcontour": [
           {
            "colorbar": {
             "outlinewidth": 0,
             "ticks": ""
            },
            "colorscale": [
             [
              0,
              "#0d0887"
             ],
             [
              0.1111111111111111,
              "#46039f"
             ],
             [
              0.2222222222222222,
              "#7201a8"
             ],
             [
              0.3333333333333333,
              "#9c179e"
             ],
             [
              0.4444444444444444,
              "#bd3786"
             ],
             [
              0.5555555555555556,
              "#d8576b"
             ],
             [
              0.6666666666666666,
              "#ed7953"
             ],
             [
              0.7777777777777778,
              "#fb9f3a"
             ],
             [
              0.8888888888888888,
              "#fdca26"
             ],
             [
              1,
              "#f0f921"
             ]
            ],
            "type": "histogram2dcontour"
           }
          ],
          "mesh3d": [
           {
            "colorbar": {
             "outlinewidth": 0,
             "ticks": ""
            },
            "type": "mesh3d"
           }
          ],
          "parcoords": [
           {
            "line": {
             "colorbar": {
              "outlinewidth": 0,
              "ticks": ""
             }
            },
            "type": "parcoords"
           }
          ],
          "pie": [
           {
            "automargin": true,
            "type": "pie"
           }
          ],
          "scatter": [
           {
            "fillpattern": {
             "fillmode": "overlay",
             "size": 10,
             "solidity": 0.2
            },
            "type": "scatter"
           }
          ],
          "scatter3d": [
           {
            "line": {
             "colorbar": {
              "outlinewidth": 0,
              "ticks": ""
             }
            },
            "marker": {
             "colorbar": {
              "outlinewidth": 0,
              "ticks": ""
             }
            },
            "type": "scatter3d"
           }
          ],
          "scattercarpet": [
           {
            "marker": {
             "colorbar": {
              "outlinewidth": 0,
              "ticks": ""
             }
            },
            "type": "scattercarpet"
           }
          ],
          "scattergeo": [
           {
            "marker": {
             "colorbar": {
              "outlinewidth": 0,
              "ticks": ""
             }
            },
            "type": "scattergeo"
           }
          ],
          "scattergl": [
           {
            "marker": {
             "colorbar": {
              "outlinewidth": 0,
              "ticks": ""
             }
            },
            "type": "scattergl"
           }
          ],
          "scattermapbox": [
           {
            "marker": {
             "colorbar": {
              "outlinewidth": 0,
              "ticks": ""
             }
            },
            "type": "scattermapbox"
           }
          ],
          "scatterpolar": [
           {
            "marker": {
             "colorbar": {
              "outlinewidth": 0,
              "ticks": ""
             }
            },
            "type": "scatterpolar"
           }
          ],
          "scatterpolargl": [
           {
            "marker": {
             "colorbar": {
              "outlinewidth": 0,
              "ticks": ""
             }
            },
            "type": "scatterpolargl"
           }
          ],
          "scatterternary": [
           {
            "marker": {
             "colorbar": {
              "outlinewidth": 0,
              "ticks": ""
             }
            },
            "type": "scatterternary"
           }
          ],
          "surface": [
           {
            "colorbar": {
             "outlinewidth": 0,
             "ticks": ""
            },
            "colorscale": [
             [
              0,
              "#0d0887"
             ],
             [
              0.1111111111111111,
              "#46039f"
             ],
             [
              0.2222222222222222,
              "#7201a8"
             ],
             [
              0.3333333333333333,
              "#9c179e"
             ],
             [
              0.4444444444444444,
              "#bd3786"
             ],
             [
              0.5555555555555556,
              "#d8576b"
             ],
             [
              0.6666666666666666,
              "#ed7953"
             ],
             [
              0.7777777777777778,
              "#fb9f3a"
             ],
             [
              0.8888888888888888,
              "#fdca26"
             ],
             [
              1,
              "#f0f921"
             ]
            ],
            "type": "surface"
           }
          ],
          "table": [
           {
            "cells": {
             "fill": {
              "color": "#EBF0F8"
             },
             "line": {
              "color": "white"
             }
            },
            "header": {
             "fill": {
              "color": "#C8D4E3"
             },
             "line": {
              "color": "white"
             }
            },
            "type": "table"
           }
          ]
         },
         "layout": {
          "annotationdefaults": {
           "arrowcolor": "#2a3f5f",
           "arrowhead": 0,
           "arrowwidth": 1
          },
          "autotypenumbers": "strict",
          "coloraxis": {
           "colorbar": {
            "outlinewidth": 0,
            "ticks": ""
           }
          },
          "colorscale": {
           "diverging": [
            [
             0,
             "#8e0152"
            ],
            [
             0.1,
             "#c51b7d"
            ],
            [
             0.2,
             "#de77ae"
            ],
            [
             0.3,
             "#f1b6da"
            ],
            [
             0.4,
             "#fde0ef"
            ],
            [
             0.5,
             "#f7f7f7"
            ],
            [
             0.6,
             "#e6f5d0"
            ],
            [
             0.7,
             "#b8e186"
            ],
            [
             0.8,
             "#7fbc41"
            ],
            [
             0.9,
             "#4d9221"
            ],
            [
             1,
             "#276419"
            ]
           ],
           "sequential": [
            [
             0,
             "#0d0887"
            ],
            [
             0.1111111111111111,
             "#46039f"
            ],
            [
             0.2222222222222222,
             "#7201a8"
            ],
            [
             0.3333333333333333,
             "#9c179e"
            ],
            [
             0.4444444444444444,
             "#bd3786"
            ],
            [
             0.5555555555555556,
             "#d8576b"
            ],
            [
             0.6666666666666666,
             "#ed7953"
            ],
            [
             0.7777777777777778,
             "#fb9f3a"
            ],
            [
             0.8888888888888888,
             "#fdca26"
            ],
            [
             1,
             "#f0f921"
            ]
           ],
           "sequentialminus": [
            [
             0,
             "#0d0887"
            ],
            [
             0.1111111111111111,
             "#46039f"
            ],
            [
             0.2222222222222222,
             "#7201a8"
            ],
            [
             0.3333333333333333,
             "#9c179e"
            ],
            [
             0.4444444444444444,
             "#bd3786"
            ],
            [
             0.5555555555555556,
             "#d8576b"
            ],
            [
             0.6666666666666666,
             "#ed7953"
            ],
            [
             0.7777777777777778,
             "#fb9f3a"
            ],
            [
             0.8888888888888888,
             "#fdca26"
            ],
            [
             1,
             "#f0f921"
            ]
           ]
          },
          "colorway": [
           "#636efa",
           "#EF553B",
           "#00cc96",
           "#ab63fa",
           "#FFA15A",
           "#19d3f3",
           "#FF6692",
           "#B6E880",
           "#FF97FF",
           "#FECB52"
          ],
          "font": {
           "color": "#2a3f5f"
          },
          "geo": {
           "bgcolor": "white",
           "lakecolor": "white",
           "landcolor": "#E5ECF6",
           "showlakes": true,
           "showland": true,
           "subunitcolor": "white"
          },
          "hoverlabel": {
           "align": "left"
          },
          "hovermode": "closest",
          "mapbox": {
           "style": "light"
          },
          "paper_bgcolor": "white",
          "plot_bgcolor": "#E5ECF6",
          "polar": {
           "angularaxis": {
            "gridcolor": "white",
            "linecolor": "white",
            "ticks": ""
           },
           "bgcolor": "#E5ECF6",
           "radialaxis": {
            "gridcolor": "white",
            "linecolor": "white",
            "ticks": ""
           }
          },
          "scene": {
           "xaxis": {
            "backgroundcolor": "#E5ECF6",
            "gridcolor": "white",
            "gridwidth": 2,
            "linecolor": "white",
            "showbackground": true,
            "ticks": "",
            "zerolinecolor": "white"
           },
           "yaxis": {
            "backgroundcolor": "#E5ECF6",
            "gridcolor": "white",
            "gridwidth": 2,
            "linecolor": "white",
            "showbackground": true,
            "ticks": "",
            "zerolinecolor": "white"
           },
           "zaxis": {
            "backgroundcolor": "#E5ECF6",
            "gridcolor": "white",
            "gridwidth": 2,
            "linecolor": "white",
            "showbackground": true,
            "ticks": "",
            "zerolinecolor": "white"
           }
          },
          "shapedefaults": {
           "line": {
            "color": "#2a3f5f"
           }
          },
          "ternary": {
           "aaxis": {
            "gridcolor": "white",
            "linecolor": "white",
            "ticks": ""
           },
           "baxis": {
            "gridcolor": "white",
            "linecolor": "white",
            "ticks": ""
           },
           "bgcolor": "#E5ECF6",
           "caxis": {
            "gridcolor": "white",
            "linecolor": "white",
            "ticks": ""
           }
          },
          "title": {
           "x": 0.05
          },
          "xaxis": {
           "automargin": true,
           "gridcolor": "white",
           "linecolor": "white",
           "ticks": "",
           "title": {
            "standoff": 15
           },
           "zerolinecolor": "white",
           "zerolinewidth": 2
          },
          "yaxis": {
           "automargin": true,
           "gridcolor": "white",
           "linecolor": "white",
           "ticks": "",
           "title": {
            "standoff": 15
           },
           "zerolinecolor": "white",
           "zerolinewidth": 2
          }
         }
        },
        "title": {
         "text": "Box Plot of Culmen Length by Sex"
        },
        "xaxis": {
         "anchor": "y",
         "categoryarray": [
          "MALE",
          "FEMALE",
          null,
          "."
         ],
         "categoryorder": "array",
         "domain": [
          0,
          1
         ],
         "title": {
          "text": "sex"
         }
        },
        "yaxis": {
         "anchor": "x",
         "domain": [
          0,
          1
         ],
         "title": {
          "text": "culmen_length_mm"
         }
        }
       }
      }
     },
     "metadata": {},
     "output_type": "display_data"
    }
   ],
   "source": [
    "fig = px.box(data_frame=penguin, x = 'sex', y = 'culmen_length_mm', color='sex',\n",
    " color_discrete_sequence=['#29066B','#EB548C','#F1C40F', '#F39C12'],title='Box Plot of Culmen Length by Sex',\n",
    " orientation='v')\n",
    "fig.show()\n"
   ]
  },
  {
   "cell_type": "code",
   "execution_count": 5,
   "id": "1cb32b08",
   "metadata": {},
   "outputs": [
    {
     "data": {
      "application/vnd.plotly.v1+json": {
       "config": {
        "plotlyServerURL": "https://plot.ly"
       },
       "data": [
        {
         "alignmentgroup": "True",
         "bingroup": "x",
         "hovertemplate": "sex=MALE<br>culmen_length_mm=%{x}<br>count=%{y}<extra></extra>",
         "legendgroup": "MALE",
         "marker": {
          "color": "#29066B",
          "pattern": {
           "shape": ""
          }
         },
         "name": "MALE",
         "nbinsx": 50,
         "offsetgroup": "MALE",
         "orientation": "v",
         "showlegend": true,
         "type": "histogram",
         "x": [
          39.1,
          39.3,
          39.2,
          42,
          38.6,
          34.6,
          42.5,
          46,
          37.7,
          38.2,
          38.8,
          40.6,
          40.5,
          37.2,
          40.9,
          39.2,
          38.8,
          39.8,
          40.8,
          44.1,
          39.6,
          41.1,
          42.3,
          40.1,
          42,
          41.4,
          40.6,
          37.6,
          41.3,
          41.1,
          41.6,
          41.1,
          41.8,
          39.7,
          45.8,
          42.8,
          37.2,
          42.1,
          42.9,
          35.1,
          41.3,
          36.3,
          38.3,
          41.1,
          39.6,
          40.8,
          40.3,
          43.2,
          41,
          37.8,
          39.7,
          38.2,
          43.2,
          45.6,
          42.2,
          42.7,
          37.3,
          41.1,
          37.7,
          41.4,
          40.6,
          41.5,
          44.1,
          43.1,
          37.5,
          41.1,
          40.2,
          39.7,
          40.6,
          40.7,
          39,
          39.2,
          37.8,
          41.5,
          50,
          51.3,
          52.7,
          51.3,
          51.3,
          51.7,
          52,
          50.5,
          50.3,
          49.2,
          48.5,
          50.6,
          52,
          49.5,
          52.8,
          54.2,
          51,
          49.7,
          52,
          53.5,
          49,
          50.9,
          50.8,
          49,
          51.5,
          51.4,
          50.7,
          52.2,
          49.3,
          50.2,
          51.9,
          55.8,
          49.6,
          50.8,
          50,
          50,
          47.6,
          46.7,
          46.8,
          49,
          48.4,
          49.3,
          49.2,
          48.7,
          50.2,
          46.3,
          46.1,
          47.8,
          50,
          47.3,
          59.6,
          48.4,
          44.4,
          48.7,
          49.6,
          49.6,
          50.5,
          50.5,
          45.2,
          48.5,
          50.1,
          45,
          45.5,
          50.4,
          46.2,
          54.3,
          49.8,
          49.5,
          50.7,
          46.4,
          48.2,
          48.6,
          51.1,
          45.2,
          52.5,
          50,
          50.8,
          51.3,
          52.1,
          52.2,
          49.5,
          50.8,
          49.4,
          51.1,
          55.9,
          49.1,
          46.8,
          53.4,
          48.1,
          49.8,
          51.5,
          55.1,
          48.8,
          50.4,
          49.9
         ],
         "xaxis": "x",
         "yaxis": "y"
        },
        {
         "alignmentgroup": "True",
         "bingroup": "x",
         "hovertemplate": "sex=FEMALE<br>culmen_length_mm=%{x}<br>count=%{y}<extra></extra>",
         "legendgroup": "FEMALE",
         "marker": {
          "color": "#EB548C",
          "pattern": {
           "shape": ""
          }
         },
         "name": "FEMALE",
         "nbinsx": 50,
         "offsetgroup": "FEMALE",
         "orientation": "v",
         "showlegend": true,
         "type": "histogram",
         "x": [
          39.5,
          40.3,
          36.7,
          38.9,
          41.1,
          36.6,
          38.7,
          34.4,
          37.8,
          35.9,
          35.3,
          40.5,
          37.9,
          39.5,
          39.5,
          36.4,
          42.2,
          37.6,
          36.5,
          36,
          37,
          36,
          39.6,
          35,
          34.5,
          39,
          36.5,
          35.7,
          37.6,
          36.4,
          35.5,
          35.9,
          33.5,
          39.6,
          35.5,
          40.9,
          36.2,
          34.6,
          36.7,
          37.3,
          36.9,
          38.9,
          35.7,
          34,
          36.2,
          38.1,
          33.1,
          35,
          37.7,
          37.9,
          38.6,
          38.1,
          38.1,
          39.7,
          39.6,
          38.6,
          35.7,
          36.2,
          40.2,
          35.2,
          38.8,
          39,
          38.5,
          36.8,
          38.1,
          35.6,
          37,
          40.2,
          32.1,
          37.3,
          36.6,
          36,
          36,
          46.5,
          45.4,
          45.2,
          46.1,
          46,
          46.6,
          47,
          45.9,
          58,
          46.4,
          42.4,
          43.2,
          46.7,
          50.5,
          46.4,
          40.9,
          42.5,
          47.5,
          47.6,
          46.9,
          46.2,
          45.5,
          50.9,
          50.1,
          49.8,
          48.1,
          45.7,
          42.5,
          45.2,
          45.6,
          46.8,
          45.7,
          43.5,
          50.2,
          46.1,
          48.7,
          46.5,
          45.4,
          43.3,
          40.9,
          45.5,
          45.8,
          42,
          46.2,
          45.1,
          46.5,
          42.9,
          48.2,
          42.8,
          45.1,
          49.1,
          42.6,
          44,
          42.7,
          45.3,
          43.6,
          45.5,
          44.9,
          46.6,
          45.1,
          46.5,
          43.8,
          43.2,
          45.3,
          45.7,
          45.8,
          43.5,
          47.7,
          46.5,
          46.4,
          47.5,
          45.2,
          49.1,
          47.4,
          44.9,
          43.4,
          47.5,
          47.5,
          45.5,
          44.5,
          46.9,
          48.4,
          48.5,
          47.2,
          41.7,
          43.3,
          50.5,
          43.5,
          46.2,
          47.2,
          46.8,
          45.2
         ],
         "xaxis": "x",
         "yaxis": "y"
        },
        {
         "alignmentgroup": "True",
         "bingroup": "x",
         "hovertemplate": "sex=.<br>culmen_length_mm=%{x}<br>count=%{y}<extra></extra>",
         "legendgroup": ".",
         "marker": {
          "color": "#F39C12",
          "pattern": {
           "shape": ""
          }
         },
         "name": ".",
         "nbinsx": 50,
         "offsetgroup": ".",
         "orientation": "v",
         "showlegend": true,
         "type": "histogram",
         "x": [
          44.5
         ],
         "xaxis": "x",
         "yaxis": "y"
        }
       ],
       "layout": {
        "barmode": "relative",
        "legend": {
         "title": {
          "text": "sex"
         },
         "tracegroupgap": 0
        },
        "template": {
         "data": {
          "bar": [
           {
            "error_x": {
             "color": "#2a3f5f"
            },
            "error_y": {
             "color": "#2a3f5f"
            },
            "marker": {
             "line": {
              "color": "#E5ECF6",
              "width": 0.5
             },
             "pattern": {
              "fillmode": "overlay",
              "size": 10,
              "solidity": 0.2
             }
            },
            "type": "bar"
           }
          ],
          "barpolar": [
           {
            "marker": {
             "line": {
              "color": "#E5ECF6",
              "width": 0.5
             },
             "pattern": {
              "fillmode": "overlay",
              "size": 10,
              "solidity": 0.2
             }
            },
            "type": "barpolar"
           }
          ],
          "carpet": [
           {
            "aaxis": {
             "endlinecolor": "#2a3f5f",
             "gridcolor": "white",
             "linecolor": "white",
             "minorgridcolor": "white",
             "startlinecolor": "#2a3f5f"
            },
            "baxis": {
             "endlinecolor": "#2a3f5f",
             "gridcolor": "white",
             "linecolor": "white",
             "minorgridcolor": "white",
             "startlinecolor": "#2a3f5f"
            },
            "type": "carpet"
           }
          ],
          "choropleth": [
           {
            "colorbar": {
             "outlinewidth": 0,
             "ticks": ""
            },
            "type": "choropleth"
           }
          ],
          "contour": [
           {
            "colorbar": {
             "outlinewidth": 0,
             "ticks": ""
            },
            "colorscale": [
             [
              0,
              "#0d0887"
             ],
             [
              0.1111111111111111,
              "#46039f"
             ],
             [
              0.2222222222222222,
              "#7201a8"
             ],
             [
              0.3333333333333333,
              "#9c179e"
             ],
             [
              0.4444444444444444,
              "#bd3786"
             ],
             [
              0.5555555555555556,
              "#d8576b"
             ],
             [
              0.6666666666666666,
              "#ed7953"
             ],
             [
              0.7777777777777778,
              "#fb9f3a"
             ],
             [
              0.8888888888888888,
              "#fdca26"
             ],
             [
              1,
              "#f0f921"
             ]
            ],
            "type": "contour"
           }
          ],
          "contourcarpet": [
           {
            "colorbar": {
             "outlinewidth": 0,
             "ticks": ""
            },
            "type": "contourcarpet"
           }
          ],
          "heatmap": [
           {
            "colorbar": {
             "outlinewidth": 0,
             "ticks": ""
            },
            "colorscale": [
             [
              0,
              "#0d0887"
             ],
             [
              0.1111111111111111,
              "#46039f"
             ],
             [
              0.2222222222222222,
              "#7201a8"
             ],
             [
              0.3333333333333333,
              "#9c179e"
             ],
             [
              0.4444444444444444,
              "#bd3786"
             ],
             [
              0.5555555555555556,
              "#d8576b"
             ],
             [
              0.6666666666666666,
              "#ed7953"
             ],
             [
              0.7777777777777778,
              "#fb9f3a"
             ],
             [
              0.8888888888888888,
              "#fdca26"
             ],
             [
              1,
              "#f0f921"
             ]
            ],
            "type": "heatmap"
           }
          ],
          "heatmapgl": [
           {
            "colorbar": {
             "outlinewidth": 0,
             "ticks": ""
            },
            "colorscale": [
             [
              0,
              "#0d0887"
             ],
             [
              0.1111111111111111,
              "#46039f"
             ],
             [
              0.2222222222222222,
              "#7201a8"
             ],
             [
              0.3333333333333333,
              "#9c179e"
             ],
             [
              0.4444444444444444,
              "#bd3786"
             ],
             [
              0.5555555555555556,
              "#d8576b"
             ],
             [
              0.6666666666666666,
              "#ed7953"
             ],
             [
              0.7777777777777778,
              "#fb9f3a"
             ],
             [
              0.8888888888888888,
              "#fdca26"
             ],
             [
              1,
              "#f0f921"
             ]
            ],
            "type": "heatmapgl"
           }
          ],
          "histogram": [
           {
            "marker": {
             "pattern": {
              "fillmode": "overlay",
              "size": 10,
              "solidity": 0.2
             }
            },
            "type": "histogram"
           }
          ],
          "histogram2d": [
           {
            "colorbar": {
             "outlinewidth": 0,
             "ticks": ""
            },
            "colorscale": [
             [
              0,
              "#0d0887"
             ],
             [
              0.1111111111111111,
              "#46039f"
             ],
             [
              0.2222222222222222,
              "#7201a8"
             ],
             [
              0.3333333333333333,
              "#9c179e"
             ],
             [
              0.4444444444444444,
              "#bd3786"
             ],
             [
              0.5555555555555556,
              "#d8576b"
             ],
             [
              0.6666666666666666,
              "#ed7953"
             ],
             [
              0.7777777777777778,
              "#fb9f3a"
             ],
             [
              0.8888888888888888,
              "#fdca26"
             ],
             [
              1,
              "#f0f921"
             ]
            ],
            "type": "histogram2d"
           }
          ],
          "histogram2dcontour": [
           {
            "colorbar": {
             "outlinewidth": 0,
             "ticks": ""
            },
            "colorscale": [
             [
              0,
              "#0d0887"
             ],
             [
              0.1111111111111111,
              "#46039f"
             ],
             [
              0.2222222222222222,
              "#7201a8"
             ],
             [
              0.3333333333333333,
              "#9c179e"
             ],
             [
              0.4444444444444444,
              "#bd3786"
             ],
             [
              0.5555555555555556,
              "#d8576b"
             ],
             [
              0.6666666666666666,
              "#ed7953"
             ],
             [
              0.7777777777777778,
              "#fb9f3a"
             ],
             [
              0.8888888888888888,
              "#fdca26"
             ],
             [
              1,
              "#f0f921"
             ]
            ],
            "type": "histogram2dcontour"
           }
          ],
          "mesh3d": [
           {
            "colorbar": {
             "outlinewidth": 0,
             "ticks": ""
            },
            "type": "mesh3d"
           }
          ],
          "parcoords": [
           {
            "line": {
             "colorbar": {
              "outlinewidth": 0,
              "ticks": ""
             }
            },
            "type": "parcoords"
           }
          ],
          "pie": [
           {
            "automargin": true,
            "type": "pie"
           }
          ],
          "scatter": [
           {
            "fillpattern": {
             "fillmode": "overlay",
             "size": 10,
             "solidity": 0.2
            },
            "type": "scatter"
           }
          ],
          "scatter3d": [
           {
            "line": {
             "colorbar": {
              "outlinewidth": 0,
              "ticks": ""
             }
            },
            "marker": {
             "colorbar": {
              "outlinewidth": 0,
              "ticks": ""
             }
            },
            "type": "scatter3d"
           }
          ],
          "scattercarpet": [
           {
            "marker": {
             "colorbar": {
              "outlinewidth": 0,
              "ticks": ""
             }
            },
            "type": "scattercarpet"
           }
          ],
          "scattergeo": [
           {
            "marker": {
             "colorbar": {
              "outlinewidth": 0,
              "ticks": ""
             }
            },
            "type": "scattergeo"
           }
          ],
          "scattergl": [
           {
            "marker": {
             "colorbar": {
              "outlinewidth": 0,
              "ticks": ""
             }
            },
            "type": "scattergl"
           }
          ],
          "scattermapbox": [
           {
            "marker": {
             "colorbar": {
              "outlinewidth": 0,
              "ticks": ""
             }
            },
            "type": "scattermapbox"
           }
          ],
          "scatterpolar": [
           {
            "marker": {
             "colorbar": {
              "outlinewidth": 0,
              "ticks": ""
             }
            },
            "type": "scatterpolar"
           }
          ],
          "scatterpolargl": [
           {
            "marker": {
             "colorbar": {
              "outlinewidth": 0,
              "ticks": ""
             }
            },
            "type": "scatterpolargl"
           }
          ],
          "scatterternary": [
           {
            "marker": {
             "colorbar": {
              "outlinewidth": 0,
              "ticks": ""
             }
            },
            "type": "scatterternary"
           }
          ],
          "surface": [
           {
            "colorbar": {
             "outlinewidth": 0,
             "ticks": ""
            },
            "colorscale": [
             [
              0,
              "#0d0887"
             ],
             [
              0.1111111111111111,
              "#46039f"
             ],
             [
              0.2222222222222222,
              "#7201a8"
             ],
             [
              0.3333333333333333,
              "#9c179e"
             ],
             [
              0.4444444444444444,
              "#bd3786"
             ],
             [
              0.5555555555555556,
              "#d8576b"
             ],
             [
              0.6666666666666666,
              "#ed7953"
             ],
             [
              0.7777777777777778,
              "#fb9f3a"
             ],
             [
              0.8888888888888888,
              "#fdca26"
             ],
             [
              1,
              "#f0f921"
             ]
            ],
            "type": "surface"
           }
          ],
          "table": [
           {
            "cells": {
             "fill": {
              "color": "#EBF0F8"
             },
             "line": {
              "color": "white"
             }
            },
            "header": {
             "fill": {
              "color": "#C8D4E3"
             },
             "line": {
              "color": "white"
             }
            },
            "type": "table"
           }
          ]
         },
         "layout": {
          "annotationdefaults": {
           "arrowcolor": "#2a3f5f",
           "arrowhead": 0,
           "arrowwidth": 1
          },
          "autotypenumbers": "strict",
          "coloraxis": {
           "colorbar": {
            "outlinewidth": 0,
            "ticks": ""
           }
          },
          "colorscale": {
           "diverging": [
            [
             0,
             "#8e0152"
            ],
            [
             0.1,
             "#c51b7d"
            ],
            [
             0.2,
             "#de77ae"
            ],
            [
             0.3,
             "#f1b6da"
            ],
            [
             0.4,
             "#fde0ef"
            ],
            [
             0.5,
             "#f7f7f7"
            ],
            [
             0.6,
             "#e6f5d0"
            ],
            [
             0.7,
             "#b8e186"
            ],
            [
             0.8,
             "#7fbc41"
            ],
            [
             0.9,
             "#4d9221"
            ],
            [
             1,
             "#276419"
            ]
           ],
           "sequential": [
            [
             0,
             "#0d0887"
            ],
            [
             0.1111111111111111,
             "#46039f"
            ],
            [
             0.2222222222222222,
             "#7201a8"
            ],
            [
             0.3333333333333333,
             "#9c179e"
            ],
            [
             0.4444444444444444,
             "#bd3786"
            ],
            [
             0.5555555555555556,
             "#d8576b"
            ],
            [
             0.6666666666666666,
             "#ed7953"
            ],
            [
             0.7777777777777778,
             "#fb9f3a"
            ],
            [
             0.8888888888888888,
             "#fdca26"
            ],
            [
             1,
             "#f0f921"
            ]
           ],
           "sequentialminus": [
            [
             0,
             "#0d0887"
            ],
            [
             0.1111111111111111,
             "#46039f"
            ],
            [
             0.2222222222222222,
             "#7201a8"
            ],
            [
             0.3333333333333333,
             "#9c179e"
            ],
            [
             0.4444444444444444,
             "#bd3786"
            ],
            [
             0.5555555555555556,
             "#d8576b"
            ],
            [
             0.6666666666666666,
             "#ed7953"
            ],
            [
             0.7777777777777778,
             "#fb9f3a"
            ],
            [
             0.8888888888888888,
             "#fdca26"
            ],
            [
             1,
             "#f0f921"
            ]
           ]
          },
          "colorway": [
           "#636efa",
           "#EF553B",
           "#00cc96",
           "#ab63fa",
           "#FFA15A",
           "#19d3f3",
           "#FF6692",
           "#B6E880",
           "#FF97FF",
           "#FECB52"
          ],
          "font": {
           "color": "#2a3f5f"
          },
          "geo": {
           "bgcolor": "white",
           "lakecolor": "white",
           "landcolor": "#E5ECF6",
           "showlakes": true,
           "showland": true,
           "subunitcolor": "white"
          },
          "hoverlabel": {
           "align": "left"
          },
          "hovermode": "closest",
          "mapbox": {
           "style": "light"
          },
          "paper_bgcolor": "white",
          "plot_bgcolor": "#E5ECF6",
          "polar": {
           "angularaxis": {
            "gridcolor": "white",
            "linecolor": "white",
            "ticks": ""
           },
           "bgcolor": "#E5ECF6",
           "radialaxis": {
            "gridcolor": "white",
            "linecolor": "white",
            "ticks": ""
           }
          },
          "scene": {
           "xaxis": {
            "backgroundcolor": "#E5ECF6",
            "gridcolor": "white",
            "gridwidth": 2,
            "linecolor": "white",
            "showbackground": true,
            "ticks": "",
            "zerolinecolor": "white"
           },
           "yaxis": {
            "backgroundcolor": "#E5ECF6",
            "gridcolor": "white",
            "gridwidth": 2,
            "linecolor": "white",
            "showbackground": true,
            "ticks": "",
            "zerolinecolor": "white"
           },
           "zaxis": {
            "backgroundcolor": "#E5ECF6",
            "gridcolor": "white",
            "gridwidth": 2,
            "linecolor": "white",
            "showbackground": true,
            "ticks": "",
            "zerolinecolor": "white"
           }
          },
          "shapedefaults": {
           "line": {
            "color": "#2a3f5f"
           }
          },
          "ternary": {
           "aaxis": {
            "gridcolor": "white",
            "linecolor": "white",
            "ticks": ""
           },
           "baxis": {
            "gridcolor": "white",
            "linecolor": "white",
            "ticks": ""
           },
           "bgcolor": "#E5ECF6",
           "caxis": {
            "gridcolor": "white",
            "linecolor": "white",
            "ticks": ""
           }
          },
          "title": {
           "x": 0.05
          },
          "xaxis": {
           "automargin": true,
           "gridcolor": "white",
           "linecolor": "white",
           "ticks": "",
           "title": {
            "standoff": 15
           },
           "zerolinecolor": "white",
           "zerolinewidth": 2
          },
          "yaxis": {
           "automargin": true,
           "gridcolor": "white",
           "linecolor": "white",
           "ticks": "",
           "title": {
            "standoff": 15
           },
           "zerolinecolor": "white",
           "zerolinewidth": 2
          }
         }
        },
        "title": {
         "text": "Histogram of Culmen Length by Sex"
        },
        "xaxis": {
         "anchor": "y",
         "domain": [
          0,
          1
         ],
         "title": {
          "text": "culmen_length_mm"
         }
        },
        "yaxis": {
         "anchor": "x",
         "domain": [
          0,
          1
         ],
         "title": {
          "text": "count"
         }
        }
       }
      }
     },
     "metadata": {},
     "output_type": "display_data"
    }
   ],
   "source": [
    "fig = px.histogram(data_frame=penguin, x='culmen_length_mm', color='sex',\n",
    "                   color_discrete_sequence=['#29066B','#EB548C','#F1C40F', '#F39C12'],\n",
    "                   nbins = 50,\n",
    "                   title='Histogram of Culmen Length by Sex')\n",
    "fig.show()\n"
   ]
  },
  {
   "cell_type": "code",
   "execution_count": 6,
   "id": "122f771e",
   "metadata": {},
   "outputs": [
    {
     "data": {
      "application/vnd.plotly.v1+json": {
       "config": {
        "plotlyServerURL": "https://plot.ly"
       },
       "data": [
        {
         "alignmentgroup": "True",
         "hovertemplate": "sex=%{x}<br>culmen_depth_mm=%{y}<extra></extra>",
         "legendgroup": "MALE",
         "marker": {
          "color": "#29066B"
         },
         "name": "MALE",
         "notched": false,
         "offsetgroup": "MALE",
         "orientation": "v",
         "showlegend": true,
         "type": "box",
         "x": [
          "MALE",
          "MALE",
          "MALE",
          "MALE",
          "MALE",
          "MALE",
          "MALE",
          "MALE",
          "MALE",
          "MALE",
          "MALE",
          "MALE",
          "MALE",
          "MALE",
          "MALE",
          "MALE",
          "MALE",
          "MALE",
          "MALE",
          "MALE",
          "MALE",
          "MALE",
          "MALE",
          "MALE",
          "MALE",
          "MALE",
          "MALE",
          "MALE",
          "MALE",
          "MALE",
          "MALE",
          "MALE",
          "MALE",
          "MALE",
          "MALE",
          "MALE",
          "MALE",
          "MALE",
          "MALE",
          "MALE",
          "MALE",
          "MALE",
          "MALE",
          "MALE",
          "MALE",
          "MALE",
          "MALE",
          "MALE",
          "MALE",
          "MALE",
          "MALE",
          "MALE",
          "MALE",
          "MALE",
          "MALE",
          "MALE",
          "MALE",
          "MALE",
          "MALE",
          "MALE",
          "MALE",
          "MALE",
          "MALE",
          "MALE",
          "MALE",
          "MALE",
          "MALE",
          "MALE",
          "MALE",
          "MALE",
          "MALE",
          "MALE",
          "MALE",
          "MALE",
          "MALE",
          "MALE",
          "MALE",
          "MALE",
          "MALE",
          "MALE",
          "MALE",
          "MALE",
          "MALE",
          "MALE",
          "MALE",
          "MALE",
          "MALE",
          "MALE",
          "MALE",
          "MALE",
          "MALE",
          "MALE",
          "MALE",
          "MALE",
          "MALE",
          "MALE",
          "MALE",
          "MALE",
          "MALE",
          "MALE",
          "MALE",
          "MALE",
          "MALE",
          "MALE",
          "MALE",
          "MALE",
          "MALE",
          "MALE",
          "MALE",
          "MALE",
          "MALE",
          "MALE",
          "MALE",
          "MALE",
          "MALE",
          "MALE",
          "MALE",
          "MALE",
          "MALE",
          "MALE",
          "MALE",
          "MALE",
          "MALE",
          "MALE",
          "MALE",
          "MALE",
          "MALE",
          "MALE",
          "MALE",
          "MALE",
          "MALE",
          "MALE",
          "MALE",
          "MALE",
          "MALE",
          "MALE",
          "MALE",
          "MALE",
          "MALE",
          "MALE",
          "MALE",
          "MALE",
          "MALE",
          "MALE",
          "MALE",
          "MALE",
          "MALE",
          "MALE",
          "MALE",
          "MALE",
          "MALE",
          "MALE",
          "MALE",
          "MALE",
          "MALE",
          "MALE",
          "MALE",
          "MALE",
          "MALE",
          "MALE",
          "MALE",
          "MALE",
          "MALE",
          "MALE",
          "MALE",
          "MALE",
          "MALE",
          "MALE",
          "MALE"
         ],
         "x0": " ",
         "xaxis": "x",
         "y": [
          18.7,
          20.6,
          19.6,
          20.2,
          21.2,
          21.1,
          20.7,
          21.5,
          18.7,
          18.1,
          17.2,
          18.6,
          18.9,
          18.1,
          18.9,
          21.1,
          20,
          19.1,
          18.4,
          19.7,
          18.8,
          19,
          21.2,
          18.9,
          19.5,
          18.6,
          18.8,
          19.1,
          21.1,
          18.2,
          18,
          19.1,
          19.4,
          18.4,
          18.9,
          18.5,
          19.4,
          19.1,
          17.6,
          19.4,
          20.3,
          19.5,
          19.2,
          18.1,
          18.1,
          18.9,
          18.5,
          18.5,
          20,
          20,
          18.9,
          20,
          19,
          20.3,
          19.5,
          18.3,
          20.5,
          18.6,
          19.8,
          18.5,
          19,
          18.3,
          18,
          19.2,
          18.5,
          17.5,
          20.1,
          17.9,
          17.2,
          17,
          18.7,
          18.6,
          18.1,
          18.5,
          19.5,
          19.2,
          19.8,
          18.2,
          19.9,
          20.3,
          18.1,
          19.6,
          20,
          18.2,
          17.5,
          19.4,
          19,
          19,
          20,
          20.8,
          18.8,
          18.6,
          20.7,
          19.9,
          19.5,
          19.1,
          18.5,
          19.6,
          18.7,
          19,
          19.7,
          18.8,
          19.9,
          18.8,
          19.5,
          19.8,
          18.2,
          19,
          16.3,
          15.2,
          14.5,
          15.3,
          15.4,
          16.1,
          14.6,
          15.7,
          15.2,
          15.1,
          14.3,
          15.8,
          15.1,
          15,
          15.3,
          15.3,
          17,
          16.3,
          17.3,
          15.7,
          16,
          15,
          15.9,
          15.9,
          15.8,
          14.1,
          15,
          15.4,
          15,
          15.3,
          14.9,
          15.7,
          16.8,
          16.2,
          15,
          15.6,
          15.6,
          16,
          16.3,
          16.4,
          15.6,
          15.9,
          17.3,
          14.2,
          17,
          17.1,
          16.1,
          15.7,
          15.8,
          16.5,
          17,
          15,
          16.1,
          15.8,
          15.1,
          15.9,
          16.3,
          16,
          16.2,
          15.7,
          16.1
         ],
         "y0": " ",
         "yaxis": "y"
        },
        {
         "alignmentgroup": "True",
         "hovertemplate": "sex=%{x}<br>culmen_depth_mm=%{y}<extra></extra>",
         "legendgroup": "FEMALE",
         "marker": {
          "color": "#EB548C"
         },
         "name": "FEMALE",
         "notched": false,
         "offsetgroup": "FEMALE",
         "orientation": "v",
         "showlegend": true,
         "type": "box",
         "x": [
          "FEMALE",
          "FEMALE",
          "FEMALE",
          "FEMALE",
          "FEMALE",
          "FEMALE",
          "FEMALE",
          "FEMALE",
          "FEMALE",
          "FEMALE",
          "FEMALE",
          "FEMALE",
          "FEMALE",
          "FEMALE",
          "FEMALE",
          "FEMALE",
          "FEMALE",
          "FEMALE",
          "FEMALE",
          "FEMALE",
          "FEMALE",
          "FEMALE",
          "FEMALE",
          "FEMALE",
          "FEMALE",
          "FEMALE",
          "FEMALE",
          "FEMALE",
          "FEMALE",
          "FEMALE",
          "FEMALE",
          "FEMALE",
          "FEMALE",
          "FEMALE",
          "FEMALE",
          "FEMALE",
          "FEMALE",
          "FEMALE",
          "FEMALE",
          "FEMALE",
          "FEMALE",
          "FEMALE",
          "FEMALE",
          "FEMALE",
          "FEMALE",
          "FEMALE",
          "FEMALE",
          "FEMALE",
          "FEMALE",
          "FEMALE",
          "FEMALE",
          "FEMALE",
          "FEMALE",
          "FEMALE",
          "FEMALE",
          "FEMALE",
          "FEMALE",
          "FEMALE",
          "FEMALE",
          "FEMALE",
          "FEMALE",
          "FEMALE",
          "FEMALE",
          "FEMALE",
          "FEMALE",
          "FEMALE",
          "FEMALE",
          "FEMALE",
          "FEMALE",
          "FEMALE",
          "FEMALE",
          "FEMALE",
          "FEMALE",
          "FEMALE",
          "FEMALE",
          "FEMALE",
          "FEMALE",
          "FEMALE",
          "FEMALE",
          "FEMALE",
          "FEMALE",
          "FEMALE",
          "FEMALE",
          "FEMALE",
          "FEMALE",
          "FEMALE",
          "FEMALE",
          "FEMALE",
          "FEMALE",
          "FEMALE",
          "FEMALE",
          "FEMALE",
          "FEMALE",
          "FEMALE",
          "FEMALE",
          "FEMALE",
          "FEMALE",
          "FEMALE",
          "FEMALE",
          "FEMALE",
          "FEMALE",
          "FEMALE",
          "FEMALE",
          "FEMALE",
          "FEMALE",
          "FEMALE",
          "FEMALE",
          "FEMALE",
          "FEMALE",
          "FEMALE",
          "FEMALE",
          "FEMALE",
          "FEMALE",
          "FEMALE",
          "FEMALE",
          "FEMALE",
          "FEMALE",
          "FEMALE",
          "FEMALE",
          "FEMALE",
          "FEMALE",
          "FEMALE",
          "FEMALE",
          "FEMALE",
          "FEMALE",
          "FEMALE",
          "FEMALE",
          "FEMALE",
          "FEMALE",
          "FEMALE",
          "FEMALE",
          "FEMALE",
          "FEMALE",
          "FEMALE",
          "FEMALE",
          "FEMALE",
          "FEMALE",
          "FEMALE",
          "FEMALE",
          "FEMALE",
          "FEMALE",
          "FEMALE",
          "FEMALE",
          "FEMALE",
          "FEMALE",
          "FEMALE",
          "FEMALE",
          "FEMALE",
          "FEMALE",
          "FEMALE",
          "FEMALE",
          "FEMALE",
          "FEMALE",
          "FEMALE",
          "FEMALE",
          "FEMALE",
          "FEMALE",
          "FEMALE",
          "FEMALE",
          "FEMALE",
          "FEMALE",
          "FEMALE",
          "FEMALE",
          "FEMALE",
          "FEMALE"
         ],
         "x0": " ",
         "xaxis": "x",
         "y": [
          17.4,
          18,
          19.3,
          17.8,
          17.6,
          17.8,
          19,
          18.4,
          18.3,
          19.2,
          18.9,
          17.9,
          18.6,
          16.7,
          17.8,
          17,
          18.5,
          19.3,
          18,
          18.5,
          16.9,
          17.9,
          17.7,
          17.9,
          18.1,
          17.5,
          16.6,
          16.9,
          17,
          17.1,
          16.2,
          16.6,
          19,
          17.2,
          17.5,
          16.8,
          16.1,
          17.2,
          18.8,
          17.8,
          18.6,
          18.8,
          18,
          17.1,
          17.3,
          18.6,
          16.1,
          17.9,
          16,
          18.6,
          17.2,
          17,
          16.5,
          17.7,
          20.7,
          17,
          17,
          17.2,
          17,
          15.9,
          17.6,
          17.1,
          17.9,
          18.5,
          17.6,
          17.5,
          16.5,
          17.1,
          15.5,
          16.8,
          18.4,
          17.8,
          17.1,
          17.9,
          18.7,
          17.8,
          18.2,
          18.9,
          17.8,
          17.3,
          17.1,
          17.8,
          18.6,
          17.3,
          16.6,
          17.9,
          18.4,
          17.8,
          16.6,
          16.7,
          16.8,
          18.3,
          16.6,
          17.5,
          17,
          17.9,
          17.9,
          17.3,
          16.4,
          17.3,
          17.3,
          16.6,
          19.4,
          16.5,
          17,
          18.1,
          18.7,
          13.2,
          14.1,
          13.5,
          14.6,
          13.4,
          13.7,
          13.7,
          14.6,
          13.5,
          14.5,
          14.5,
          14.5,
          13.1,
          14.3,
          14.2,
          14.5,
          14.8,
          13.7,
          13.6,
          13.7,
          13.7,
          13.9,
          13.9,
          13.3,
          14.2,
          14.4,
          14.4,
          13.9,
          14.5,
          13.8,
          13.9,
          14.2,
          14.2,
          15,
          14.8,
          15,
          14.2,
          13.8,
          14.5,
          14.6,
          13.8,
          14.4,
          14,
          15,
          14.5,
          14.7,
          14.6,
          14.4,
          15,
          15.5,
          14.7,
          14,
          15.2,
          15.2,
          14.1,
          13.7,
          14.3,
          14.8
         ],
         "y0": " ",
         "yaxis": "y"
        },
        {
         "alignmentgroup": "True",
         "hovertemplate": "sex=%{x}<br>culmen_depth_mm=%{y}<extra></extra>",
         "legendgroup": ".",
         "marker": {
          "color": "#F39C12"
         },
         "name": ".",
         "notched": false,
         "offsetgroup": ".",
         "orientation": "v",
         "showlegend": true,
         "type": "box",
         "x": [
          "."
         ],
         "x0": " ",
         "xaxis": "x",
         "y": [
          15.7
         ],
         "y0": " ",
         "yaxis": "y"
        }
       ],
       "layout": {
        "boxmode": "overlay",
        "legend": {
         "title": {
          "text": "sex"
         },
         "tracegroupgap": 0
        },
        "template": {
         "data": {
          "bar": [
           {
            "error_x": {
             "color": "#2a3f5f"
            },
            "error_y": {
             "color": "#2a3f5f"
            },
            "marker": {
             "line": {
              "color": "#E5ECF6",
              "width": 0.5
             },
             "pattern": {
              "fillmode": "overlay",
              "size": 10,
              "solidity": 0.2
             }
            },
            "type": "bar"
           }
          ],
          "barpolar": [
           {
            "marker": {
             "line": {
              "color": "#E5ECF6",
              "width": 0.5
             },
             "pattern": {
              "fillmode": "overlay",
              "size": 10,
              "solidity": 0.2
             }
            },
            "type": "barpolar"
           }
          ],
          "carpet": [
           {
            "aaxis": {
             "endlinecolor": "#2a3f5f",
             "gridcolor": "white",
             "linecolor": "white",
             "minorgridcolor": "white",
             "startlinecolor": "#2a3f5f"
            },
            "baxis": {
             "endlinecolor": "#2a3f5f",
             "gridcolor": "white",
             "linecolor": "white",
             "minorgridcolor": "white",
             "startlinecolor": "#2a3f5f"
            },
            "type": "carpet"
           }
          ],
          "choropleth": [
           {
            "colorbar": {
             "outlinewidth": 0,
             "ticks": ""
            },
            "type": "choropleth"
           }
          ],
          "contour": [
           {
            "colorbar": {
             "outlinewidth": 0,
             "ticks": ""
            },
            "colorscale": [
             [
              0,
              "#0d0887"
             ],
             [
              0.1111111111111111,
              "#46039f"
             ],
             [
              0.2222222222222222,
              "#7201a8"
             ],
             [
              0.3333333333333333,
              "#9c179e"
             ],
             [
              0.4444444444444444,
              "#bd3786"
             ],
             [
              0.5555555555555556,
              "#d8576b"
             ],
             [
              0.6666666666666666,
              "#ed7953"
             ],
             [
              0.7777777777777778,
              "#fb9f3a"
             ],
             [
              0.8888888888888888,
              "#fdca26"
             ],
             [
              1,
              "#f0f921"
             ]
            ],
            "type": "contour"
           }
          ],
          "contourcarpet": [
           {
            "colorbar": {
             "outlinewidth": 0,
             "ticks": ""
            },
            "type": "contourcarpet"
           }
          ],
          "heatmap": [
           {
            "colorbar": {
             "outlinewidth": 0,
             "ticks": ""
            },
            "colorscale": [
             [
              0,
              "#0d0887"
             ],
             [
              0.1111111111111111,
              "#46039f"
             ],
             [
              0.2222222222222222,
              "#7201a8"
             ],
             [
              0.3333333333333333,
              "#9c179e"
             ],
             [
              0.4444444444444444,
              "#bd3786"
             ],
             [
              0.5555555555555556,
              "#d8576b"
             ],
             [
              0.6666666666666666,
              "#ed7953"
             ],
             [
              0.7777777777777778,
              "#fb9f3a"
             ],
             [
              0.8888888888888888,
              "#fdca26"
             ],
             [
              1,
              "#f0f921"
             ]
            ],
            "type": "heatmap"
           }
          ],
          "heatmapgl": [
           {
            "colorbar": {
             "outlinewidth": 0,
             "ticks": ""
            },
            "colorscale": [
             [
              0,
              "#0d0887"
             ],
             [
              0.1111111111111111,
              "#46039f"
             ],
             [
              0.2222222222222222,
              "#7201a8"
             ],
             [
              0.3333333333333333,
              "#9c179e"
             ],
             [
              0.4444444444444444,
              "#bd3786"
             ],
             [
              0.5555555555555556,
              "#d8576b"
             ],
             [
              0.6666666666666666,
              "#ed7953"
             ],
             [
              0.7777777777777778,
              "#fb9f3a"
             ],
             [
              0.8888888888888888,
              "#fdca26"
             ],
             [
              1,
              "#f0f921"
             ]
            ],
            "type": "heatmapgl"
           }
          ],
          "histogram": [
           {
            "marker": {
             "pattern": {
              "fillmode": "overlay",
              "size": 10,
              "solidity": 0.2
             }
            },
            "type": "histogram"
           }
          ],
          "histogram2d": [
           {
            "colorbar": {
             "outlinewidth": 0,
             "ticks": ""
            },
            "colorscale": [
             [
              0,
              "#0d0887"
             ],
             [
              0.1111111111111111,
              "#46039f"
             ],
             [
              0.2222222222222222,
              "#7201a8"
             ],
             [
              0.3333333333333333,
              "#9c179e"
             ],
             [
              0.4444444444444444,
              "#bd3786"
             ],
             [
              0.5555555555555556,
              "#d8576b"
             ],
             [
              0.6666666666666666,
              "#ed7953"
             ],
             [
              0.7777777777777778,
              "#fb9f3a"
             ],
             [
              0.8888888888888888,
              "#fdca26"
             ],
             [
              1,
              "#f0f921"
             ]
            ],
            "type": "histogram2d"
           }
          ],
          "histogram2dcontour": [
           {
            "colorbar": {
             "outlinewidth": 0,
             "ticks": ""
            },
            "colorscale": [
             [
              0,
              "#0d0887"
             ],
             [
              0.1111111111111111,
              "#46039f"
             ],
             [
              0.2222222222222222,
              "#7201a8"
             ],
             [
              0.3333333333333333,
              "#9c179e"
             ],
             [
              0.4444444444444444,
              "#bd3786"
             ],
             [
              0.5555555555555556,
              "#d8576b"
             ],
             [
              0.6666666666666666,
              "#ed7953"
             ],
             [
              0.7777777777777778,
              "#fb9f3a"
             ],
             [
              0.8888888888888888,
              "#fdca26"
             ],
             [
              1,
              "#f0f921"
             ]
            ],
            "type": "histogram2dcontour"
           }
          ],
          "mesh3d": [
           {
            "colorbar": {
             "outlinewidth": 0,
             "ticks": ""
            },
            "type": "mesh3d"
           }
          ],
          "parcoords": [
           {
            "line": {
             "colorbar": {
              "outlinewidth": 0,
              "ticks": ""
             }
            },
            "type": "parcoords"
           }
          ],
          "pie": [
           {
            "automargin": true,
            "type": "pie"
           }
          ],
          "scatter": [
           {
            "fillpattern": {
             "fillmode": "overlay",
             "size": 10,
             "solidity": 0.2
            },
            "type": "scatter"
           }
          ],
          "scatter3d": [
           {
            "line": {
             "colorbar": {
              "outlinewidth": 0,
              "ticks": ""
             }
            },
            "marker": {
             "colorbar": {
              "outlinewidth": 0,
              "ticks": ""
             }
            },
            "type": "scatter3d"
           }
          ],
          "scattercarpet": [
           {
            "marker": {
             "colorbar": {
              "outlinewidth": 0,
              "ticks": ""
             }
            },
            "type": "scattercarpet"
           }
          ],
          "scattergeo": [
           {
            "marker": {
             "colorbar": {
              "outlinewidth": 0,
              "ticks": ""
             }
            },
            "type": "scattergeo"
           }
          ],
          "scattergl": [
           {
            "marker": {
             "colorbar": {
              "outlinewidth": 0,
              "ticks": ""
             }
            },
            "type": "scattergl"
           }
          ],
          "scattermapbox": [
           {
            "marker": {
             "colorbar": {
              "outlinewidth": 0,
              "ticks": ""
             }
            },
            "type": "scattermapbox"
           }
          ],
          "scatterpolar": [
           {
            "marker": {
             "colorbar": {
              "outlinewidth": 0,
              "ticks": ""
             }
            },
            "type": "scatterpolar"
           }
          ],
          "scatterpolargl": [
           {
            "marker": {
             "colorbar": {
              "outlinewidth": 0,
              "ticks": ""
             }
            },
            "type": "scatterpolargl"
           }
          ],
          "scatterternary": [
           {
            "marker": {
             "colorbar": {
              "outlinewidth": 0,
              "ticks": ""
             }
            },
            "type": "scatterternary"
           }
          ],
          "surface": [
           {
            "colorbar": {
             "outlinewidth": 0,
             "ticks": ""
            },
            "colorscale": [
             [
              0,
              "#0d0887"
             ],
             [
              0.1111111111111111,
              "#46039f"
             ],
             [
              0.2222222222222222,
              "#7201a8"
             ],
             [
              0.3333333333333333,
              "#9c179e"
             ],
             [
              0.4444444444444444,
              "#bd3786"
             ],
             [
              0.5555555555555556,
              "#d8576b"
             ],
             [
              0.6666666666666666,
              "#ed7953"
             ],
             [
              0.7777777777777778,
              "#fb9f3a"
             ],
             [
              0.8888888888888888,
              "#fdca26"
             ],
             [
              1,
              "#f0f921"
             ]
            ],
            "type": "surface"
           }
          ],
          "table": [
           {
            "cells": {
             "fill": {
              "color": "#EBF0F8"
             },
             "line": {
              "color": "white"
             }
            },
            "header": {
             "fill": {
              "color": "#C8D4E3"
             },
             "line": {
              "color": "white"
             }
            },
            "type": "table"
           }
          ]
         },
         "layout": {
          "annotationdefaults": {
           "arrowcolor": "#2a3f5f",
           "arrowhead": 0,
           "arrowwidth": 1
          },
          "autotypenumbers": "strict",
          "coloraxis": {
           "colorbar": {
            "outlinewidth": 0,
            "ticks": ""
           }
          },
          "colorscale": {
           "diverging": [
            [
             0,
             "#8e0152"
            ],
            [
             0.1,
             "#c51b7d"
            ],
            [
             0.2,
             "#de77ae"
            ],
            [
             0.3,
             "#f1b6da"
            ],
            [
             0.4,
             "#fde0ef"
            ],
            [
             0.5,
             "#f7f7f7"
            ],
            [
             0.6,
             "#e6f5d0"
            ],
            [
             0.7,
             "#b8e186"
            ],
            [
             0.8,
             "#7fbc41"
            ],
            [
             0.9,
             "#4d9221"
            ],
            [
             1,
             "#276419"
            ]
           ],
           "sequential": [
            [
             0,
             "#0d0887"
            ],
            [
             0.1111111111111111,
             "#46039f"
            ],
            [
             0.2222222222222222,
             "#7201a8"
            ],
            [
             0.3333333333333333,
             "#9c179e"
            ],
            [
             0.4444444444444444,
             "#bd3786"
            ],
            [
             0.5555555555555556,
             "#d8576b"
            ],
            [
             0.6666666666666666,
             "#ed7953"
            ],
            [
             0.7777777777777778,
             "#fb9f3a"
            ],
            [
             0.8888888888888888,
             "#fdca26"
            ],
            [
             1,
             "#f0f921"
            ]
           ],
           "sequentialminus": [
            [
             0,
             "#0d0887"
            ],
            [
             0.1111111111111111,
             "#46039f"
            ],
            [
             0.2222222222222222,
             "#7201a8"
            ],
            [
             0.3333333333333333,
             "#9c179e"
            ],
            [
             0.4444444444444444,
             "#bd3786"
            ],
            [
             0.5555555555555556,
             "#d8576b"
            ],
            [
             0.6666666666666666,
             "#ed7953"
            ],
            [
             0.7777777777777778,
             "#fb9f3a"
            ],
            [
             0.8888888888888888,
             "#fdca26"
            ],
            [
             1,
             "#f0f921"
            ]
           ]
          },
          "colorway": [
           "#636efa",
           "#EF553B",
           "#00cc96",
           "#ab63fa",
           "#FFA15A",
           "#19d3f3",
           "#FF6692",
           "#B6E880",
           "#FF97FF",
           "#FECB52"
          ],
          "font": {
           "color": "#2a3f5f"
          },
          "geo": {
           "bgcolor": "white",
           "lakecolor": "white",
           "landcolor": "#E5ECF6",
           "showlakes": true,
           "showland": true,
           "subunitcolor": "white"
          },
          "hoverlabel": {
           "align": "left"
          },
          "hovermode": "closest",
          "mapbox": {
           "style": "light"
          },
          "paper_bgcolor": "white",
          "plot_bgcolor": "#E5ECF6",
          "polar": {
           "angularaxis": {
            "gridcolor": "white",
            "linecolor": "white",
            "ticks": ""
           },
           "bgcolor": "#E5ECF6",
           "radialaxis": {
            "gridcolor": "white",
            "linecolor": "white",
            "ticks": ""
           }
          },
          "scene": {
           "xaxis": {
            "backgroundcolor": "#E5ECF6",
            "gridcolor": "white",
            "gridwidth": 2,
            "linecolor": "white",
            "showbackground": true,
            "ticks": "",
            "zerolinecolor": "white"
           },
           "yaxis": {
            "backgroundcolor": "#E5ECF6",
            "gridcolor": "white",
            "gridwidth": 2,
            "linecolor": "white",
            "showbackground": true,
            "ticks": "",
            "zerolinecolor": "white"
           },
           "zaxis": {
            "backgroundcolor": "#E5ECF6",
            "gridcolor": "white",
            "gridwidth": 2,
            "linecolor": "white",
            "showbackground": true,
            "ticks": "",
            "zerolinecolor": "white"
           }
          },
          "shapedefaults": {
           "line": {
            "color": "#2a3f5f"
           }
          },
          "ternary": {
           "aaxis": {
            "gridcolor": "white",
            "linecolor": "white",
            "ticks": ""
           },
           "baxis": {
            "gridcolor": "white",
            "linecolor": "white",
            "ticks": ""
           },
           "bgcolor": "#E5ECF6",
           "caxis": {
            "gridcolor": "white",
            "linecolor": "white",
            "ticks": ""
           }
          },
          "title": {
           "x": 0.05
          },
          "xaxis": {
           "automargin": true,
           "gridcolor": "white",
           "linecolor": "white",
           "ticks": "",
           "title": {
            "standoff": 15
           },
           "zerolinecolor": "white",
           "zerolinewidth": 2
          },
          "yaxis": {
           "automargin": true,
           "gridcolor": "white",
           "linecolor": "white",
           "ticks": "",
           "title": {
            "standoff": 15
           },
           "zerolinecolor": "white",
           "zerolinewidth": 2
          }
         }
        },
        "title": {
         "text": "Box Plot of Culmen Depth by Sex"
        },
        "xaxis": {
         "anchor": "y",
         "categoryarray": [
          "MALE",
          "FEMALE",
          null,
          "."
         ],
         "categoryorder": "array",
         "domain": [
          0,
          1
         ],
         "title": {
          "text": "sex"
         }
        },
        "yaxis": {
         "anchor": "x",
         "domain": [
          0,
          1
         ],
         "title": {
          "text": "culmen_depth_mm"
         }
        }
       }
      }
     },
     "metadata": {},
     "output_type": "display_data"
    }
   ],
   "source": [
    "fig = px.box(data_frame=penguin, x ='sex', y = 'culmen_depth_mm', color = 'sex',\n",
    "             color_discrete_sequence=['#29066B','#EB548C','#F1C40F', '#F39C12'],\n",
    "             title='Box Plot of Culmen Depth by Sex',\n",
    "             orientation='v')\n",
    "fig.show()\n"
   ]
  },
  {
   "cell_type": "code",
   "execution_count": 7,
   "id": "23d79e35",
   "metadata": {},
   "outputs": [
    {
     "data": {
      "application/vnd.plotly.v1+json": {
       "config": {
        "plotlyServerURL": "https://plot.ly"
       },
       "data": [
        {
         "hovertemplate": "sex=MALE<br>culmen_length_mm=%{marker.size}<br>culmen_depth_mm=%{y}<extra></extra>",
         "legendgroup": "MALE",
         "marker": {
          "color": "#29066B",
          "size": [
           39.1,
           39.3,
           39.2,
           42,
           38.6,
           34.6,
           42.5,
           46,
           37.7,
           38.2,
           38.8,
           40.6,
           40.5,
           37.2,
           40.9,
           39.2,
           38.8,
           39.8,
           40.8,
           44.1,
           39.6,
           41.1,
           42.3,
           40.1,
           42,
           41.4,
           40.6,
           37.6,
           41.3,
           41.1,
           41.6,
           41.1,
           41.8,
           39.7,
           45.8,
           42.8,
           37.2,
           42.1,
           42.9,
           35.1,
           41.3,
           36.3,
           38.3,
           41.1,
           39.6,
           40.8,
           40.3,
           43.2,
           41,
           37.8,
           39.7,
           38.2,
           43.2,
           45.6,
           42.2,
           42.7,
           37.3,
           41.1,
           37.7,
           41.4,
           40.6,
           41.5,
           44.1,
           43.1,
           37.5,
           41.1,
           40.2,
           39.7,
           40.6,
           40.7,
           39,
           39.2,
           37.8,
           41.5,
           50,
           51.3,
           52.7,
           51.3,
           51.3,
           51.7,
           52,
           50.5,
           50.3,
           49.2,
           48.5,
           50.6,
           52,
           49.5,
           52.8,
           54.2,
           51,
           49.7,
           52,
           53.5,
           49,
           50.9,
           50.8,
           49,
           51.5,
           51.4,
           50.7,
           52.2,
           49.3,
           50.2,
           51.9,
           55.8,
           49.6,
           50.8,
           50,
           50,
           47.6,
           46.7,
           46.8,
           49,
           48.4,
           49.3,
           49.2,
           48.7,
           50.2,
           46.3,
           46.1,
           47.8,
           50,
           47.3,
           59.6,
           48.4,
           44.4,
           48.7,
           49.6,
           49.6,
           50.5,
           50.5,
           45.2,
           48.5,
           50.1,
           45,
           45.5,
           50.4,
           46.2,
           54.3,
           49.8,
           49.5,
           50.7,
           46.4,
           48.2,
           48.6,
           51.1,
           45.2,
           52.5,
           50,
           50.8,
           51.3,
           52.1,
           52.2,
           49.5,
           50.8,
           49.4,
           51.1,
           55.9,
           49.1,
           46.8,
           53.4,
           48.1,
           49.8,
           51.5,
           55.1,
           48.8,
           50.4,
           49.9
          ],
          "sizemode": "area",
          "sizeref": 0.149,
          "symbol": "circle"
         },
         "mode": "markers",
         "name": "MALE",
         "orientation": "v",
         "showlegend": true,
         "type": "scatter",
         "x": [
          39.1,
          39.3,
          39.2,
          42,
          38.6,
          34.6,
          42.5,
          46,
          37.7,
          38.2,
          38.8,
          40.6,
          40.5,
          37.2,
          40.9,
          39.2,
          38.8,
          39.8,
          40.8,
          44.1,
          39.6,
          41.1,
          42.3,
          40.1,
          42,
          41.4,
          40.6,
          37.6,
          41.3,
          41.1,
          41.6,
          41.1,
          41.8,
          39.7,
          45.8,
          42.8,
          37.2,
          42.1,
          42.9,
          35.1,
          41.3,
          36.3,
          38.3,
          41.1,
          39.6,
          40.8,
          40.3,
          43.2,
          41,
          37.8,
          39.7,
          38.2,
          43.2,
          45.6,
          42.2,
          42.7,
          37.3,
          41.1,
          37.7,
          41.4,
          40.6,
          41.5,
          44.1,
          43.1,
          37.5,
          41.1,
          40.2,
          39.7,
          40.6,
          40.7,
          39,
          39.2,
          37.8,
          41.5,
          50,
          51.3,
          52.7,
          51.3,
          51.3,
          51.7,
          52,
          50.5,
          50.3,
          49.2,
          48.5,
          50.6,
          52,
          49.5,
          52.8,
          54.2,
          51,
          49.7,
          52,
          53.5,
          49,
          50.9,
          50.8,
          49,
          51.5,
          51.4,
          50.7,
          52.2,
          49.3,
          50.2,
          51.9,
          55.8,
          49.6,
          50.8,
          50,
          50,
          47.6,
          46.7,
          46.8,
          49,
          48.4,
          49.3,
          49.2,
          48.7,
          50.2,
          46.3,
          46.1,
          47.8,
          50,
          47.3,
          59.6,
          48.4,
          44.4,
          48.7,
          49.6,
          49.6,
          50.5,
          50.5,
          45.2,
          48.5,
          50.1,
          45,
          45.5,
          50.4,
          46.2,
          54.3,
          49.8,
          49.5,
          50.7,
          46.4,
          48.2,
          48.6,
          51.1,
          45.2,
          52.5,
          50,
          50.8,
          51.3,
          52.1,
          52.2,
          49.5,
          50.8,
          49.4,
          51.1,
          55.9,
          49.1,
          46.8,
          53.4,
          48.1,
          49.8,
          51.5,
          55.1,
          48.8,
          50.4,
          49.9
         ],
         "xaxis": "x",
         "y": [
          18.7,
          20.6,
          19.6,
          20.2,
          21.2,
          21.1,
          20.7,
          21.5,
          18.7,
          18.1,
          17.2,
          18.6,
          18.9,
          18.1,
          18.9,
          21.1,
          20,
          19.1,
          18.4,
          19.7,
          18.8,
          19,
          21.2,
          18.9,
          19.5,
          18.6,
          18.8,
          19.1,
          21.1,
          18.2,
          18,
          19.1,
          19.4,
          18.4,
          18.9,
          18.5,
          19.4,
          19.1,
          17.6,
          19.4,
          20.3,
          19.5,
          19.2,
          18.1,
          18.1,
          18.9,
          18.5,
          18.5,
          20,
          20,
          18.9,
          20,
          19,
          20.3,
          19.5,
          18.3,
          20.5,
          18.6,
          19.8,
          18.5,
          19,
          18.3,
          18,
          19.2,
          18.5,
          17.5,
          20.1,
          17.9,
          17.2,
          17,
          18.7,
          18.6,
          18.1,
          18.5,
          19.5,
          19.2,
          19.8,
          18.2,
          19.9,
          20.3,
          18.1,
          19.6,
          20,
          18.2,
          17.5,
          19.4,
          19,
          19,
          20,
          20.8,
          18.8,
          18.6,
          20.7,
          19.9,
          19.5,
          19.1,
          18.5,
          19.6,
          18.7,
          19,
          19.7,
          18.8,
          19.9,
          18.8,
          19.5,
          19.8,
          18.2,
          19,
          16.3,
          15.2,
          14.5,
          15.3,
          15.4,
          16.1,
          14.6,
          15.7,
          15.2,
          15.1,
          14.3,
          15.8,
          15.1,
          15,
          15.3,
          15.3,
          17,
          16.3,
          17.3,
          15.7,
          16,
          15,
          15.9,
          15.9,
          15.8,
          14.1,
          15,
          15.4,
          15,
          15.3,
          14.9,
          15.7,
          16.8,
          16.2,
          15,
          15.6,
          15.6,
          16,
          16.3,
          16.4,
          15.6,
          15.9,
          17.3,
          14.2,
          17,
          17.1,
          16.1,
          15.7,
          15.8,
          16.5,
          17,
          15,
          16.1,
          15.8,
          15.1,
          15.9,
          16.3,
          16,
          16.2,
          15.7,
          16.1
         ],
         "yaxis": "y"
        },
        {
         "hovertemplate": "sex=FEMALE<br>culmen_length_mm=%{marker.size}<br>culmen_depth_mm=%{y}<extra></extra>",
         "legendgroup": "FEMALE",
         "marker": {
          "color": "#EB548C",
          "size": [
           39.5,
           40.3,
           36.7,
           38.9,
           41.1,
           36.6,
           38.7,
           34.4,
           37.8,
           35.9,
           35.3,
           40.5,
           37.9,
           39.5,
           39.5,
           36.4,
           42.2,
           37.6,
           36.5,
           36,
           37,
           36,
           39.6,
           35,
           34.5,
           39,
           36.5,
           35.7,
           37.6,
           36.4,
           35.5,
           35.9,
           33.5,
           39.6,
           35.5,
           40.9,
           36.2,
           34.6,
           36.7,
           37.3,
           36.9,
           38.9,
           35.7,
           34,
           36.2,
           38.1,
           33.1,
           35,
           37.7,
           37.9,
           38.6,
           38.1,
           38.1,
           39.7,
           39.6,
           38.6,
           35.7,
           36.2,
           40.2,
           35.2,
           38.8,
           39,
           38.5,
           36.8,
           38.1,
           35.6,
           37,
           40.2,
           32.1,
           37.3,
           36.6,
           36,
           36,
           46.5,
           45.4,
           45.2,
           46.1,
           46,
           46.6,
           47,
           45.9,
           58,
           46.4,
           42.4,
           43.2,
           46.7,
           50.5,
           46.4,
           40.9,
           42.5,
           47.5,
           47.6,
           46.9,
           46.2,
           45.5,
           50.9,
           50.1,
           49.8,
           48.1,
           45.7,
           42.5,
           45.2,
           45.6,
           46.8,
           45.7,
           43.5,
           50.2,
           46.1,
           48.7,
           46.5,
           45.4,
           43.3,
           40.9,
           45.5,
           45.8,
           42,
           46.2,
           45.1,
           46.5,
           42.9,
           48.2,
           42.8,
           45.1,
           49.1,
           42.6,
           44,
           42.7,
           45.3,
           43.6,
           45.5,
           44.9,
           46.6,
           45.1,
           46.5,
           43.8,
           43.2,
           45.3,
           45.7,
           45.8,
           43.5,
           47.7,
           46.5,
           46.4,
           47.5,
           45.2,
           49.1,
           47.4,
           44.9,
           43.4,
           47.5,
           47.5,
           45.5,
           44.5,
           46.9,
           48.4,
           48.5,
           47.2,
           41.7,
           43.3,
           50.5,
           43.5,
           46.2,
           47.2,
           46.8,
           45.2
          ],
          "sizemode": "area",
          "sizeref": 0.149,
          "symbol": "circle"
         },
         "mode": "markers",
         "name": "FEMALE",
         "orientation": "v",
         "showlegend": true,
         "type": "scatter",
         "x": [
          39.5,
          40.3,
          36.7,
          38.9,
          41.1,
          36.6,
          38.7,
          34.4,
          37.8,
          35.9,
          35.3,
          40.5,
          37.9,
          39.5,
          39.5,
          36.4,
          42.2,
          37.6,
          36.5,
          36,
          37,
          36,
          39.6,
          35,
          34.5,
          39,
          36.5,
          35.7,
          37.6,
          36.4,
          35.5,
          35.9,
          33.5,
          39.6,
          35.5,
          40.9,
          36.2,
          34.6,
          36.7,
          37.3,
          36.9,
          38.9,
          35.7,
          34,
          36.2,
          38.1,
          33.1,
          35,
          37.7,
          37.9,
          38.6,
          38.1,
          38.1,
          39.7,
          39.6,
          38.6,
          35.7,
          36.2,
          40.2,
          35.2,
          38.8,
          39,
          38.5,
          36.8,
          38.1,
          35.6,
          37,
          40.2,
          32.1,
          37.3,
          36.6,
          36,
          36,
          46.5,
          45.4,
          45.2,
          46.1,
          46,
          46.6,
          47,
          45.9,
          58,
          46.4,
          42.4,
          43.2,
          46.7,
          50.5,
          46.4,
          40.9,
          42.5,
          47.5,
          47.6,
          46.9,
          46.2,
          45.5,
          50.9,
          50.1,
          49.8,
          48.1,
          45.7,
          42.5,
          45.2,
          45.6,
          46.8,
          45.7,
          43.5,
          50.2,
          46.1,
          48.7,
          46.5,
          45.4,
          43.3,
          40.9,
          45.5,
          45.8,
          42,
          46.2,
          45.1,
          46.5,
          42.9,
          48.2,
          42.8,
          45.1,
          49.1,
          42.6,
          44,
          42.7,
          45.3,
          43.6,
          45.5,
          44.9,
          46.6,
          45.1,
          46.5,
          43.8,
          43.2,
          45.3,
          45.7,
          45.8,
          43.5,
          47.7,
          46.5,
          46.4,
          47.5,
          45.2,
          49.1,
          47.4,
          44.9,
          43.4,
          47.5,
          47.5,
          45.5,
          44.5,
          46.9,
          48.4,
          48.5,
          47.2,
          41.7,
          43.3,
          50.5,
          43.5,
          46.2,
          47.2,
          46.8,
          45.2
         ],
         "xaxis": "x",
         "y": [
          17.4,
          18,
          19.3,
          17.8,
          17.6,
          17.8,
          19,
          18.4,
          18.3,
          19.2,
          18.9,
          17.9,
          18.6,
          16.7,
          17.8,
          17,
          18.5,
          19.3,
          18,
          18.5,
          16.9,
          17.9,
          17.7,
          17.9,
          18.1,
          17.5,
          16.6,
          16.9,
          17,
          17.1,
          16.2,
          16.6,
          19,
          17.2,
          17.5,
          16.8,
          16.1,
          17.2,
          18.8,
          17.8,
          18.6,
          18.8,
          18,
          17.1,
          17.3,
          18.6,
          16.1,
          17.9,
          16,
          18.6,
          17.2,
          17,
          16.5,
          17.7,
          20.7,
          17,
          17,
          17.2,
          17,
          15.9,
          17.6,
          17.1,
          17.9,
          18.5,
          17.6,
          17.5,
          16.5,
          17.1,
          15.5,
          16.8,
          18.4,
          17.8,
          17.1,
          17.9,
          18.7,
          17.8,
          18.2,
          18.9,
          17.8,
          17.3,
          17.1,
          17.8,
          18.6,
          17.3,
          16.6,
          17.9,
          18.4,
          17.8,
          16.6,
          16.7,
          16.8,
          18.3,
          16.6,
          17.5,
          17,
          17.9,
          17.9,
          17.3,
          16.4,
          17.3,
          17.3,
          16.6,
          19.4,
          16.5,
          17,
          18.1,
          18.7,
          13.2,
          14.1,
          13.5,
          14.6,
          13.4,
          13.7,
          13.7,
          14.6,
          13.5,
          14.5,
          14.5,
          14.5,
          13.1,
          14.3,
          14.2,
          14.5,
          14.8,
          13.7,
          13.6,
          13.7,
          13.7,
          13.9,
          13.9,
          13.3,
          14.2,
          14.4,
          14.4,
          13.9,
          14.5,
          13.8,
          13.9,
          14.2,
          14.2,
          15,
          14.8,
          15,
          14.2,
          13.8,
          14.5,
          14.6,
          13.8,
          14.4,
          14,
          15,
          14.5,
          14.7,
          14.6,
          14.4,
          15,
          15.5,
          14.7,
          14,
          15.2,
          15.2,
          14.1,
          13.7,
          14.3,
          14.8
         ],
         "yaxis": "y"
        },
        {
         "hovertemplate": "sex=.<br>culmen_length_mm=%{marker.size}<br>culmen_depth_mm=%{y}<extra></extra>",
         "legendgroup": ".",
         "marker": {
          "color": "#F39C12",
          "size": [
           44.5
          ],
          "sizemode": "area",
          "sizeref": 0.149,
          "symbol": "circle"
         },
         "mode": "markers",
         "name": ".",
         "orientation": "v",
         "showlegend": true,
         "type": "scatter",
         "x": [
          44.5
         ],
         "xaxis": "x",
         "y": [
          15.7
         ],
         "yaxis": "y"
        }
       ],
       "layout": {
        "height": 600,
        "legend": {
         "itemsizing": "constant",
         "title": {
          "text": "sex"
         },
         "tracegroupgap": 0
        },
        "template": {
         "data": {
          "bar": [
           {
            "error_x": {
             "color": "rgb(36,36,36)"
            },
            "error_y": {
             "color": "rgb(36,36,36)"
            },
            "marker": {
             "line": {
              "color": "rgb(234,234,242)",
              "width": 0.5
             },
             "pattern": {
              "fillmode": "overlay",
              "size": 10,
              "solidity": 0.2
             }
            },
            "type": "bar"
           }
          ],
          "barpolar": [
           {
            "marker": {
             "line": {
              "color": "rgb(234,234,242)",
              "width": 0.5
             },
             "pattern": {
              "fillmode": "overlay",
              "size": 10,
              "solidity": 0.2
             }
            },
            "type": "barpolar"
           }
          ],
          "carpet": [
           {
            "aaxis": {
             "endlinecolor": "rgb(36,36,36)",
             "gridcolor": "white",
             "linecolor": "white",
             "minorgridcolor": "white",
             "startlinecolor": "rgb(36,36,36)"
            },
            "baxis": {
             "endlinecolor": "rgb(36,36,36)",
             "gridcolor": "white",
             "linecolor": "white",
             "minorgridcolor": "white",
             "startlinecolor": "rgb(36,36,36)"
            },
            "type": "carpet"
           }
          ],
          "choropleth": [
           {
            "colorbar": {
             "outlinewidth": 0,
             "tickcolor": "rgb(36,36,36)",
             "ticklen": 8,
             "ticks": "outside",
             "tickwidth": 2
            },
            "type": "choropleth"
           }
          ],
          "contour": [
           {
            "colorbar": {
             "outlinewidth": 0,
             "tickcolor": "rgb(36,36,36)",
             "ticklen": 8,
             "ticks": "outside",
             "tickwidth": 2
            },
            "colorscale": [
             [
              0,
              "rgb(2,4,25)"
             ],
             [
              0.06274509803921569,
              "rgb(24,15,41)"
             ],
             [
              0.12549019607843137,
              "rgb(47,23,57)"
             ],
             [
              0.18823529411764706,
              "rgb(71,28,72)"
             ],
             [
              0.25098039215686274,
              "rgb(97,30,82)"
             ],
             [
              0.3137254901960784,
              "rgb(123,30,89)"
             ],
             [
              0.3764705882352941,
              "rgb(150,27,91)"
             ],
             [
              0.4392156862745098,
              "rgb(177,22,88)"
             ],
             [
              0.5019607843137255,
              "rgb(203,26,79)"
             ],
             [
              0.5647058823529412,
              "rgb(223,47,67)"
             ],
             [
              0.6274509803921569,
              "rgb(236,76,61)"
             ],
             [
              0.6901960784313725,
              "rgb(242,107,73)"
             ],
             [
              0.7529411764705882,
              "rgb(244,135,95)"
             ],
             [
              0.8156862745098039,
              "rgb(245,162,122)"
             ],
             [
              0.8784313725490196,
              "rgb(246,188,153)"
             ],
             [
              0.9411764705882353,
              "rgb(247,212,187)"
             ],
             [
              1,
              "rgb(250,234,220)"
             ]
            ],
            "type": "contour"
           }
          ],
          "contourcarpet": [
           {
            "colorbar": {
             "outlinewidth": 0,
             "tickcolor": "rgb(36,36,36)",
             "ticklen": 8,
             "ticks": "outside",
             "tickwidth": 2
            },
            "type": "contourcarpet"
           }
          ],
          "heatmap": [
           {
            "colorbar": {
             "outlinewidth": 0,
             "tickcolor": "rgb(36,36,36)",
             "ticklen": 8,
             "ticks": "outside",
             "tickwidth": 2
            },
            "colorscale": [
             [
              0,
              "rgb(2,4,25)"
             ],
             [
              0.06274509803921569,
              "rgb(24,15,41)"
             ],
             [
              0.12549019607843137,
              "rgb(47,23,57)"
             ],
             [
              0.18823529411764706,
              "rgb(71,28,72)"
             ],
             [
              0.25098039215686274,
              "rgb(97,30,82)"
             ],
             [
              0.3137254901960784,
              "rgb(123,30,89)"
             ],
             [
              0.3764705882352941,
              "rgb(150,27,91)"
             ],
             [
              0.4392156862745098,
              "rgb(177,22,88)"
             ],
             [
              0.5019607843137255,
              "rgb(203,26,79)"
             ],
             [
              0.5647058823529412,
              "rgb(223,47,67)"
             ],
             [
              0.6274509803921569,
              "rgb(236,76,61)"
             ],
             [
              0.6901960784313725,
              "rgb(242,107,73)"
             ],
             [
              0.7529411764705882,
              "rgb(244,135,95)"
             ],
             [
              0.8156862745098039,
              "rgb(245,162,122)"
             ],
             [
              0.8784313725490196,
              "rgb(246,188,153)"
             ],
             [
              0.9411764705882353,
              "rgb(247,212,187)"
             ],
             [
              1,
              "rgb(250,234,220)"
             ]
            ],
            "type": "heatmap"
           }
          ],
          "heatmapgl": [
           {
            "colorbar": {
             "outlinewidth": 0,
             "tickcolor": "rgb(36,36,36)",
             "ticklen": 8,
             "ticks": "outside",
             "tickwidth": 2
            },
            "colorscale": [
             [
              0,
              "rgb(2,4,25)"
             ],
             [
              0.06274509803921569,
              "rgb(24,15,41)"
             ],
             [
              0.12549019607843137,
              "rgb(47,23,57)"
             ],
             [
              0.18823529411764706,
              "rgb(71,28,72)"
             ],
             [
              0.25098039215686274,
              "rgb(97,30,82)"
             ],
             [
              0.3137254901960784,
              "rgb(123,30,89)"
             ],
             [
              0.3764705882352941,
              "rgb(150,27,91)"
             ],
             [
              0.4392156862745098,
              "rgb(177,22,88)"
             ],
             [
              0.5019607843137255,
              "rgb(203,26,79)"
             ],
             [
              0.5647058823529412,
              "rgb(223,47,67)"
             ],
             [
              0.6274509803921569,
              "rgb(236,76,61)"
             ],
             [
              0.6901960784313725,
              "rgb(242,107,73)"
             ],
             [
              0.7529411764705882,
              "rgb(244,135,95)"
             ],
             [
              0.8156862745098039,
              "rgb(245,162,122)"
             ],
             [
              0.8784313725490196,
              "rgb(246,188,153)"
             ],
             [
              0.9411764705882353,
              "rgb(247,212,187)"
             ],
             [
              1,
              "rgb(250,234,220)"
             ]
            ],
            "type": "heatmapgl"
           }
          ],
          "histogram": [
           {
            "marker": {
             "pattern": {
              "fillmode": "overlay",
              "size": 10,
              "solidity": 0.2
             }
            },
            "type": "histogram"
           }
          ],
          "histogram2d": [
           {
            "colorbar": {
             "outlinewidth": 0,
             "tickcolor": "rgb(36,36,36)",
             "ticklen": 8,
             "ticks": "outside",
             "tickwidth": 2
            },
            "colorscale": [
             [
              0,
              "rgb(2,4,25)"
             ],
             [
              0.06274509803921569,
              "rgb(24,15,41)"
             ],
             [
              0.12549019607843137,
              "rgb(47,23,57)"
             ],
             [
              0.18823529411764706,
              "rgb(71,28,72)"
             ],
             [
              0.25098039215686274,
              "rgb(97,30,82)"
             ],
             [
              0.3137254901960784,
              "rgb(123,30,89)"
             ],
             [
              0.3764705882352941,
              "rgb(150,27,91)"
             ],
             [
              0.4392156862745098,
              "rgb(177,22,88)"
             ],
             [
              0.5019607843137255,
              "rgb(203,26,79)"
             ],
             [
              0.5647058823529412,
              "rgb(223,47,67)"
             ],
             [
              0.6274509803921569,
              "rgb(236,76,61)"
             ],
             [
              0.6901960784313725,
              "rgb(242,107,73)"
             ],
             [
              0.7529411764705882,
              "rgb(244,135,95)"
             ],
             [
              0.8156862745098039,
              "rgb(245,162,122)"
             ],
             [
              0.8784313725490196,
              "rgb(246,188,153)"
             ],
             [
              0.9411764705882353,
              "rgb(247,212,187)"
             ],
             [
              1,
              "rgb(250,234,220)"
             ]
            ],
            "type": "histogram2d"
           }
          ],
          "histogram2dcontour": [
           {
            "colorbar": {
             "outlinewidth": 0,
             "tickcolor": "rgb(36,36,36)",
             "ticklen": 8,
             "ticks": "outside",
             "tickwidth": 2
            },
            "colorscale": [
             [
              0,
              "rgb(2,4,25)"
             ],
             [
              0.06274509803921569,
              "rgb(24,15,41)"
             ],
             [
              0.12549019607843137,
              "rgb(47,23,57)"
             ],
             [
              0.18823529411764706,
              "rgb(71,28,72)"
             ],
             [
              0.25098039215686274,
              "rgb(97,30,82)"
             ],
             [
              0.3137254901960784,
              "rgb(123,30,89)"
             ],
             [
              0.3764705882352941,
              "rgb(150,27,91)"
             ],
             [
              0.4392156862745098,
              "rgb(177,22,88)"
             ],
             [
              0.5019607843137255,
              "rgb(203,26,79)"
             ],
             [
              0.5647058823529412,
              "rgb(223,47,67)"
             ],
             [
              0.6274509803921569,
              "rgb(236,76,61)"
             ],
             [
              0.6901960784313725,
              "rgb(242,107,73)"
             ],
             [
              0.7529411764705882,
              "rgb(244,135,95)"
             ],
             [
              0.8156862745098039,
              "rgb(245,162,122)"
             ],
             [
              0.8784313725490196,
              "rgb(246,188,153)"
             ],
             [
              0.9411764705882353,
              "rgb(247,212,187)"
             ],
             [
              1,
              "rgb(250,234,220)"
             ]
            ],
            "type": "histogram2dcontour"
           }
          ],
          "mesh3d": [
           {
            "colorbar": {
             "outlinewidth": 0,
             "tickcolor": "rgb(36,36,36)",
             "ticklen": 8,
             "ticks": "outside",
             "tickwidth": 2
            },
            "type": "mesh3d"
           }
          ],
          "parcoords": [
           {
            "line": {
             "colorbar": {
              "outlinewidth": 0,
              "tickcolor": "rgb(36,36,36)",
              "ticklen": 8,
              "ticks": "outside",
              "tickwidth": 2
             }
            },
            "type": "parcoords"
           }
          ],
          "pie": [
           {
            "automargin": true,
            "type": "pie"
           }
          ],
          "scatter": [
           {
            "fillpattern": {
             "fillmode": "overlay",
             "size": 10,
             "solidity": 0.2
            },
            "type": "scatter"
           }
          ],
          "scatter3d": [
           {
            "line": {
             "colorbar": {
              "outlinewidth": 0,
              "tickcolor": "rgb(36,36,36)",
              "ticklen": 8,
              "ticks": "outside",
              "tickwidth": 2
             }
            },
            "marker": {
             "colorbar": {
              "outlinewidth": 0,
              "tickcolor": "rgb(36,36,36)",
              "ticklen": 8,
              "ticks": "outside",
              "tickwidth": 2
             }
            },
            "type": "scatter3d"
           }
          ],
          "scattercarpet": [
           {
            "marker": {
             "colorbar": {
              "outlinewidth": 0,
              "tickcolor": "rgb(36,36,36)",
              "ticklen": 8,
              "ticks": "outside",
              "tickwidth": 2
             }
            },
            "type": "scattercarpet"
           }
          ],
          "scattergeo": [
           {
            "marker": {
             "colorbar": {
              "outlinewidth": 0,
              "tickcolor": "rgb(36,36,36)",
              "ticklen": 8,
              "ticks": "outside",
              "tickwidth": 2
             }
            },
            "type": "scattergeo"
           }
          ],
          "scattergl": [
           {
            "marker": {
             "colorbar": {
              "outlinewidth": 0,
              "tickcolor": "rgb(36,36,36)",
              "ticklen": 8,
              "ticks": "outside",
              "tickwidth": 2
             }
            },
            "type": "scattergl"
           }
          ],
          "scattermapbox": [
           {
            "marker": {
             "colorbar": {
              "outlinewidth": 0,
              "tickcolor": "rgb(36,36,36)",
              "ticklen": 8,
              "ticks": "outside",
              "tickwidth": 2
             }
            },
            "type": "scattermapbox"
           }
          ],
          "scatterpolar": [
           {
            "marker": {
             "colorbar": {
              "outlinewidth": 0,
              "tickcolor": "rgb(36,36,36)",
              "ticklen": 8,
              "ticks": "outside",
              "tickwidth": 2
             }
            },
            "type": "scatterpolar"
           }
          ],
          "scatterpolargl": [
           {
            "marker": {
             "colorbar": {
              "outlinewidth": 0,
              "tickcolor": "rgb(36,36,36)",
              "ticklen": 8,
              "ticks": "outside",
              "tickwidth": 2
             }
            },
            "type": "scatterpolargl"
           }
          ],
          "scatterternary": [
           {
            "marker": {
             "colorbar": {
              "outlinewidth": 0,
              "tickcolor": "rgb(36,36,36)",
              "ticklen": 8,
              "ticks": "outside",
              "tickwidth": 2
             }
            },
            "type": "scatterternary"
           }
          ],
          "surface": [
           {
            "colorbar": {
             "outlinewidth": 0,
             "tickcolor": "rgb(36,36,36)",
             "ticklen": 8,
             "ticks": "outside",
             "tickwidth": 2
            },
            "colorscale": [
             [
              0,
              "rgb(2,4,25)"
             ],
             [
              0.06274509803921569,
              "rgb(24,15,41)"
             ],
             [
              0.12549019607843137,
              "rgb(47,23,57)"
             ],
             [
              0.18823529411764706,
              "rgb(71,28,72)"
             ],
             [
              0.25098039215686274,
              "rgb(97,30,82)"
             ],
             [
              0.3137254901960784,
              "rgb(123,30,89)"
             ],
             [
              0.3764705882352941,
              "rgb(150,27,91)"
             ],
             [
              0.4392156862745098,
              "rgb(177,22,88)"
             ],
             [
              0.5019607843137255,
              "rgb(203,26,79)"
             ],
             [
              0.5647058823529412,
              "rgb(223,47,67)"
             ],
             [
              0.6274509803921569,
              "rgb(236,76,61)"
             ],
             [
              0.6901960784313725,
              "rgb(242,107,73)"
             ],
             [
              0.7529411764705882,
              "rgb(244,135,95)"
             ],
             [
              0.8156862745098039,
              "rgb(245,162,122)"
             ],
             [
              0.8784313725490196,
              "rgb(246,188,153)"
             ],
             [
              0.9411764705882353,
              "rgb(247,212,187)"
             ],
             [
              1,
              "rgb(250,234,220)"
             ]
            ],
            "type": "surface"
           }
          ],
          "table": [
           {
            "cells": {
             "fill": {
              "color": "rgb(231,231,240)"
             },
             "line": {
              "color": "white"
             }
            },
            "header": {
             "fill": {
              "color": "rgb(183,183,191)"
             },
             "line": {
              "color": "white"
             }
            },
            "type": "table"
           }
          ]
         },
         "layout": {
          "annotationdefaults": {
           "arrowcolor": "rgb(67,103,167)"
          },
          "autotypenumbers": "strict",
          "coloraxis": {
           "colorbar": {
            "outlinewidth": 0,
            "tickcolor": "rgb(36,36,36)",
            "ticklen": 8,
            "ticks": "outside",
            "tickwidth": 2
           }
          },
          "colorscale": {
           "sequential": [
            [
             0,
             "rgb(2,4,25)"
            ],
            [
             0.06274509803921569,
             "rgb(24,15,41)"
            ],
            [
             0.12549019607843137,
             "rgb(47,23,57)"
            ],
            [
             0.18823529411764706,
             "rgb(71,28,72)"
            ],
            [
             0.25098039215686274,
             "rgb(97,30,82)"
            ],
            [
             0.3137254901960784,
             "rgb(123,30,89)"
            ],
            [
             0.3764705882352941,
             "rgb(150,27,91)"
            ],
            [
             0.4392156862745098,
             "rgb(177,22,88)"
            ],
            [
             0.5019607843137255,
             "rgb(203,26,79)"
            ],
            [
             0.5647058823529412,
             "rgb(223,47,67)"
            ],
            [
             0.6274509803921569,
             "rgb(236,76,61)"
            ],
            [
             0.6901960784313725,
             "rgb(242,107,73)"
            ],
            [
             0.7529411764705882,
             "rgb(244,135,95)"
            ],
            [
             0.8156862745098039,
             "rgb(245,162,122)"
            ],
            [
             0.8784313725490196,
             "rgb(246,188,153)"
            ],
            [
             0.9411764705882353,
             "rgb(247,212,187)"
            ],
            [
             1,
             "rgb(250,234,220)"
            ]
           ],
           "sequentialminus": [
            [
             0,
             "rgb(2,4,25)"
            ],
            [
             0.06274509803921569,
             "rgb(24,15,41)"
            ],
            [
             0.12549019607843137,
             "rgb(47,23,57)"
            ],
            [
             0.18823529411764706,
             "rgb(71,28,72)"
            ],
            [
             0.25098039215686274,
             "rgb(97,30,82)"
            ],
            [
             0.3137254901960784,
             "rgb(123,30,89)"
            ],
            [
             0.3764705882352941,
             "rgb(150,27,91)"
            ],
            [
             0.4392156862745098,
             "rgb(177,22,88)"
            ],
            [
             0.5019607843137255,
             "rgb(203,26,79)"
            ],
            [
             0.5647058823529412,
             "rgb(223,47,67)"
            ],
            [
             0.6274509803921569,
             "rgb(236,76,61)"
            ],
            [
             0.6901960784313725,
             "rgb(242,107,73)"
            ],
            [
             0.7529411764705882,
             "rgb(244,135,95)"
            ],
            [
             0.8156862745098039,
             "rgb(245,162,122)"
            ],
            [
             0.8784313725490196,
             "rgb(246,188,153)"
            ],
            [
             0.9411764705882353,
             "rgb(247,212,187)"
            ],
            [
             1,
             "rgb(250,234,220)"
            ]
           ]
          },
          "colorway": [
           "rgb(76,114,176)",
           "rgb(221,132,82)",
           "rgb(85,168,104)",
           "rgb(196,78,82)",
           "rgb(129,114,179)",
           "rgb(147,120,96)",
           "rgb(218,139,195)",
           "rgb(140,140,140)",
           "rgb(204,185,116)",
           "rgb(100,181,205)"
          ],
          "font": {
           "color": "rgb(36,36,36)"
          },
          "geo": {
           "bgcolor": "white",
           "lakecolor": "white",
           "landcolor": "rgb(234,234,242)",
           "showlakes": true,
           "showland": true,
           "subunitcolor": "white"
          },
          "hoverlabel": {
           "align": "left"
          },
          "hovermode": "closest",
          "paper_bgcolor": "white",
          "plot_bgcolor": "rgb(234,234,242)",
          "polar": {
           "angularaxis": {
            "gridcolor": "white",
            "linecolor": "white",
            "showgrid": true,
            "ticks": ""
           },
           "bgcolor": "rgb(234,234,242)",
           "radialaxis": {
            "gridcolor": "white",
            "linecolor": "white",
            "showgrid": true,
            "ticks": ""
           }
          },
          "scene": {
           "xaxis": {
            "backgroundcolor": "rgb(234,234,242)",
            "gridcolor": "white",
            "gridwidth": 2,
            "linecolor": "white",
            "showbackground": true,
            "showgrid": true,
            "ticks": "",
            "zerolinecolor": "white"
           },
           "yaxis": {
            "backgroundcolor": "rgb(234,234,242)",
            "gridcolor": "white",
            "gridwidth": 2,
            "linecolor": "white",
            "showbackground": true,
            "showgrid": true,
            "ticks": "",
            "zerolinecolor": "white"
           },
           "zaxis": {
            "backgroundcolor": "rgb(234,234,242)",
            "gridcolor": "white",
            "gridwidth": 2,
            "linecolor": "white",
            "showbackground": true,
            "showgrid": true,
            "ticks": "",
            "zerolinecolor": "white"
           }
          },
          "shapedefaults": {
           "fillcolor": "rgb(67,103,167)",
           "line": {
            "width": 0
           },
           "opacity": 0.5
          },
          "ternary": {
           "aaxis": {
            "gridcolor": "white",
            "linecolor": "white",
            "showgrid": true,
            "ticks": ""
           },
           "baxis": {
            "gridcolor": "white",
            "linecolor": "white",
            "showgrid": true,
            "ticks": ""
           },
           "bgcolor": "rgb(234,234,242)",
           "caxis": {
            "gridcolor": "white",
            "linecolor": "white",
            "showgrid": true,
            "ticks": ""
           }
          },
          "xaxis": {
           "automargin": true,
           "gridcolor": "white",
           "linecolor": "white",
           "showgrid": true,
           "ticks": "",
           "title": {
            "standoff": 15
           },
           "zerolinecolor": "white"
          },
          "yaxis": {
           "automargin": true,
           "gridcolor": "white",
           "linecolor": "white",
           "showgrid": true,
           "ticks": "",
           "title": {
            "standoff": 15
           },
           "zerolinecolor": "white"
          }
         }
        },
        "title": {
         "text": "Scatter Plot of Culmen Length vs Depth by Sex"
        },
        "width": 800,
        "xaxis": {
         "anchor": "y",
         "color": "#7F8C8D",
         "domain": [
          0,
          1
         ],
         "title": {
          "text": "culmen_length_mm"
         }
        },
        "yaxis": {
         "anchor": "x",
         "color": "#7F8C8D",
         "domain": [
          0,
          1
         ],
         "title": {
          "text": "culmen_depth_mm"
         }
        }
       }
      }
     },
     "metadata": {},
     "output_type": "display_data"
    }
   ],
   "source": [
    "fig = px.scatter(data_frame=penguin, x='culmen_length_mm', y='culmen_depth_mm', color='sex', size = 'culmen_length_mm', template = 'seaborn',\n",
    "                 color_discrete_sequence=['#29066B','#EB548C','#F1C40F', '#F39C12'],\n",
    "                 title='Scatter Plot of Culmen Length vs Depth by Sex')\n",
    "fig.update_layout(width = 800, height = 600, xaxis = dict(color = '#7F8C8D'), yaxis = dict(color = '#7F8C8D'))\n",
    "fig.show()"
   ]
  },
  {
   "cell_type": "code",
   "execution_count": 8,
   "id": "ccc68f05",
   "metadata": {},
   "outputs": [
    {
     "data": {
      "application/vnd.plotly.v1+json": {
       "config": {
        "plotlyServerURL": "https://plot.ly"
       },
       "data": [
        {
         "alignmentgroup": "True",
         "hovertemplate": "sex=%{x}<br>flipper_length_mm=%{y}<extra></extra>",
         "legendgroup": "MALE",
         "marker": {
          "color": "#29066B"
         },
         "name": "MALE",
         "notched": false,
         "offsetgroup": "MALE",
         "orientation": "v",
         "showlegend": true,
         "type": "box",
         "x": [
          "MALE",
          "MALE",
          "MALE",
          "MALE",
          "MALE",
          "MALE",
          "MALE",
          "MALE",
          "MALE",
          "MALE",
          "MALE",
          "MALE",
          "MALE",
          "MALE",
          "MALE",
          "MALE",
          "MALE",
          "MALE",
          "MALE",
          "MALE",
          "MALE",
          "MALE",
          "MALE",
          "MALE",
          "MALE",
          "MALE",
          "MALE",
          "MALE",
          "MALE",
          "MALE",
          "MALE",
          "MALE",
          "MALE",
          "MALE",
          "MALE",
          "MALE",
          "MALE",
          "MALE",
          "MALE",
          "MALE",
          "MALE",
          "MALE",
          "MALE",
          "MALE",
          "MALE",
          "MALE",
          "MALE",
          "MALE",
          "MALE",
          "MALE",
          "MALE",
          "MALE",
          "MALE",
          "MALE",
          "MALE",
          "MALE",
          "MALE",
          "MALE",
          "MALE",
          "MALE",
          "MALE",
          "MALE",
          "MALE",
          "MALE",
          "MALE",
          "MALE",
          "MALE",
          "MALE",
          "MALE",
          "MALE",
          "MALE",
          "MALE",
          "MALE",
          "MALE",
          "MALE",
          "MALE",
          "MALE",
          "MALE",
          "MALE",
          "MALE",
          "MALE",
          "MALE",
          "MALE",
          "MALE",
          "MALE",
          "MALE",
          "MALE",
          "MALE",
          "MALE",
          "MALE",
          "MALE",
          "MALE",
          "MALE",
          "MALE",
          "MALE",
          "MALE",
          "MALE",
          "MALE",
          "MALE",
          "MALE",
          "MALE",
          "MALE",
          "MALE",
          "MALE",
          "MALE",
          "MALE",
          "MALE",
          "MALE",
          "MALE",
          "MALE",
          "MALE",
          "MALE",
          "MALE",
          "MALE",
          "MALE",
          "MALE",
          "MALE",
          "MALE",
          "MALE",
          "MALE",
          "MALE",
          "MALE",
          "MALE",
          "MALE",
          "MALE",
          "MALE",
          "MALE",
          "MALE",
          "MALE",
          "MALE",
          "MALE",
          "MALE",
          "MALE",
          "MALE",
          "MALE",
          "MALE",
          "MALE",
          "MALE",
          "MALE",
          "MALE",
          "MALE",
          "MALE",
          "MALE",
          "MALE",
          "MALE",
          "MALE",
          "MALE",
          "MALE",
          "MALE",
          "MALE",
          "MALE",
          "MALE",
          "MALE",
          "MALE",
          "MALE",
          "MALE",
          "MALE",
          "MALE",
          "MALE",
          "MALE",
          "MALE",
          "MALE",
          "MALE",
          "MALE",
          "MALE",
          "MALE",
          "MALE",
          "MALE",
          "MALE"
         ],
         "x0": " ",
         "xaxis": "x",
         "y": [
          181,
          190,
          195,
          5000,
          191,
          -132,
          197,
          194,
          180,
          185,
          180,
          183,
          180,
          178,
          184,
          196,
          190,
          184,
          195,
          196,
          190,
          182,
          191,
          188,
          200,
          191,
          193,
          194,
          195,
          192,
          192,
          188,
          198,
          190,
          197,
          195,
          184,
          195,
          196,
          193,
          194,
          190,
          189,
          205,
          186,
          208,
          196,
          192,
          203,
          190,
          184,
          190,
          197,
          191,
          197,
          196,
          199,
          189,
          198,
          202,
          199,
          195,
          210,
          197,
          199,
          190,
          200,
          193,
          187,
          190,
          185,
          190,
          193,
          201,
          196,
          193,
          197,
          197,
          198,
          194,
          201,
          201,
          197,
          195,
          191,
          193,
          197,
          200,
          205,
          201,
          203,
          195,
          210,
          205,
          210,
          196,
          201,
          212,
          187,
          201,
          203,
          197,
          203,
          202,
          206,
          207,
          193,
          210,
          230,
          218,
          215,
          219,
          215,
          216,
          213,
          217,
          221,
          222,
          218,
          215,
          215,
          215,
          220,
          222,
          230,
          220,
          219,
          208,
          225,
          216,
          222,
          225,
          215,
          220,
          225,
          220,
          220,
          224,
          221,
          231,
          230,
          229,
          223,
          221,
          221,
          230,
          220,
          223,
          221,
          224,
          228,
          218,
          230,
          228,
          224,
          226,
          216,
          225,
          228,
          228,
          215,
          219,
          209,
          229,
          230,
          230,
          222,
          222,
          213
         ],
         "y0": " ",
         "yaxis": "y"
        },
        {
         "alignmentgroup": "True",
         "hovertemplate": "sex=%{x}<br>flipper_length_mm=%{y}<extra></extra>",
         "legendgroup": "FEMALE",
         "marker": {
          "color": "#EB548C"
         },
         "name": "FEMALE",
         "notched": false,
         "offsetgroup": "FEMALE",
         "orientation": "v",
         "showlegend": true,
         "type": "box",
         "x": [
          "FEMALE",
          "FEMALE",
          "FEMALE",
          "FEMALE",
          "FEMALE",
          "FEMALE",
          "FEMALE",
          "FEMALE",
          "FEMALE",
          "FEMALE",
          "FEMALE",
          "FEMALE",
          "FEMALE",
          "FEMALE",
          "FEMALE",
          "FEMALE",
          "FEMALE",
          "FEMALE",
          "FEMALE",
          "FEMALE",
          "FEMALE",
          "FEMALE",
          "FEMALE",
          "FEMALE",
          "FEMALE",
          "FEMALE",
          "FEMALE",
          "FEMALE",
          "FEMALE",
          "FEMALE",
          "FEMALE",
          "FEMALE",
          "FEMALE",
          "FEMALE",
          "FEMALE",
          "FEMALE",
          "FEMALE",
          "FEMALE",
          "FEMALE",
          "FEMALE",
          "FEMALE",
          "FEMALE",
          "FEMALE",
          "FEMALE",
          "FEMALE",
          "FEMALE",
          "FEMALE",
          "FEMALE",
          "FEMALE",
          "FEMALE",
          "FEMALE",
          "FEMALE",
          "FEMALE",
          "FEMALE",
          "FEMALE",
          "FEMALE",
          "FEMALE",
          "FEMALE",
          "FEMALE",
          "FEMALE",
          "FEMALE",
          "FEMALE",
          "FEMALE",
          "FEMALE",
          "FEMALE",
          "FEMALE",
          "FEMALE",
          "FEMALE",
          "FEMALE",
          "FEMALE",
          "FEMALE",
          "FEMALE",
          "FEMALE",
          "FEMALE",
          "FEMALE",
          "FEMALE",
          "FEMALE",
          "FEMALE",
          "FEMALE",
          "FEMALE",
          "FEMALE",
          "FEMALE",
          "FEMALE",
          "FEMALE",
          "FEMALE",
          "FEMALE",
          "FEMALE",
          "FEMALE",
          "FEMALE",
          "FEMALE",
          "FEMALE",
          "FEMALE",
          "FEMALE",
          "FEMALE",
          "FEMALE",
          "FEMALE",
          "FEMALE",
          "FEMALE",
          "FEMALE",
          "FEMALE",
          "FEMALE",
          "FEMALE",
          "FEMALE",
          "FEMALE",
          "FEMALE",
          "FEMALE",
          "FEMALE",
          "FEMALE",
          "FEMALE",
          "FEMALE",
          "FEMALE",
          "FEMALE",
          "FEMALE",
          "FEMALE",
          "FEMALE",
          "FEMALE",
          "FEMALE",
          "FEMALE",
          "FEMALE",
          "FEMALE",
          "FEMALE",
          "FEMALE",
          "FEMALE",
          "FEMALE",
          "FEMALE",
          "FEMALE",
          "FEMALE",
          "FEMALE",
          "FEMALE",
          "FEMALE",
          "FEMALE",
          "FEMALE",
          "FEMALE",
          "FEMALE",
          "FEMALE",
          "FEMALE",
          "FEMALE",
          "FEMALE",
          "FEMALE",
          "FEMALE",
          "FEMALE",
          "FEMALE",
          "FEMALE",
          "FEMALE",
          "FEMALE",
          "FEMALE",
          "FEMALE",
          "FEMALE",
          "FEMALE",
          "FEMALE",
          "FEMALE",
          "FEMALE",
          "FEMALE",
          "FEMALE",
          "FEMALE",
          "FEMALE",
          "FEMALE",
          "FEMALE",
          "FEMALE",
          "FEMALE",
          "FEMALE",
          "FEMALE",
          "FEMALE",
          "FEMALE",
          "FEMALE"
         ],
         "x0": " ",
         "xaxis": "x",
         "y": [
          186,
          195,
          193,
          181,
          182,
          185,
          195,
          184,
          174,
          189,
          187,
          187,
          172,
          178,
          188,
          195,
          180,
          181,
          182,
          186,
          185,
          190,
          186,
          190,
          187,
          186,
          181,
          185,
          185,
          184,
          195,
          190,
          190,
          196,
          190,
          191,
          187,
          189,
          187,
          191,
          189,
          190,
          202,
          185,
          187,
          190,
          178,
          192,
          183,
          193,
          199,
          181,
          198,
          193,
          191,
          188,
          189,
          187,
          176,
          186,
          191,
          191,
          190,
          193,
          187,
          191,
          185,
          193,
          188,
          192,
          184,
          195,
          187,
          192,
          188,
          198,
          178,
          195,
          193,
          185,
          190,
          181,
          190,
          181,
          187,
          195,
          200,
          191,
          187,
          187,
          199,
          195,
          192,
          187,
          196,
          196,
          190,
          198,
          199,
          193,
          187,
          191,
          194,
          189,
          195,
          202,
          198,
          211,
          210,
          210,
          211,
          209,
          214,
          214,
          210,
          210,
          209,
          215,
          213,
          215,
          210,
          209,
          207,
          220,
          213,
          208,
          208,
          210,
          217,
          210,
          213,
          210,
          210,
          217,
          208,
          208,
          208,
          214,
          219,
          220,
          216,
          217,
          216,
          209,
          215,
          212,
          212,
          212,
          218,
          212,
          218,
          212,
          214,
          222,
          203,
          219,
          215,
          210,
          208,
          216,
          213,
          217,
          214,
          215,
          212
         ],
         "y0": " ",
         "yaxis": "y"
        },
        {
         "alignmentgroup": "True",
         "hovertemplate": "sex=%{x}<br>flipper_length_mm=%{y}<extra></extra>",
         "legendgroup": ".",
         "marker": {
          "color": "#F39C12"
         },
         "name": ".",
         "notched": false,
         "offsetgroup": ".",
         "orientation": "v",
         "showlegend": true,
         "type": "box",
         "x": [
          "."
         ],
         "x0": " ",
         "xaxis": "x",
         "y": [
          217
         ],
         "y0": " ",
         "yaxis": "y"
        }
       ],
       "layout": {
        "boxmode": "overlay",
        "legend": {
         "title": {
          "text": "sex"
         },
         "tracegroupgap": 0
        },
        "template": {
         "data": {
          "bar": [
           {
            "error_x": {
             "color": "#2a3f5f"
            },
            "error_y": {
             "color": "#2a3f5f"
            },
            "marker": {
             "line": {
              "color": "#E5ECF6",
              "width": 0.5
             },
             "pattern": {
              "fillmode": "overlay",
              "size": 10,
              "solidity": 0.2
             }
            },
            "type": "bar"
           }
          ],
          "barpolar": [
           {
            "marker": {
             "line": {
              "color": "#E5ECF6",
              "width": 0.5
             },
             "pattern": {
              "fillmode": "overlay",
              "size": 10,
              "solidity": 0.2
             }
            },
            "type": "barpolar"
           }
          ],
          "carpet": [
           {
            "aaxis": {
             "endlinecolor": "#2a3f5f",
             "gridcolor": "white",
             "linecolor": "white",
             "minorgridcolor": "white",
             "startlinecolor": "#2a3f5f"
            },
            "baxis": {
             "endlinecolor": "#2a3f5f",
             "gridcolor": "white",
             "linecolor": "white",
             "minorgridcolor": "white",
             "startlinecolor": "#2a3f5f"
            },
            "type": "carpet"
           }
          ],
          "choropleth": [
           {
            "colorbar": {
             "outlinewidth": 0,
             "ticks": ""
            },
            "type": "choropleth"
           }
          ],
          "contour": [
           {
            "colorbar": {
             "outlinewidth": 0,
             "ticks": ""
            },
            "colorscale": [
             [
              0,
              "#0d0887"
             ],
             [
              0.1111111111111111,
              "#46039f"
             ],
             [
              0.2222222222222222,
              "#7201a8"
             ],
             [
              0.3333333333333333,
              "#9c179e"
             ],
             [
              0.4444444444444444,
              "#bd3786"
             ],
             [
              0.5555555555555556,
              "#d8576b"
             ],
             [
              0.6666666666666666,
              "#ed7953"
             ],
             [
              0.7777777777777778,
              "#fb9f3a"
             ],
             [
              0.8888888888888888,
              "#fdca26"
             ],
             [
              1,
              "#f0f921"
             ]
            ],
            "type": "contour"
           }
          ],
          "contourcarpet": [
           {
            "colorbar": {
             "outlinewidth": 0,
             "ticks": ""
            },
            "type": "contourcarpet"
           }
          ],
          "heatmap": [
           {
            "colorbar": {
             "outlinewidth": 0,
             "ticks": ""
            },
            "colorscale": [
             [
              0,
              "#0d0887"
             ],
             [
              0.1111111111111111,
              "#46039f"
             ],
             [
              0.2222222222222222,
              "#7201a8"
             ],
             [
              0.3333333333333333,
              "#9c179e"
             ],
             [
              0.4444444444444444,
              "#bd3786"
             ],
             [
              0.5555555555555556,
              "#d8576b"
             ],
             [
              0.6666666666666666,
              "#ed7953"
             ],
             [
              0.7777777777777778,
              "#fb9f3a"
             ],
             [
              0.8888888888888888,
              "#fdca26"
             ],
             [
              1,
              "#f0f921"
             ]
            ],
            "type": "heatmap"
           }
          ],
          "heatmapgl": [
           {
            "colorbar": {
             "outlinewidth": 0,
             "ticks": ""
            },
            "colorscale": [
             [
              0,
              "#0d0887"
             ],
             [
              0.1111111111111111,
              "#46039f"
             ],
             [
              0.2222222222222222,
              "#7201a8"
             ],
             [
              0.3333333333333333,
              "#9c179e"
             ],
             [
              0.4444444444444444,
              "#bd3786"
             ],
             [
              0.5555555555555556,
              "#d8576b"
             ],
             [
              0.6666666666666666,
              "#ed7953"
             ],
             [
              0.7777777777777778,
              "#fb9f3a"
             ],
             [
              0.8888888888888888,
              "#fdca26"
             ],
             [
              1,
              "#f0f921"
             ]
            ],
            "type": "heatmapgl"
           }
          ],
          "histogram": [
           {
            "marker": {
             "pattern": {
              "fillmode": "overlay",
              "size": 10,
              "solidity": 0.2
             }
            },
            "type": "histogram"
           }
          ],
          "histogram2d": [
           {
            "colorbar": {
             "outlinewidth": 0,
             "ticks": ""
            },
            "colorscale": [
             [
              0,
              "#0d0887"
             ],
             [
              0.1111111111111111,
              "#46039f"
             ],
             [
              0.2222222222222222,
              "#7201a8"
             ],
             [
              0.3333333333333333,
              "#9c179e"
             ],
             [
              0.4444444444444444,
              "#bd3786"
             ],
             [
              0.5555555555555556,
              "#d8576b"
             ],
             [
              0.6666666666666666,
              "#ed7953"
             ],
             [
              0.7777777777777778,
              "#fb9f3a"
             ],
             [
              0.8888888888888888,
              "#fdca26"
             ],
             [
              1,
              "#f0f921"
             ]
            ],
            "type": "histogram2d"
           }
          ],
          "histogram2dcontour": [
           {
            "colorbar": {
             "outlinewidth": 0,
             "ticks": ""
            },
            "colorscale": [
             [
              0,
              "#0d0887"
             ],
             [
              0.1111111111111111,
              "#46039f"
             ],
             [
              0.2222222222222222,
              "#7201a8"
             ],
             [
              0.3333333333333333,
              "#9c179e"
             ],
             [
              0.4444444444444444,
              "#bd3786"
             ],
             [
              0.5555555555555556,
              "#d8576b"
             ],
             [
              0.6666666666666666,
              "#ed7953"
             ],
             [
              0.7777777777777778,
              "#fb9f3a"
             ],
             [
              0.8888888888888888,
              "#fdca26"
             ],
             [
              1,
              "#f0f921"
             ]
            ],
            "type": "histogram2dcontour"
           }
          ],
          "mesh3d": [
           {
            "colorbar": {
             "outlinewidth": 0,
             "ticks": ""
            },
            "type": "mesh3d"
           }
          ],
          "parcoords": [
           {
            "line": {
             "colorbar": {
              "outlinewidth": 0,
              "ticks": ""
             }
            },
            "type": "parcoords"
           }
          ],
          "pie": [
           {
            "automargin": true,
            "type": "pie"
           }
          ],
          "scatter": [
           {
            "fillpattern": {
             "fillmode": "overlay",
             "size": 10,
             "solidity": 0.2
            },
            "type": "scatter"
           }
          ],
          "scatter3d": [
           {
            "line": {
             "colorbar": {
              "outlinewidth": 0,
              "ticks": ""
             }
            },
            "marker": {
             "colorbar": {
              "outlinewidth": 0,
              "ticks": ""
             }
            },
            "type": "scatter3d"
           }
          ],
          "scattercarpet": [
           {
            "marker": {
             "colorbar": {
              "outlinewidth": 0,
              "ticks": ""
             }
            },
            "type": "scattercarpet"
           }
          ],
          "scattergeo": [
           {
            "marker": {
             "colorbar": {
              "outlinewidth": 0,
              "ticks": ""
             }
            },
            "type": "scattergeo"
           }
          ],
          "scattergl": [
           {
            "marker": {
             "colorbar": {
              "outlinewidth": 0,
              "ticks": ""
             }
            },
            "type": "scattergl"
           }
          ],
          "scattermapbox": [
           {
            "marker": {
             "colorbar": {
              "outlinewidth": 0,
              "ticks": ""
             }
            },
            "type": "scattermapbox"
           }
          ],
          "scatterpolar": [
           {
            "marker": {
             "colorbar": {
              "outlinewidth": 0,
              "ticks": ""
             }
            },
            "type": "scatterpolar"
           }
          ],
          "scatterpolargl": [
           {
            "marker": {
             "colorbar": {
              "outlinewidth": 0,
              "ticks": ""
             }
            },
            "type": "scatterpolargl"
           }
          ],
          "scatterternary": [
           {
            "marker": {
             "colorbar": {
              "outlinewidth": 0,
              "ticks": ""
             }
            },
            "type": "scatterternary"
           }
          ],
          "surface": [
           {
            "colorbar": {
             "outlinewidth": 0,
             "ticks": ""
            },
            "colorscale": [
             [
              0,
              "#0d0887"
             ],
             [
              0.1111111111111111,
              "#46039f"
             ],
             [
              0.2222222222222222,
              "#7201a8"
             ],
             [
              0.3333333333333333,
              "#9c179e"
             ],
             [
              0.4444444444444444,
              "#bd3786"
             ],
             [
              0.5555555555555556,
              "#d8576b"
             ],
             [
              0.6666666666666666,
              "#ed7953"
             ],
             [
              0.7777777777777778,
              "#fb9f3a"
             ],
             [
              0.8888888888888888,
              "#fdca26"
             ],
             [
              1,
              "#f0f921"
             ]
            ],
            "type": "surface"
           }
          ],
          "table": [
           {
            "cells": {
             "fill": {
              "color": "#EBF0F8"
             },
             "line": {
              "color": "white"
             }
            },
            "header": {
             "fill": {
              "color": "#C8D4E3"
             },
             "line": {
              "color": "white"
             }
            },
            "type": "table"
           }
          ]
         },
         "layout": {
          "annotationdefaults": {
           "arrowcolor": "#2a3f5f",
           "arrowhead": 0,
           "arrowwidth": 1
          },
          "autotypenumbers": "strict",
          "coloraxis": {
           "colorbar": {
            "outlinewidth": 0,
            "ticks": ""
           }
          },
          "colorscale": {
           "diverging": [
            [
             0,
             "#8e0152"
            ],
            [
             0.1,
             "#c51b7d"
            ],
            [
             0.2,
             "#de77ae"
            ],
            [
             0.3,
             "#f1b6da"
            ],
            [
             0.4,
             "#fde0ef"
            ],
            [
             0.5,
             "#f7f7f7"
            ],
            [
             0.6,
             "#e6f5d0"
            ],
            [
             0.7,
             "#b8e186"
            ],
            [
             0.8,
             "#7fbc41"
            ],
            [
             0.9,
             "#4d9221"
            ],
            [
             1,
             "#276419"
            ]
           ],
           "sequential": [
            [
             0,
             "#0d0887"
            ],
            [
             0.1111111111111111,
             "#46039f"
            ],
            [
             0.2222222222222222,
             "#7201a8"
            ],
            [
             0.3333333333333333,
             "#9c179e"
            ],
            [
             0.4444444444444444,
             "#bd3786"
            ],
            [
             0.5555555555555556,
             "#d8576b"
            ],
            [
             0.6666666666666666,
             "#ed7953"
            ],
            [
             0.7777777777777778,
             "#fb9f3a"
            ],
            [
             0.8888888888888888,
             "#fdca26"
            ],
            [
             1,
             "#f0f921"
            ]
           ],
           "sequentialminus": [
            [
             0,
             "#0d0887"
            ],
            [
             0.1111111111111111,
             "#46039f"
            ],
            [
             0.2222222222222222,
             "#7201a8"
            ],
            [
             0.3333333333333333,
             "#9c179e"
            ],
            [
             0.4444444444444444,
             "#bd3786"
            ],
            [
             0.5555555555555556,
             "#d8576b"
            ],
            [
             0.6666666666666666,
             "#ed7953"
            ],
            [
             0.7777777777777778,
             "#fb9f3a"
            ],
            [
             0.8888888888888888,
             "#fdca26"
            ],
            [
             1,
             "#f0f921"
            ]
           ]
          },
          "colorway": [
           "#636efa",
           "#EF553B",
           "#00cc96",
           "#ab63fa",
           "#FFA15A",
           "#19d3f3",
           "#FF6692",
           "#B6E880",
           "#FF97FF",
           "#FECB52"
          ],
          "font": {
           "color": "#2a3f5f"
          },
          "geo": {
           "bgcolor": "white",
           "lakecolor": "white",
           "landcolor": "#E5ECF6",
           "showlakes": true,
           "showland": true,
           "subunitcolor": "white"
          },
          "hoverlabel": {
           "align": "left"
          },
          "hovermode": "closest",
          "mapbox": {
           "style": "light"
          },
          "paper_bgcolor": "white",
          "plot_bgcolor": "#E5ECF6",
          "polar": {
           "angularaxis": {
            "gridcolor": "white",
            "linecolor": "white",
            "ticks": ""
           },
           "bgcolor": "#E5ECF6",
           "radialaxis": {
            "gridcolor": "white",
            "linecolor": "white",
            "ticks": ""
           }
          },
          "scene": {
           "xaxis": {
            "backgroundcolor": "#E5ECF6",
            "gridcolor": "white",
            "gridwidth": 2,
            "linecolor": "white",
            "showbackground": true,
            "ticks": "",
            "zerolinecolor": "white"
           },
           "yaxis": {
            "backgroundcolor": "#E5ECF6",
            "gridcolor": "white",
            "gridwidth": 2,
            "linecolor": "white",
            "showbackground": true,
            "ticks": "",
            "zerolinecolor": "white"
           },
           "zaxis": {
            "backgroundcolor": "#E5ECF6",
            "gridcolor": "white",
            "gridwidth": 2,
            "linecolor": "white",
            "showbackground": true,
            "ticks": "",
            "zerolinecolor": "white"
           }
          },
          "shapedefaults": {
           "line": {
            "color": "#2a3f5f"
           }
          },
          "ternary": {
           "aaxis": {
            "gridcolor": "white",
            "linecolor": "white",
            "ticks": ""
           },
           "baxis": {
            "gridcolor": "white",
            "linecolor": "white",
            "ticks": ""
           },
           "bgcolor": "#E5ECF6",
           "caxis": {
            "gridcolor": "white",
            "linecolor": "white",
            "ticks": ""
           }
          },
          "title": {
           "x": 0.05
          },
          "xaxis": {
           "automargin": true,
           "gridcolor": "white",
           "linecolor": "white",
           "ticks": "",
           "title": {
            "standoff": 15
           },
           "zerolinecolor": "white",
           "zerolinewidth": 2
          },
          "yaxis": {
           "automargin": true,
           "gridcolor": "white",
           "linecolor": "white",
           "ticks": "",
           "title": {
            "standoff": 15
           },
           "zerolinecolor": "white",
           "zerolinewidth": 2
          }
         }
        },
        "title": {
         "text": "Box Plot of Flipper Length by Sex"
        },
        "xaxis": {
         "anchor": "y",
         "categoryarray": [
          "MALE",
          "FEMALE",
          null,
          "."
         ],
         "categoryorder": "array",
         "domain": [
          0,
          1
         ],
         "title": {
          "text": "sex"
         }
        },
        "yaxis": {
         "anchor": "x",
         "domain": [
          0,
          1
         ],
         "title": {
          "text": "flipper_length_mm"
         }
        }
       }
      }
     },
     "metadata": {},
     "output_type": "display_data"
    }
   ],
   "source": [
    "fig = px.box(data_frame=penguin, x ='sex', y = 'flipper_length_mm', color = 'sex',\n",
    "             color_discrete_sequence=['#29066B','#EB548C','#F1C40F', '#F39C12'],\n",
    "             title='Box Plot of Flipper Length by Sex',\n",
    "             orientation='v')\n",
    "fig.show()"
   ]
  },
  {
   "cell_type": "code",
   "execution_count": 9,
   "id": "9a00897f",
   "metadata": {},
   "outputs": [
    {
     "data": {
      "application/vnd.plotly.v1+json": {
       "config": {
        "plotlyServerURL": "https://plot.ly"
       },
       "data": [
        {
         "alignmentgroup": "True",
         "hovertemplate": "sex=%{x}<br>body_mass_g=%{y}<extra></extra>",
         "legendgroup": "MALE",
         "marker": {
          "color": "#29066B"
         },
         "name": "MALE",
         "notched": false,
         "offsetgroup": "MALE",
         "orientation": "v",
         "showlegend": true,
         "type": "box",
         "x": [
          "MALE",
          "MALE",
          "MALE",
          "MALE",
          "MALE",
          "MALE",
          "MALE",
          "MALE",
          "MALE",
          "MALE",
          "MALE",
          "MALE",
          "MALE",
          "MALE",
          "MALE",
          "MALE",
          "MALE",
          "MALE",
          "MALE",
          "MALE",
          "MALE",
          "MALE",
          "MALE",
          "MALE",
          "MALE",
          "MALE",
          "MALE",
          "MALE",
          "MALE",
          "MALE",
          "MALE",
          "MALE",
          "MALE",
          "MALE",
          "MALE",
          "MALE",
          "MALE",
          "MALE",
          "MALE",
          "MALE",
          "MALE",
          "MALE",
          "MALE",
          "MALE",
          "MALE",
          "MALE",
          "MALE",
          "MALE",
          "MALE",
          "MALE",
          "MALE",
          "MALE",
          "MALE",
          "MALE",
          "MALE",
          "MALE",
          "MALE",
          "MALE",
          "MALE",
          "MALE",
          "MALE",
          "MALE",
          "MALE",
          "MALE",
          "MALE",
          "MALE",
          "MALE",
          "MALE",
          "MALE",
          "MALE",
          "MALE",
          "MALE",
          "MALE",
          "MALE",
          "MALE",
          "MALE",
          "MALE",
          "MALE",
          "MALE",
          "MALE",
          "MALE",
          "MALE",
          "MALE",
          "MALE",
          "MALE",
          "MALE",
          "MALE",
          "MALE",
          "MALE",
          "MALE",
          "MALE",
          "MALE",
          "MALE",
          "MALE",
          "MALE",
          "MALE",
          "MALE",
          "MALE",
          "MALE",
          "MALE",
          "MALE",
          "MALE",
          "MALE",
          "MALE",
          "MALE",
          "MALE",
          "MALE",
          "MALE",
          "MALE",
          "MALE",
          "MALE",
          "MALE",
          "MALE",
          "MALE",
          "MALE",
          "MALE",
          "MALE",
          "MALE",
          "MALE",
          "MALE",
          "MALE",
          "MALE",
          "MALE",
          "MALE",
          "MALE",
          "MALE",
          "MALE",
          "MALE",
          "MALE",
          "MALE",
          "MALE",
          "MALE",
          "MALE",
          "MALE",
          "MALE",
          "MALE",
          "MALE",
          "MALE",
          "MALE",
          "MALE",
          "MALE",
          "MALE",
          "MALE",
          "MALE",
          "MALE",
          "MALE",
          "MALE",
          "MALE",
          "MALE",
          "MALE",
          "MALE",
          "MALE",
          "MALE",
          "MALE",
          "MALE",
          "MALE",
          "MALE",
          "MALE",
          "MALE",
          "MALE",
          "MALE",
          "MALE",
          "MALE",
          "MALE",
          "MALE",
          "MALE",
          "MALE",
          "MALE",
          "MALE"
         ],
         "x0": " ",
         "xaxis": "x",
         "y": [
          3750,
          3650,
          4675,
          4250,
          3800,
          4400,
          4500,
          4200,
          3600,
          3950,
          3800,
          3550,
          3950,
          3900,
          3900,
          4150,
          3950,
          4650,
          3900,
          4400,
          4600,
          3425,
          4150,
          4300,
          4050,
          3700,
          3800,
          3750,
          4400,
          4050,
          3950,
          4100,
          4450,
          3900,
          4150,
          4250,
          3900,
          4000,
          4700,
          4200,
          3550,
          3800,
          3950,
          4300,
          4450,
          4300,
          4350,
          4100,
          4725,
          4250,
          3550,
          3900,
          4775,
          4600,
          4275,
          4075,
          3775,
          3325,
          3500,
          3875,
          4000,
          4300,
          4000,
          3500,
          4475,
          3900,
          3975,
          4250,
          3475,
          3725,
          3650,
          4250,
          3750,
          4000,
          3900,
          3650,
          3725,
          3750,
          3700,
          3775,
          4050,
          4050,
          3300,
          4400,
          3400,
          3800,
          4150,
          3800,
          4550,
          4300,
          4100,
          3600,
          4800,
          4500,
          3950,
          3550,
          4450,
          4300,
          3250,
          3950,
          4050,
          3450,
          4050,
          3800,
          3950,
          4000,
          3775,
          4100,
          5700,
          5700,
          5400,
          5200,
          5150,
          5550,
          5850,
          5850,
          6300,
          5350,
          5700,
          5050,
          5100,
          5650,
          5550,
          5250,
          6050,
          5400,
          5250,
          5350,
          5700,
          4750,
          5550,
          5400,
          5300,
          5300,
          5000,
          5050,
          5000,
          5550,
          5300,
          5650,
          5700,
          5800,
          5550,
          5000,
          5100,
          5800,
          6000,
          5950,
          5450,
          5350,
          5600,
          5300,
          5550,
          5400,
          5650,
          5200,
          4925,
          5250,
          5600,
          5500,
          5500,
          5500,
          5500,
          5950,
          5500,
          5850,
          6000,
          5750,
          5400
         ],
         "y0": " ",
         "yaxis": "y"
        },
        {
         "alignmentgroup": "True",
         "hovertemplate": "sex=%{x}<br>body_mass_g=%{y}<extra></extra>",
         "legendgroup": "FEMALE",
         "marker": {
          "color": "#EB548C"
         },
         "name": "FEMALE",
         "notched": false,
         "offsetgroup": "FEMALE",
         "orientation": "v",
         "showlegend": true,
         "type": "box",
         "x": [
          "FEMALE",
          "FEMALE",
          "FEMALE",
          "FEMALE",
          "FEMALE",
          "FEMALE",
          "FEMALE",
          "FEMALE",
          "FEMALE",
          "FEMALE",
          "FEMALE",
          "FEMALE",
          "FEMALE",
          "FEMALE",
          "FEMALE",
          "FEMALE",
          "FEMALE",
          "FEMALE",
          "FEMALE",
          "FEMALE",
          "FEMALE",
          "FEMALE",
          "FEMALE",
          "FEMALE",
          "FEMALE",
          "FEMALE",
          "FEMALE",
          "FEMALE",
          "FEMALE",
          "FEMALE",
          "FEMALE",
          "FEMALE",
          "FEMALE",
          "FEMALE",
          "FEMALE",
          "FEMALE",
          "FEMALE",
          "FEMALE",
          "FEMALE",
          "FEMALE",
          "FEMALE",
          "FEMALE",
          "FEMALE",
          "FEMALE",
          "FEMALE",
          "FEMALE",
          "FEMALE",
          "FEMALE",
          "FEMALE",
          "FEMALE",
          "FEMALE",
          "FEMALE",
          "FEMALE",
          "FEMALE",
          "FEMALE",
          "FEMALE",
          "FEMALE",
          "FEMALE",
          "FEMALE",
          "FEMALE",
          "FEMALE",
          "FEMALE",
          "FEMALE",
          "FEMALE",
          "FEMALE",
          "FEMALE",
          "FEMALE",
          "FEMALE",
          "FEMALE",
          "FEMALE",
          "FEMALE",
          "FEMALE",
          "FEMALE",
          "FEMALE",
          "FEMALE",
          "FEMALE",
          "FEMALE",
          "FEMALE",
          "FEMALE",
          "FEMALE",
          "FEMALE",
          "FEMALE",
          "FEMALE",
          "FEMALE",
          "FEMALE",
          "FEMALE",
          "FEMALE",
          "FEMALE",
          "FEMALE",
          "FEMALE",
          "FEMALE",
          "FEMALE",
          "FEMALE",
          "FEMALE",
          "FEMALE",
          "FEMALE",
          "FEMALE",
          "FEMALE",
          "FEMALE",
          "FEMALE",
          "FEMALE",
          "FEMALE",
          "FEMALE",
          "FEMALE",
          "FEMALE",
          "FEMALE",
          "FEMALE",
          "FEMALE",
          "FEMALE",
          "FEMALE",
          "FEMALE",
          "FEMALE",
          "FEMALE",
          "FEMALE",
          "FEMALE",
          "FEMALE",
          "FEMALE",
          "FEMALE",
          "FEMALE",
          "FEMALE",
          "FEMALE",
          "FEMALE",
          "FEMALE",
          "FEMALE",
          "FEMALE",
          "FEMALE",
          "FEMALE",
          "FEMALE",
          "FEMALE",
          "FEMALE",
          "FEMALE",
          "FEMALE",
          "FEMALE",
          "FEMALE",
          "FEMALE",
          "FEMALE",
          "FEMALE",
          "FEMALE",
          "FEMALE",
          "FEMALE",
          "FEMALE",
          "FEMALE",
          "FEMALE",
          "FEMALE",
          "FEMALE",
          "FEMALE",
          "FEMALE",
          "FEMALE",
          "FEMALE",
          "FEMALE",
          "FEMALE",
          "FEMALE",
          "FEMALE",
          "FEMALE",
          "FEMALE",
          "FEMALE",
          "FEMALE",
          "FEMALE",
          "FEMALE",
          "FEMALE",
          "FEMALE",
          "FEMALE",
          "FEMALE",
          "FEMALE",
          "FEMALE"
         ],
         "x0": " ",
         "xaxis": "x",
         "y": [
          3800,
          3250,
          3450,
          3625,
          3200,
          3700,
          3450,
          3325,
          3400,
          3800,
          3800,
          3200,
          3150,
          3250,
          3300,
          3325,
          3550,
          3300,
          3150,
          3100,
          3000,
          3450,
          3500,
          3450,
          2900,
          3550,
          2850,
          3150,
          3600,
          2850,
          3350,
          3050,
          3600,
          3550,
          3700,
          3700,
          3550,
          3200,
          3800,
          3350,
          3500,
          3600,
          3550,
          3400,
          3300,
          3700,
          2900,
          3725,
          3075,
          2925,
          3750,
          3175,
          3825,
          3200,
          3900,
          2900,
          3350,
          3150,
          3450,
          3050,
          3275,
          3050,
          3325,
          3500,
          3425,
          3175,
          3400,
          3400,
          3050,
          3000,
          3475,
          3450,
          3700,
          3500,
          3525,
          3950,
          3250,
          4150,
          3800,
          3700,
          3575,
          3700,
          3450,
          3600,
          2900,
          3300,
          3400,
          3700,
          3200,
          3350,
          3900,
          3850,
          2700,
          3650,
          3500,
          3675,
          3400,
          3675,
          3325,
          3600,
          3350,
          3250,
          3525,
          3650,
          3650,
          3400,
          3775,
          4500,
          4450,
          4550,
          4800,
          4400,
          4650,
          4650,
          4200,
          4150,
          4800,
          5000,
          4400,
          5000,
          4600,
          4700,
          5050,
          5150,
          4950,
          4350,
          3950,
          4300,
          4900,
          4200,
          5100,
          4850,
          4400,
          4900,
          4300,
          4450,
          4200,
          4400,
          4700,
          4700,
          4750,
          5200,
          4700,
          4600,
          4750,
          4625,
          4725,
          4750,
          4600,
          4875,
          4950,
          4750,
          4850,
          4875,
          4625,
          4850,
          4975,
          4700,
          4575,
          5000,
          4650,
          4375,
          4925,
          4850,
          5200
         ],
         "y0": " ",
         "yaxis": "y"
        },
        {
         "alignmentgroup": "True",
         "hovertemplate": "sex=%{x}<br>body_mass_g=%{y}<extra></extra>",
         "legendgroup": ".",
         "marker": {
          "color": "#F39C12"
         },
         "name": ".",
         "notched": false,
         "offsetgroup": ".",
         "orientation": "v",
         "showlegend": true,
         "type": "box",
         "x": [
          "."
         ],
         "x0": " ",
         "xaxis": "x",
         "y": [
          4875
         ],
         "y0": " ",
         "yaxis": "y"
        }
       ],
       "layout": {
        "boxmode": "overlay",
        "legend": {
         "title": {
          "text": "sex"
         },
         "tracegroupgap": 0
        },
        "template": {
         "data": {
          "bar": [
           {
            "error_x": {
             "color": "#2a3f5f"
            },
            "error_y": {
             "color": "#2a3f5f"
            },
            "marker": {
             "line": {
              "color": "#E5ECF6",
              "width": 0.5
             },
             "pattern": {
              "fillmode": "overlay",
              "size": 10,
              "solidity": 0.2
             }
            },
            "type": "bar"
           }
          ],
          "barpolar": [
           {
            "marker": {
             "line": {
              "color": "#E5ECF6",
              "width": 0.5
             },
             "pattern": {
              "fillmode": "overlay",
              "size": 10,
              "solidity": 0.2
             }
            },
            "type": "barpolar"
           }
          ],
          "carpet": [
           {
            "aaxis": {
             "endlinecolor": "#2a3f5f",
             "gridcolor": "white",
             "linecolor": "white",
             "minorgridcolor": "white",
             "startlinecolor": "#2a3f5f"
            },
            "baxis": {
             "endlinecolor": "#2a3f5f",
             "gridcolor": "white",
             "linecolor": "white",
             "minorgridcolor": "white",
             "startlinecolor": "#2a3f5f"
            },
            "type": "carpet"
           }
          ],
          "choropleth": [
           {
            "colorbar": {
             "outlinewidth": 0,
             "ticks": ""
            },
            "type": "choropleth"
           }
          ],
          "contour": [
           {
            "colorbar": {
             "outlinewidth": 0,
             "ticks": ""
            },
            "colorscale": [
             [
              0,
              "#0d0887"
             ],
             [
              0.1111111111111111,
              "#46039f"
             ],
             [
              0.2222222222222222,
              "#7201a8"
             ],
             [
              0.3333333333333333,
              "#9c179e"
             ],
             [
              0.4444444444444444,
              "#bd3786"
             ],
             [
              0.5555555555555556,
              "#d8576b"
             ],
             [
              0.6666666666666666,
              "#ed7953"
             ],
             [
              0.7777777777777778,
              "#fb9f3a"
             ],
             [
              0.8888888888888888,
              "#fdca26"
             ],
             [
              1,
              "#f0f921"
             ]
            ],
            "type": "contour"
           }
          ],
          "contourcarpet": [
           {
            "colorbar": {
             "outlinewidth": 0,
             "ticks": ""
            },
            "type": "contourcarpet"
           }
          ],
          "heatmap": [
           {
            "colorbar": {
             "outlinewidth": 0,
             "ticks": ""
            },
            "colorscale": [
             [
              0,
              "#0d0887"
             ],
             [
              0.1111111111111111,
              "#46039f"
             ],
             [
              0.2222222222222222,
              "#7201a8"
             ],
             [
              0.3333333333333333,
              "#9c179e"
             ],
             [
              0.4444444444444444,
              "#bd3786"
             ],
             [
              0.5555555555555556,
              "#d8576b"
             ],
             [
              0.6666666666666666,
              "#ed7953"
             ],
             [
              0.7777777777777778,
              "#fb9f3a"
             ],
             [
              0.8888888888888888,
              "#fdca26"
             ],
             [
              1,
              "#f0f921"
             ]
            ],
            "type": "heatmap"
           }
          ],
          "heatmapgl": [
           {
            "colorbar": {
             "outlinewidth": 0,
             "ticks": ""
            },
            "colorscale": [
             [
              0,
              "#0d0887"
             ],
             [
              0.1111111111111111,
              "#46039f"
             ],
             [
              0.2222222222222222,
              "#7201a8"
             ],
             [
              0.3333333333333333,
              "#9c179e"
             ],
             [
              0.4444444444444444,
              "#bd3786"
             ],
             [
              0.5555555555555556,
              "#d8576b"
             ],
             [
              0.6666666666666666,
              "#ed7953"
             ],
             [
              0.7777777777777778,
              "#fb9f3a"
             ],
             [
              0.8888888888888888,
              "#fdca26"
             ],
             [
              1,
              "#f0f921"
             ]
            ],
            "type": "heatmapgl"
           }
          ],
          "histogram": [
           {
            "marker": {
             "pattern": {
              "fillmode": "overlay",
              "size": 10,
              "solidity": 0.2
             }
            },
            "type": "histogram"
           }
          ],
          "histogram2d": [
           {
            "colorbar": {
             "outlinewidth": 0,
             "ticks": ""
            },
            "colorscale": [
             [
              0,
              "#0d0887"
             ],
             [
              0.1111111111111111,
              "#46039f"
             ],
             [
              0.2222222222222222,
              "#7201a8"
             ],
             [
              0.3333333333333333,
              "#9c179e"
             ],
             [
              0.4444444444444444,
              "#bd3786"
             ],
             [
              0.5555555555555556,
              "#d8576b"
             ],
             [
              0.6666666666666666,
              "#ed7953"
             ],
             [
              0.7777777777777778,
              "#fb9f3a"
             ],
             [
              0.8888888888888888,
              "#fdca26"
             ],
             [
              1,
              "#f0f921"
             ]
            ],
            "type": "histogram2d"
           }
          ],
          "histogram2dcontour": [
           {
            "colorbar": {
             "outlinewidth": 0,
             "ticks": ""
            },
            "colorscale": [
             [
              0,
              "#0d0887"
             ],
             [
              0.1111111111111111,
              "#46039f"
             ],
             [
              0.2222222222222222,
              "#7201a8"
             ],
             [
              0.3333333333333333,
              "#9c179e"
             ],
             [
              0.4444444444444444,
              "#bd3786"
             ],
             [
              0.5555555555555556,
              "#d8576b"
             ],
             [
              0.6666666666666666,
              "#ed7953"
             ],
             [
              0.7777777777777778,
              "#fb9f3a"
             ],
             [
              0.8888888888888888,
              "#fdca26"
             ],
             [
              1,
              "#f0f921"
             ]
            ],
            "type": "histogram2dcontour"
           }
          ],
          "mesh3d": [
           {
            "colorbar": {
             "outlinewidth": 0,
             "ticks": ""
            },
            "type": "mesh3d"
           }
          ],
          "parcoords": [
           {
            "line": {
             "colorbar": {
              "outlinewidth": 0,
              "ticks": ""
             }
            },
            "type": "parcoords"
           }
          ],
          "pie": [
           {
            "automargin": true,
            "type": "pie"
           }
          ],
          "scatter": [
           {
            "fillpattern": {
             "fillmode": "overlay",
             "size": 10,
             "solidity": 0.2
            },
            "type": "scatter"
           }
          ],
          "scatter3d": [
           {
            "line": {
             "colorbar": {
              "outlinewidth": 0,
              "ticks": ""
             }
            },
            "marker": {
             "colorbar": {
              "outlinewidth": 0,
              "ticks": ""
             }
            },
            "type": "scatter3d"
           }
          ],
          "scattercarpet": [
           {
            "marker": {
             "colorbar": {
              "outlinewidth": 0,
              "ticks": ""
             }
            },
            "type": "scattercarpet"
           }
          ],
          "scattergeo": [
           {
            "marker": {
             "colorbar": {
              "outlinewidth": 0,
              "ticks": ""
             }
            },
            "type": "scattergeo"
           }
          ],
          "scattergl": [
           {
            "marker": {
             "colorbar": {
              "outlinewidth": 0,
              "ticks": ""
             }
            },
            "type": "scattergl"
           }
          ],
          "scattermapbox": [
           {
            "marker": {
             "colorbar": {
              "outlinewidth": 0,
              "ticks": ""
             }
            },
            "type": "scattermapbox"
           }
          ],
          "scatterpolar": [
           {
            "marker": {
             "colorbar": {
              "outlinewidth": 0,
              "ticks": ""
             }
            },
            "type": "scatterpolar"
           }
          ],
          "scatterpolargl": [
           {
            "marker": {
             "colorbar": {
              "outlinewidth": 0,
              "ticks": ""
             }
            },
            "type": "scatterpolargl"
           }
          ],
          "scatterternary": [
           {
            "marker": {
             "colorbar": {
              "outlinewidth": 0,
              "ticks": ""
             }
            },
            "type": "scatterternary"
           }
          ],
          "surface": [
           {
            "colorbar": {
             "outlinewidth": 0,
             "ticks": ""
            },
            "colorscale": [
             [
              0,
              "#0d0887"
             ],
             [
              0.1111111111111111,
              "#46039f"
             ],
             [
              0.2222222222222222,
              "#7201a8"
             ],
             [
              0.3333333333333333,
              "#9c179e"
             ],
             [
              0.4444444444444444,
              "#bd3786"
             ],
             [
              0.5555555555555556,
              "#d8576b"
             ],
             [
              0.6666666666666666,
              "#ed7953"
             ],
             [
              0.7777777777777778,
              "#fb9f3a"
             ],
             [
              0.8888888888888888,
              "#fdca26"
             ],
             [
              1,
              "#f0f921"
             ]
            ],
            "type": "surface"
           }
          ],
          "table": [
           {
            "cells": {
             "fill": {
              "color": "#EBF0F8"
             },
             "line": {
              "color": "white"
             }
            },
            "header": {
             "fill": {
              "color": "#C8D4E3"
             },
             "line": {
              "color": "white"
             }
            },
            "type": "table"
           }
          ]
         },
         "layout": {
          "annotationdefaults": {
           "arrowcolor": "#2a3f5f",
           "arrowhead": 0,
           "arrowwidth": 1
          },
          "autotypenumbers": "strict",
          "coloraxis": {
           "colorbar": {
            "outlinewidth": 0,
            "ticks": ""
           }
          },
          "colorscale": {
           "diverging": [
            [
             0,
             "#8e0152"
            ],
            [
             0.1,
             "#c51b7d"
            ],
            [
             0.2,
             "#de77ae"
            ],
            [
             0.3,
             "#f1b6da"
            ],
            [
             0.4,
             "#fde0ef"
            ],
            [
             0.5,
             "#f7f7f7"
            ],
            [
             0.6,
             "#e6f5d0"
            ],
            [
             0.7,
             "#b8e186"
            ],
            [
             0.8,
             "#7fbc41"
            ],
            [
             0.9,
             "#4d9221"
            ],
            [
             1,
             "#276419"
            ]
           ],
           "sequential": [
            [
             0,
             "#0d0887"
            ],
            [
             0.1111111111111111,
             "#46039f"
            ],
            [
             0.2222222222222222,
             "#7201a8"
            ],
            [
             0.3333333333333333,
             "#9c179e"
            ],
            [
             0.4444444444444444,
             "#bd3786"
            ],
            [
             0.5555555555555556,
             "#d8576b"
            ],
            [
             0.6666666666666666,
             "#ed7953"
            ],
            [
             0.7777777777777778,
             "#fb9f3a"
            ],
            [
             0.8888888888888888,
             "#fdca26"
            ],
            [
             1,
             "#f0f921"
            ]
           ],
           "sequentialminus": [
            [
             0,
             "#0d0887"
            ],
            [
             0.1111111111111111,
             "#46039f"
            ],
            [
             0.2222222222222222,
             "#7201a8"
            ],
            [
             0.3333333333333333,
             "#9c179e"
            ],
            [
             0.4444444444444444,
             "#bd3786"
            ],
            [
             0.5555555555555556,
             "#d8576b"
            ],
            [
             0.6666666666666666,
             "#ed7953"
            ],
            [
             0.7777777777777778,
             "#fb9f3a"
            ],
            [
             0.8888888888888888,
             "#fdca26"
            ],
            [
             1,
             "#f0f921"
            ]
           ]
          },
          "colorway": [
           "#636efa",
           "#EF553B",
           "#00cc96",
           "#ab63fa",
           "#FFA15A",
           "#19d3f3",
           "#FF6692",
           "#B6E880",
           "#FF97FF",
           "#FECB52"
          ],
          "font": {
           "color": "#2a3f5f"
          },
          "geo": {
           "bgcolor": "white",
           "lakecolor": "white",
           "landcolor": "#E5ECF6",
           "showlakes": true,
           "showland": true,
           "subunitcolor": "white"
          },
          "hoverlabel": {
           "align": "left"
          },
          "hovermode": "closest",
          "mapbox": {
           "style": "light"
          },
          "paper_bgcolor": "white",
          "plot_bgcolor": "#E5ECF6",
          "polar": {
           "angularaxis": {
            "gridcolor": "white",
            "linecolor": "white",
            "ticks": ""
           },
           "bgcolor": "#E5ECF6",
           "radialaxis": {
            "gridcolor": "white",
            "linecolor": "white",
            "ticks": ""
           }
          },
          "scene": {
           "xaxis": {
            "backgroundcolor": "#E5ECF6",
            "gridcolor": "white",
            "gridwidth": 2,
            "linecolor": "white",
            "showbackground": true,
            "ticks": "",
            "zerolinecolor": "white"
           },
           "yaxis": {
            "backgroundcolor": "#E5ECF6",
            "gridcolor": "white",
            "gridwidth": 2,
            "linecolor": "white",
            "showbackground": true,
            "ticks": "",
            "zerolinecolor": "white"
           },
           "zaxis": {
            "backgroundcolor": "#E5ECF6",
            "gridcolor": "white",
            "gridwidth": 2,
            "linecolor": "white",
            "showbackground": true,
            "ticks": "",
            "zerolinecolor": "white"
           }
          },
          "shapedefaults": {
           "line": {
            "color": "#2a3f5f"
           }
          },
          "ternary": {
           "aaxis": {
            "gridcolor": "white",
            "linecolor": "white",
            "ticks": ""
           },
           "baxis": {
            "gridcolor": "white",
            "linecolor": "white",
            "ticks": ""
           },
           "bgcolor": "#E5ECF6",
           "caxis": {
            "gridcolor": "white",
            "linecolor": "white",
            "ticks": ""
           }
          },
          "title": {
           "x": 0.05
          },
          "xaxis": {
           "automargin": true,
           "gridcolor": "white",
           "linecolor": "white",
           "ticks": "",
           "title": {
            "standoff": 15
           },
           "zerolinecolor": "white",
           "zerolinewidth": 2
          },
          "yaxis": {
           "automargin": true,
           "gridcolor": "white",
           "linecolor": "white",
           "ticks": "",
           "title": {
            "standoff": 15
           },
           "zerolinecolor": "white",
           "zerolinewidth": 2
          }
         }
        },
        "title": {
         "text": "Box Plot of Body Mass by Sex"
        },
        "xaxis": {
         "anchor": "y",
         "categoryarray": [
          "MALE",
          "FEMALE",
          null,
          "."
         ],
         "categoryorder": "array",
         "domain": [
          0,
          1
         ],
         "title": {
          "text": "sex"
         }
        },
        "yaxis": {
         "anchor": "x",
         "domain": [
          0,
          1
         ],
         "title": {
          "text": "body_mass_g"
         }
        }
       }
      }
     },
     "metadata": {},
     "output_type": "display_data"
    }
   ],
   "source": [
    "fig = px.box(data_frame=penguin, x ='sex', y = 'body_mass_g', color = 'sex',\n",
    "             color_discrete_sequence=['#29066B','#EB548C','#F1C40F', '#F39C12'],\n",
    "             title='Box Plot of Body Mass by Sex',\n",
    "             orientation='v')\n",
    "fig.show()"
   ]
  },
  {
   "cell_type": "markdown",
   "id": "6a35a5d1",
   "metadata": {},
   "source": [
    "# Finding the optimal number of clusters for the K-Means model"
   ]
  },
  {
   "cell_type": "code",
   "execution_count": 10,
   "id": "1fc53c92",
   "metadata": {},
   "outputs": [
    {
     "data": {
      "application/vnd.plotly.v1+json": {
       "config": {
        "plotlyServerURL": "https://plot.ly"
       },
       "data": [
        {
         "hovertemplate": "x=%{x}<br>y=%{y}<extra></extra>",
         "legendgroup": "",
         "line": {
          "color": "rgb(76,114,176)",
          "dash": "solid"
         },
         "marker": {
          "symbol": "circle"
         },
         "mode": "lines",
         "name": "",
         "orientation": "v",
         "showlegend": false,
         "type": "scatter",
         "x": [
          0,
          1,
          2,
          3,
          4,
          5,
          6
         ],
         "xaxis": "x",
         "y": [
          832.3557400011427,
          486.1262979817901,
          313.2328704538322,
          251.8802416871049,
          184.10026761877467,
          156.52531380409656,
          157.23961294907556
         ],
         "yaxis": "y"
        }
       ],
       "layout": {
        "height": 600,
        "legend": {
         "tracegroupgap": 0
        },
        "template": {
         "data": {
          "bar": [
           {
            "error_x": {
             "color": "rgb(36,36,36)"
            },
            "error_y": {
             "color": "rgb(36,36,36)"
            },
            "marker": {
             "line": {
              "color": "rgb(234,234,242)",
              "width": 0.5
             },
             "pattern": {
              "fillmode": "overlay",
              "size": 10,
              "solidity": 0.2
             }
            },
            "type": "bar"
           }
          ],
          "barpolar": [
           {
            "marker": {
             "line": {
              "color": "rgb(234,234,242)",
              "width": 0.5
             },
             "pattern": {
              "fillmode": "overlay",
              "size": 10,
              "solidity": 0.2
             }
            },
            "type": "barpolar"
           }
          ],
          "carpet": [
           {
            "aaxis": {
             "endlinecolor": "rgb(36,36,36)",
             "gridcolor": "white",
             "linecolor": "white",
             "minorgridcolor": "white",
             "startlinecolor": "rgb(36,36,36)"
            },
            "baxis": {
             "endlinecolor": "rgb(36,36,36)",
             "gridcolor": "white",
             "linecolor": "white",
             "minorgridcolor": "white",
             "startlinecolor": "rgb(36,36,36)"
            },
            "type": "carpet"
           }
          ],
          "choropleth": [
           {
            "colorbar": {
             "outlinewidth": 0,
             "tickcolor": "rgb(36,36,36)",
             "ticklen": 8,
             "ticks": "outside",
             "tickwidth": 2
            },
            "type": "choropleth"
           }
          ],
          "contour": [
           {
            "colorbar": {
             "outlinewidth": 0,
             "tickcolor": "rgb(36,36,36)",
             "ticklen": 8,
             "ticks": "outside",
             "tickwidth": 2
            },
            "colorscale": [
             [
              0,
              "rgb(2,4,25)"
             ],
             [
              0.06274509803921569,
              "rgb(24,15,41)"
             ],
             [
              0.12549019607843137,
              "rgb(47,23,57)"
             ],
             [
              0.18823529411764706,
              "rgb(71,28,72)"
             ],
             [
              0.25098039215686274,
              "rgb(97,30,82)"
             ],
             [
              0.3137254901960784,
              "rgb(123,30,89)"
             ],
             [
              0.3764705882352941,
              "rgb(150,27,91)"
             ],
             [
              0.4392156862745098,
              "rgb(177,22,88)"
             ],
             [
              0.5019607843137255,
              "rgb(203,26,79)"
             ],
             [
              0.5647058823529412,
              "rgb(223,47,67)"
             ],
             [
              0.6274509803921569,
              "rgb(236,76,61)"
             ],
             [
              0.6901960784313725,
              "rgb(242,107,73)"
             ],
             [
              0.7529411764705882,
              "rgb(244,135,95)"
             ],
             [
              0.8156862745098039,
              "rgb(245,162,122)"
             ],
             [
              0.8784313725490196,
              "rgb(246,188,153)"
             ],
             [
              0.9411764705882353,
              "rgb(247,212,187)"
             ],
             [
              1,
              "rgb(250,234,220)"
             ]
            ],
            "type": "contour"
           }
          ],
          "contourcarpet": [
           {
            "colorbar": {
             "outlinewidth": 0,
             "tickcolor": "rgb(36,36,36)",
             "ticklen": 8,
             "ticks": "outside",
             "tickwidth": 2
            },
            "type": "contourcarpet"
           }
          ],
          "heatmap": [
           {
            "colorbar": {
             "outlinewidth": 0,
             "tickcolor": "rgb(36,36,36)",
             "ticklen": 8,
             "ticks": "outside",
             "tickwidth": 2
            },
            "colorscale": [
             [
              0,
              "rgb(2,4,25)"
             ],
             [
              0.06274509803921569,
              "rgb(24,15,41)"
             ],
             [
              0.12549019607843137,
              "rgb(47,23,57)"
             ],
             [
              0.18823529411764706,
              "rgb(71,28,72)"
             ],
             [
              0.25098039215686274,
              "rgb(97,30,82)"
             ],
             [
              0.3137254901960784,
              "rgb(123,30,89)"
             ],
             [
              0.3764705882352941,
              "rgb(150,27,91)"
             ],
             [
              0.4392156862745098,
              "rgb(177,22,88)"
             ],
             [
              0.5019607843137255,
              "rgb(203,26,79)"
             ],
             [
              0.5647058823529412,
              "rgb(223,47,67)"
             ],
             [
              0.6274509803921569,
              "rgb(236,76,61)"
             ],
             [
              0.6901960784313725,
              "rgb(242,107,73)"
             ],
             [
              0.7529411764705882,
              "rgb(244,135,95)"
             ],
             [
              0.8156862745098039,
              "rgb(245,162,122)"
             ],
             [
              0.8784313725490196,
              "rgb(246,188,153)"
             ],
             [
              0.9411764705882353,
              "rgb(247,212,187)"
             ],
             [
              1,
              "rgb(250,234,220)"
             ]
            ],
            "type": "heatmap"
           }
          ],
          "heatmapgl": [
           {
            "colorbar": {
             "outlinewidth": 0,
             "tickcolor": "rgb(36,36,36)",
             "ticklen": 8,
             "ticks": "outside",
             "tickwidth": 2
            },
            "colorscale": [
             [
              0,
              "rgb(2,4,25)"
             ],
             [
              0.06274509803921569,
              "rgb(24,15,41)"
             ],
             [
              0.12549019607843137,
              "rgb(47,23,57)"
             ],
             [
              0.18823529411764706,
              "rgb(71,28,72)"
             ],
             [
              0.25098039215686274,
              "rgb(97,30,82)"
             ],
             [
              0.3137254901960784,
              "rgb(123,30,89)"
             ],
             [
              0.3764705882352941,
              "rgb(150,27,91)"
             ],
             [
              0.4392156862745098,
              "rgb(177,22,88)"
             ],
             [
              0.5019607843137255,
              "rgb(203,26,79)"
             ],
             [
              0.5647058823529412,
              "rgb(223,47,67)"
             ],
             [
              0.6274509803921569,
              "rgb(236,76,61)"
             ],
             [
              0.6901960784313725,
              "rgb(242,107,73)"
             ],
             [
              0.7529411764705882,
              "rgb(244,135,95)"
             ],
             [
              0.8156862745098039,
              "rgb(245,162,122)"
             ],
             [
              0.8784313725490196,
              "rgb(246,188,153)"
             ],
             [
              0.9411764705882353,
              "rgb(247,212,187)"
             ],
             [
              1,
              "rgb(250,234,220)"
             ]
            ],
            "type": "heatmapgl"
           }
          ],
          "histogram": [
           {
            "marker": {
             "pattern": {
              "fillmode": "overlay",
              "size": 10,
              "solidity": 0.2
             }
            },
            "type": "histogram"
           }
          ],
          "histogram2d": [
           {
            "colorbar": {
             "outlinewidth": 0,
             "tickcolor": "rgb(36,36,36)",
             "ticklen": 8,
             "ticks": "outside",
             "tickwidth": 2
            },
            "colorscale": [
             [
              0,
              "rgb(2,4,25)"
             ],
             [
              0.06274509803921569,
              "rgb(24,15,41)"
             ],
             [
              0.12549019607843137,
              "rgb(47,23,57)"
             ],
             [
              0.18823529411764706,
              "rgb(71,28,72)"
             ],
             [
              0.25098039215686274,
              "rgb(97,30,82)"
             ],
             [
              0.3137254901960784,
              "rgb(123,30,89)"
             ],
             [
              0.3764705882352941,
              "rgb(150,27,91)"
             ],
             [
              0.4392156862745098,
              "rgb(177,22,88)"
             ],
             [
              0.5019607843137255,
              "rgb(203,26,79)"
             ],
             [
              0.5647058823529412,
              "rgb(223,47,67)"
             ],
             [
              0.6274509803921569,
              "rgb(236,76,61)"
             ],
             [
              0.6901960784313725,
              "rgb(242,107,73)"
             ],
             [
              0.7529411764705882,
              "rgb(244,135,95)"
             ],
             [
              0.8156862745098039,
              "rgb(245,162,122)"
             ],
             [
              0.8784313725490196,
              "rgb(246,188,153)"
             ],
             [
              0.9411764705882353,
              "rgb(247,212,187)"
             ],
             [
              1,
              "rgb(250,234,220)"
             ]
            ],
            "type": "histogram2d"
           }
          ],
          "histogram2dcontour": [
           {
            "colorbar": {
             "outlinewidth": 0,
             "tickcolor": "rgb(36,36,36)",
             "ticklen": 8,
             "ticks": "outside",
             "tickwidth": 2
            },
            "colorscale": [
             [
              0,
              "rgb(2,4,25)"
             ],
             [
              0.06274509803921569,
              "rgb(24,15,41)"
             ],
             [
              0.12549019607843137,
              "rgb(47,23,57)"
             ],
             [
              0.18823529411764706,
              "rgb(71,28,72)"
             ],
             [
              0.25098039215686274,
              "rgb(97,30,82)"
             ],
             [
              0.3137254901960784,
              "rgb(123,30,89)"
             ],
             [
              0.3764705882352941,
              "rgb(150,27,91)"
             ],
             [
              0.4392156862745098,
              "rgb(177,22,88)"
             ],
             [
              0.5019607843137255,
              "rgb(203,26,79)"
             ],
             [
              0.5647058823529412,
              "rgb(223,47,67)"
             ],
             [
              0.6274509803921569,
              "rgb(236,76,61)"
             ],
             [
              0.6901960784313725,
              "rgb(242,107,73)"
             ],
             [
              0.7529411764705882,
              "rgb(244,135,95)"
             ],
             [
              0.8156862745098039,
              "rgb(245,162,122)"
             ],
             [
              0.8784313725490196,
              "rgb(246,188,153)"
             ],
             [
              0.9411764705882353,
              "rgb(247,212,187)"
             ],
             [
              1,
              "rgb(250,234,220)"
             ]
            ],
            "type": "histogram2dcontour"
           }
          ],
          "mesh3d": [
           {
            "colorbar": {
             "outlinewidth": 0,
             "tickcolor": "rgb(36,36,36)",
             "ticklen": 8,
             "ticks": "outside",
             "tickwidth": 2
            },
            "type": "mesh3d"
           }
          ],
          "parcoords": [
           {
            "line": {
             "colorbar": {
              "outlinewidth": 0,
              "tickcolor": "rgb(36,36,36)",
              "ticklen": 8,
              "ticks": "outside",
              "tickwidth": 2
             }
            },
            "type": "parcoords"
           }
          ],
          "pie": [
           {
            "automargin": true,
            "type": "pie"
           }
          ],
          "scatter": [
           {
            "fillpattern": {
             "fillmode": "overlay",
             "size": 10,
             "solidity": 0.2
            },
            "type": "scatter"
           }
          ],
          "scatter3d": [
           {
            "line": {
             "colorbar": {
              "outlinewidth": 0,
              "tickcolor": "rgb(36,36,36)",
              "ticklen": 8,
              "ticks": "outside",
              "tickwidth": 2
             }
            },
            "marker": {
             "colorbar": {
              "outlinewidth": 0,
              "tickcolor": "rgb(36,36,36)",
              "ticklen": 8,
              "ticks": "outside",
              "tickwidth": 2
             }
            },
            "type": "scatter3d"
           }
          ],
          "scattercarpet": [
           {
            "marker": {
             "colorbar": {
              "outlinewidth": 0,
              "tickcolor": "rgb(36,36,36)",
              "ticklen": 8,
              "ticks": "outside",
              "tickwidth": 2
             }
            },
            "type": "scattercarpet"
           }
          ],
          "scattergeo": [
           {
            "marker": {
             "colorbar": {
              "outlinewidth": 0,
              "tickcolor": "rgb(36,36,36)",
              "ticklen": 8,
              "ticks": "outside",
              "tickwidth": 2
             }
            },
            "type": "scattergeo"
           }
          ],
          "scattergl": [
           {
            "marker": {
             "colorbar": {
              "outlinewidth": 0,
              "tickcolor": "rgb(36,36,36)",
              "ticklen": 8,
              "ticks": "outside",
              "tickwidth": 2
             }
            },
            "type": "scattergl"
           }
          ],
          "scattermapbox": [
           {
            "marker": {
             "colorbar": {
              "outlinewidth": 0,
              "tickcolor": "rgb(36,36,36)",
              "ticklen": 8,
              "ticks": "outside",
              "tickwidth": 2
             }
            },
            "type": "scattermapbox"
           }
          ],
          "scatterpolar": [
           {
            "marker": {
             "colorbar": {
              "outlinewidth": 0,
              "tickcolor": "rgb(36,36,36)",
              "ticklen": 8,
              "ticks": "outside",
              "tickwidth": 2
             }
            },
            "type": "scatterpolar"
           }
          ],
          "scatterpolargl": [
           {
            "marker": {
             "colorbar": {
              "outlinewidth": 0,
              "tickcolor": "rgb(36,36,36)",
              "ticklen": 8,
              "ticks": "outside",
              "tickwidth": 2
             }
            },
            "type": "scatterpolargl"
           }
          ],
          "scatterternary": [
           {
            "marker": {
             "colorbar": {
              "outlinewidth": 0,
              "tickcolor": "rgb(36,36,36)",
              "ticklen": 8,
              "ticks": "outside",
              "tickwidth": 2
             }
            },
            "type": "scatterternary"
           }
          ],
          "surface": [
           {
            "colorbar": {
             "outlinewidth": 0,
             "tickcolor": "rgb(36,36,36)",
             "ticklen": 8,
             "ticks": "outside",
             "tickwidth": 2
            },
            "colorscale": [
             [
              0,
              "rgb(2,4,25)"
             ],
             [
              0.06274509803921569,
              "rgb(24,15,41)"
             ],
             [
              0.12549019607843137,
              "rgb(47,23,57)"
             ],
             [
              0.18823529411764706,
              "rgb(71,28,72)"
             ],
             [
              0.25098039215686274,
              "rgb(97,30,82)"
             ],
             [
              0.3137254901960784,
              "rgb(123,30,89)"
             ],
             [
              0.3764705882352941,
              "rgb(150,27,91)"
             ],
             [
              0.4392156862745098,
              "rgb(177,22,88)"
             ],
             [
              0.5019607843137255,
              "rgb(203,26,79)"
             ],
             [
              0.5647058823529412,
              "rgb(223,47,67)"
             ],
             [
              0.6274509803921569,
              "rgb(236,76,61)"
             ],
             [
              0.6901960784313725,
              "rgb(242,107,73)"
             ],
             [
              0.7529411764705882,
              "rgb(244,135,95)"
             ],
             [
              0.8156862745098039,
              "rgb(245,162,122)"
             ],
             [
              0.8784313725490196,
              "rgb(246,188,153)"
             ],
             [
              0.9411764705882353,
              "rgb(247,212,187)"
             ],
             [
              1,
              "rgb(250,234,220)"
             ]
            ],
            "type": "surface"
           }
          ],
          "table": [
           {
            "cells": {
             "fill": {
              "color": "rgb(231,231,240)"
             },
             "line": {
              "color": "white"
             }
            },
            "header": {
             "fill": {
              "color": "rgb(183,183,191)"
             },
             "line": {
              "color": "white"
             }
            },
            "type": "table"
           }
          ]
         },
         "layout": {
          "annotationdefaults": {
           "arrowcolor": "rgb(67,103,167)"
          },
          "autotypenumbers": "strict",
          "coloraxis": {
           "colorbar": {
            "outlinewidth": 0,
            "tickcolor": "rgb(36,36,36)",
            "ticklen": 8,
            "ticks": "outside",
            "tickwidth": 2
           }
          },
          "colorscale": {
           "sequential": [
            [
             0,
             "rgb(2,4,25)"
            ],
            [
             0.06274509803921569,
             "rgb(24,15,41)"
            ],
            [
             0.12549019607843137,
             "rgb(47,23,57)"
            ],
            [
             0.18823529411764706,
             "rgb(71,28,72)"
            ],
            [
             0.25098039215686274,
             "rgb(97,30,82)"
            ],
            [
             0.3137254901960784,
             "rgb(123,30,89)"
            ],
            [
             0.3764705882352941,
             "rgb(150,27,91)"
            ],
            [
             0.4392156862745098,
             "rgb(177,22,88)"
            ],
            [
             0.5019607843137255,
             "rgb(203,26,79)"
            ],
            [
             0.5647058823529412,
             "rgb(223,47,67)"
            ],
            [
             0.6274509803921569,
             "rgb(236,76,61)"
            ],
            [
             0.6901960784313725,
             "rgb(242,107,73)"
            ],
            [
             0.7529411764705882,
             "rgb(244,135,95)"
            ],
            [
             0.8156862745098039,
             "rgb(245,162,122)"
            ],
            [
             0.8784313725490196,
             "rgb(246,188,153)"
            ],
            [
             0.9411764705882353,
             "rgb(247,212,187)"
            ],
            [
             1,
             "rgb(250,234,220)"
            ]
           ],
           "sequentialminus": [
            [
             0,
             "rgb(2,4,25)"
            ],
            [
             0.06274509803921569,
             "rgb(24,15,41)"
            ],
            [
             0.12549019607843137,
             "rgb(47,23,57)"
            ],
            [
             0.18823529411764706,
             "rgb(71,28,72)"
            ],
            [
             0.25098039215686274,
             "rgb(97,30,82)"
            ],
            [
             0.3137254901960784,
             "rgb(123,30,89)"
            ],
            [
             0.3764705882352941,
             "rgb(150,27,91)"
            ],
            [
             0.4392156862745098,
             "rgb(177,22,88)"
            ],
            [
             0.5019607843137255,
             "rgb(203,26,79)"
            ],
            [
             0.5647058823529412,
             "rgb(223,47,67)"
            ],
            [
             0.6274509803921569,
             "rgb(236,76,61)"
            ],
            [
             0.6901960784313725,
             "rgb(242,107,73)"
            ],
            [
             0.7529411764705882,
             "rgb(244,135,95)"
            ],
            [
             0.8156862745098039,
             "rgb(245,162,122)"
            ],
            [
             0.8784313725490196,
             "rgb(246,188,153)"
            ],
            [
             0.9411764705882353,
             "rgb(247,212,187)"
            ],
            [
             1,
             "rgb(250,234,220)"
            ]
           ]
          },
          "colorway": [
           "rgb(76,114,176)",
           "rgb(221,132,82)",
           "rgb(85,168,104)",
           "rgb(196,78,82)",
           "rgb(129,114,179)",
           "rgb(147,120,96)",
           "rgb(218,139,195)",
           "rgb(140,140,140)",
           "rgb(204,185,116)",
           "rgb(100,181,205)"
          ],
          "font": {
           "color": "rgb(36,36,36)"
          },
          "geo": {
           "bgcolor": "white",
           "lakecolor": "white",
           "landcolor": "rgb(234,234,242)",
           "showlakes": true,
           "showland": true,
           "subunitcolor": "white"
          },
          "hoverlabel": {
           "align": "left"
          },
          "hovermode": "closest",
          "paper_bgcolor": "white",
          "plot_bgcolor": "rgb(234,234,242)",
          "polar": {
           "angularaxis": {
            "gridcolor": "white",
            "linecolor": "white",
            "showgrid": true,
            "ticks": ""
           },
           "bgcolor": "rgb(234,234,242)",
           "radialaxis": {
            "gridcolor": "white",
            "linecolor": "white",
            "showgrid": true,
            "ticks": ""
           }
          },
          "scene": {
           "xaxis": {
            "backgroundcolor": "rgb(234,234,242)",
            "gridcolor": "white",
            "gridwidth": 2,
            "linecolor": "white",
            "showbackground": true,
            "showgrid": true,
            "ticks": "",
            "zerolinecolor": "white"
           },
           "yaxis": {
            "backgroundcolor": "rgb(234,234,242)",
            "gridcolor": "white",
            "gridwidth": 2,
            "linecolor": "white",
            "showbackground": true,
            "showgrid": true,
            "ticks": "",
            "zerolinecolor": "white"
           },
           "zaxis": {
            "backgroundcolor": "rgb(234,234,242)",
            "gridcolor": "white",
            "gridwidth": 2,
            "linecolor": "white",
            "showbackground": true,
            "showgrid": true,
            "ticks": "",
            "zerolinecolor": "white"
           }
          },
          "shapedefaults": {
           "fillcolor": "rgb(67,103,167)",
           "line": {
            "width": 0
           },
           "opacity": 0.5
          },
          "ternary": {
           "aaxis": {
            "gridcolor": "white",
            "linecolor": "white",
            "showgrid": true,
            "ticks": ""
           },
           "baxis": {
            "gridcolor": "white",
            "linecolor": "white",
            "showgrid": true,
            "ticks": ""
           },
           "bgcolor": "rgb(234,234,242)",
           "caxis": {
            "gridcolor": "white",
            "linecolor": "white",
            "showgrid": true,
            "ticks": ""
           }
          },
          "xaxis": {
           "automargin": true,
           "gridcolor": "white",
           "linecolor": "white",
           "showgrid": true,
           "ticks": "",
           "title": {
            "standoff": 15
           },
           "zerolinecolor": "white"
          },
          "yaxis": {
           "automargin": true,
           "gridcolor": "white",
           "linecolor": "white",
           "showgrid": true,
           "ticks": "",
           "title": {
            "standoff": 15
           },
           "zerolinecolor": "white"
          }
         }
        },
        "title": {
         "text": "Elbow Method"
        },
        "width": 800,
        "xaxis": {
         "anchor": "y",
         "color": "#7F8C8D",
         "domain": [
          0,
          1
         ],
         "title": {
          "text": "Number of Clusters"
         }
        },
        "yaxis": {
         "anchor": "x",
         "color": "#7F8C8D",
         "domain": [
          0,
          1
         ],
         "title": {
          "text": "Cluster Inertia"
         }
        }
       }
      }
     },
     "metadata": {},
     "output_type": "display_data"
    }
   ],
   "source": [
    "imputer = SimpleImputer(strategy='median')   # hoặc 'mean'\n",
    "scaler  = StandardScaler()\n",
    "\n",
    "X = imputer.fit_transform(X)\n",
    "X = scaler.fit_transform(X)\n",
    "\n",
    "see = []\n",
    "for i in range (2, 9):\n",
    "    kmeans = KMeans(n_clusters=i, max_iter = 300)\n",
    "    kmeans.fit(X)\n",
    "    see.append(kmeans.inertia_)\n",
    "\n",
    "fig = px.line(y = see, template = 'seaborn', title = 'Elbow Method')\n",
    "fig.update_layout(width = 800, height = 600, xaxis = dict(title = 'Number of Clusters', color = '#7F8C8D'), yaxis = dict(title = 'Cluster Inertia', color = '#7F8C8D'))\n",
    "fig.show()"
   ]
  },
  {
   "cell_type": "markdown",
   "id": "e8038c3c",
   "metadata": {},
   "source": [
    "# Build K-Means model with optimal number of clusters = 4"
   ]
  },
  {
   "cell_type": "code",
   "execution_count": null,
   "id": "04f38894",
   "metadata": {},
   "outputs": [],
   "source": [
    "kmeans = KMeans(n_clusters = 4,\n",
    "    init = 'k-means++',\n",
    "    max_iter = 300, n_init = 10, random_state = 0)\n",
    "y_kmeans = kmeans.fit_predict(X)"
   ]
  },
  {
   "cell_type": "markdown",
   "id": "e668d236",
   "metadata": {},
   "source": [
    "# Visually present the results of the clusters"
   ]
  },
  {
   "cell_type": "code",
   "execution_count": null,
   "id": "3f379e55",
   "metadata": {},
   "outputs": [
    {
     "data": {
      "application/vnd.plotly.v1+json": {
       "config": {
        "plotlyServerURL": "https://plot.ly"
       },
       "data": [
        {
         "marker": {
          "color": "#FF5733"
         },
         "mode": "markers",
         "name": "Penguin-Female",
         "type": "scatter",
         "x": [
          0.40011968487145927,
          1.117575671537525,
          0.8784236759821701,
          1.117575671537525,
          0.6760642951276384,
          0.4737049142731068,
          0.27134553341857515,
          0.5104975289739312,
          -0.11497692094007596,
          0.5288938363243421,
          -0.5564882973499624,
          0.9336125980334055,
          0.28974184076898735,
          0.8232347539309335,
          0.34493076282022267,
          0.9888015200846407,
          -0.3541289164954307,
          0.9704052127342299,
          0.41851599222187147,
          0.8784236759821701,
          1.1543682862383493,
          0.21615661136733982,
          0.4737049142731068,
          0.4369122995722824,
          -0.18856215034172347,
          0.40011968487145927,
          0.1057787672648679,
          0.7128569098284615,
          0.7864421392301104,
          1.117575671537525,
          0.6208753730764018,
          -0.2069584576921357,
          0.21615661136733982,
          2.883621177177072,
          0.9520089053838177,
          0.8232347539309335,
          -0.2437510723929588,
          0.08738245991445569,
          0.013797230512808175,
          0.8784236759821701,
          -0.2253547650425466,
          1.0439904421358774,
          0.25294922606816295,
          1.0439904421358774,
          1.2095572082895847,
          -0.059787998888839344,
          0.28974184076898735,
          1.2095572082895847,
          0.17936399666651542,
          0.23455291871775202,
          0.492101221623519,
          0.8416310612813457,
          0.21615661136733982,
          1.135971978887937,
          0.4737049142731068,
          0.19776030401692762,
          -0.02299538418801624,
          0.28974184076898735,
          -0.13337322829048687,
          1.1911609009391724,
          0.25294922606816295,
          0.41851599222187147,
          0.32653445546981175,
          1.9086168876052378,
          0.34493076282022267,
          1.0807830568367005,
          0.41851599222187147,
          1.0255941347854651,
          -0.07818430623925154,
          1.246349822990409,
          0.6944606024780506,
          0.4553086069226946,
          0.7864421392301104,
          0.4737049142731068,
          0.4553086069226946,
          0.8600273686317579,
          0.6576679877772262,
          1.3199350523920566,
          0.23455291871775202,
          0.23455291871775202,
          0.9520089053838177,
          1.5774833552978236,
          0.639271680426814,
          1.117575671537525,
          0.17936399666651542,
          1.2647461303408198,
          -0.09658061358966376,
          1.3567276670928796,
          0.6576679877772262,
          1.5038981258961759,
          0.6576679877772262,
          1.5222944332465882,
          0.28974184076898735,
          1.0255941347854651,
          0.1057787672648679,
          1.2647461303408198,
          1.0071978274350528,
          0.5472901436747543,
          0.8232347539309335,
          1.3199350523920566,
          0.8416310612813457,
          2.2029578052118293,
          0.602479065725991,
          0.9520089053838177,
          0.6208753730764018,
          0.5288938363243421,
          -0.40931783854666604,
          1.7430501214515308,
          -0.11497692094007596,
          0.7680458318796982,
          1.2095572082895847,
          1.0807830568367005,
          -0.07818430623925154,
          1.393520281793704,
          0.41851599222187147,
          2.0557873464085343,
          0.1057787672648679,
          0.896819983332581,
          0.602479065725991,
          0.5288938363243421,
          1.1911609009391724,
          0.23455291871775202,
          1.0991793641871126
         ],
         "y": [
          -2.0099904586903414,
          -0.4333418193763429,
          -1.5522537569540191,
          -0.9927977881651815,
          -1.3488152228489871,
          -1.8574115581115669,
          -1.2979555893227293,
          -0.9419381546389228,
          -1.9082711916378248,
          -0.891078521112665,
          -1.7556922910590513,
          -0.5350610864288585,
          -1.7556922910590513,
          -1.2979555893227293,
          -1.2979555893227293,
          -0.7384996205338915,
          -1.8574115581115669,
          -0.9927977881651815,
          -1.3488152228489871,
          -1.0436574216914394,
          -1.4505344899015027,
          -1.3488152228489871,
          -1.3488152228489871,
          -0.6876399870076328,
          -2.060850092216599,
          -1.0436574216914394,
          -1.4505344899015027,
          -1.094517055217697,
          -1.4505344899015027,
          -0.9419381546389228,
          -0.9419381546389228,
          -1.5013941234277615,
          -1.3488152228489871,
          -0.07732438469253734,
          -1.1962363222702128,
          -0.4333418193763429,
          -1.7556922910590513,
          0.07525451588623698,
          -1.8065519245853092,
          -0.7384996205338915,
          -1.7556922910590513,
          -0.5859207199551172,
          -1.7556922910590513,
          -1.094517055217697,
          -0.6367803534813751,
          -1.653973024006535,
          -1.653973024006535,
          -0.6367803534813751,
          -1.9591308251640827,
          -0.6876399870076328,
          -1.5013941234277615,
          -1.5522537569540191,
          -1.3996748563752448,
          -1.094517055217697,
          -1.3996748563752448,
          -0.891078521112665,
          -1.653973024006535,
          -1.094517055217697,
          -1.3488152228489871,
          -0.9419381546389228,
          -1.7048326575327926,
          -1.145376688743955,
          -1.653973024006535,
          -0.7384996205338915,
          -1.5013941234277615,
          -0.17904365174505296,
          -1.3996748563752448,
          -0.48420145290260164,
          -1.5013941234277615,
          -1.094517055217697,
          -1.094517055217697,
          -0.7893592540601494,
          -0.7893592540601494,
          -1.1962363222702128,
          -1.094517055217697,
          -0.5859207199551172,
          -1.5013941234277615,
          -0.4333418193763429,
          -1.7048326575327926,
          -0.382482185850086,
          -1.3488152228489871,
          -0.7893592540601494,
          -1.2979555893227293,
          -0.6367803534813751,
          -1.7048326575327926,
          0.07525451588623698,
          -1.3996748563752448,
          -1.5013941234277615,
          -1.603113390480277,
          -0.07732438469253734,
          -1.094517055217697,
          -0.026464751166278635,
          -1.3488152228489871,
          -0.5350610864288585,
          -1.2470959557964714,
          -0.7384996205338915,
          -0.6876399870076328,
          -1.2979555893227293,
          -1.3996748563752448,
          -0.3316225523238273,
          -1.094517055217697,
          -0.07732438469253734,
          -0.8402188875864072,
          -1.094517055217697,
          -1.7048326575327926,
          -0.5350610864288585,
          -1.2470959557964714,
          -0.6876399870076328,
          -1.603113390480277,
          -1.0436574216914394,
          -0.9927977881651815,
          -0.6367803534813751,
          -0.9927977881651815,
          -0.4333418193763429,
          -1.5522537569540191,
          -0.5859207199551172,
          -0.7384996205338915,
          -0.48420145290260164,
          -1.7556922910590513,
          -1.4505344899015027,
          -0.7384996205338915,
          -1.1962363222702128,
          -0.5350610864288585
         ]
        },
        {
         "marker": {
          "color": "#33FF57"
         },
         "mode": "markers",
         "name": "Penguin-Male",
         "type": "scatter",
         "x": [
          -0.8876218296573769,
          -0.8140366002557293,
          -0.6668661414524343,
          -1.3291332060672634,
          -0.8508292149565537,
          -0.9244144443582013,
          -0.8692255223069646,
          -1.8074371971779741,
          -1.1267738252127328,
          -1.1267738252127328,
          -0.519695682649138,
          -0.9796033664094366,
          -1.7154556604259144,
          -1.3475295134176755,
          -0.9612070590590244,
          -0.262147379743371,
          -1.7522482751267388,
          -1.1267738252127328,
          -1.1451701325631438,
          -1.4763036648705596,
          -1.053188595811084,
          -0.9428107517086135,
          -1.5866815089730315,
          -0.6116772194011977,
          -0.6300735267516099,
          -1.1083775178623207,
          -0.6300735267516099,
          -0.8140366002557293,
          -1.2371516693152036,
          -0.8140366002557293,
          -0.5564882973499624,
          -1.3843221281184999,
          -0.8692255223069646,
          -0.9428107517086135,
          -0.3173363017946063,
          -1.1635664399135561,
          -0.7588476782044941,
          -1.3659258207680878,
          -0.5748846047003746,
          -1.4579073575201473,
          -1.273944284016028,
          -0.7956402929053171,
          -0.519695682649138,
          -1.1819627472639682,
          -1.4579073575201473,
          -0.2989399944441954,
          -0.7956402929053171,
          -0.7036587561532575,
          -1.6418704310242669,
          -0.3541289164954307,
          -1.7338519677763267,
          -0.46450676059790263,
          -0.9060181370077891,
          -0.6116772194011977,
          -1.3659258207680878,
          -1.1635664399135561,
          -1.5130962795713827,
          -0.48290306794831483,
          -1.1635664399135561,
          -0.519695682649138,
          -1.3843221281184999,
          -0.42771414589707824,
          -1.549888894272207,
          -0.519695682649138,
          -1.4763036648705596,
          -0.3909215311962551,
          -1.917815041280446,
          -0.7772439855549049,
          -0.7956402929053171,
          -1.549888894272207,
          -0.2069584576921357,
          -0.5564882973499624,
          -1.2371516693152036,
          -1.421114742819323,
          -0.3357326091450185,
          -1.7154556604259144,
          -0.18856215034172347,
          -1.3291332060672634,
          -1.6234741236738546,
          -1.2187553619647926,
          -0.48290306794831483,
          -1.4027184354689122,
          -1.29234059136644,
          -1.0347922884606733,
          -0.9244144443582013,
          -1.5130962795713827,
          -0.519695682649138,
          -1.8258335045283862,
          -0.7956402929053171,
          -1.421114742819323,
          -0.5748846047003746,
          -1.0715849031614963,
          -0.6668661414524343,
          -1.9914002706820935,
          -0.13337322829048687,
          -1.6418704310242669,
          -0.5380919899995502,
          -1.1451701325631438,
          -1.1267738252127328,
          -1.1083775178623207,
          -0.7772439855549049,
          -0.9796033664094366,
          -1.053188595811084,
          -1.0715849031614963,
          -1.0715849031614963,
          -0.7772439855549049,
          -0.3173363017946063,
          -0.7956402929053171,
          -0.2253547650425466,
          -0.9796033664094366,
          -1.2187553619647926,
          -1.5130962795713827,
          -0.519695682649138,
          -1.421114742819323,
          -1.1451701325631438,
          -0.6852624488028451,
          -0.46450676059790263,
          -1.6050778163234425,
          -0.6116772194011977,
          -0.9428107517086135,
          -0.44611045324749043,
          -0.9060181370077891,
          -0.9979996737598488,
          -0.15176953564089907,
          -1.3107368987168524,
          -1.1819627472639682,
          -1.0715849031614963,
          -0.519695682649138,
          -1.531492586921795,
          -0.6852624488028451,
          -1.273944284016028,
          -0.7772439855549049,
          -0.6852624488028451,
          -0.6116772194011977,
          -2.175363344186213,
          -0.5932809120507855,
          -1.2187553619647926,
          -0.9060181370077891,
          -0.8692255223069646,
          -1.3475295134176755,
          -1.4579073575201473,
          -1.1267738252127328,
          -1.4579073575201473,
          -0.44611045324749043,
          -0.2805436870937832,
          -0.13337322829048687,
          -0.5564882973499624,
          -0.262147379743371,
          -0.262147379743371,
          -0.07818430623925154
         ],
         "y": [
          0.7872893852538481,
          0.12611414941249388,
          0.43127195057004253,
          1.0924471864113967,
          1.753622422252751,
          0.3295526835175269,
          1.245026086990171,
          0.48213158409630125,
          -0.026464751166278635,
          0.07525451588623698,
          0.22783341646501132,
          2.058780223410298,
          2.007920589884041,
          0.3295526835175269,
          0.9398682858326224,
          1.8044820557790078,
          0.6347104846750737,
          0.5838508511488169,
          0.7872893852538481,
          1.0415875528851382,
          0.48213158409630125,
          0.02439488235997827,
          0.8890086523063637,
          0.7364297517275912,
          0.3804123170437838,
          0.7364297517275912,
          0.8890086523063637,
          -0.22990328527131168,
          0.48213158409630125,
          0.3295526835175269,
          0.8890086523063637,
          -0.07732438469253734,
          2.007920589884041,
          1.4484646210952024,
          0.6855701182013325,
          1.0924471864113967,
          0.9907279193588812,
          0.43127195057004253,
          0.6347104846750737,
          0.6855701182013325,
          -0.12818401821879605,
          0.8381490187801068,
          0.9398682858326224,
          0.8890086523063637,
          0.3804123170437838,
          2.058780223410298,
          0.2786930499912682,
          0.8890086523063637,
          0.3804123170437838,
          1.1941664534639125,
          0.48213158409630125,
          0.7364297517275912,
          0.1769737829387526,
          0.8381490187801068,
          -0.2807629187975686,
          0.9907279193588812,
          -0.12818401821879605,
          2.007920589884041,
          -0.07732438469253734,
          0.5329912176225582,
          -0.026464751166278635,
          0.43127195057004253,
          -0.48420145290260164,
          0.9907279193588812,
          -0.2807629187975686,
          1.1433068199376537,
          0.9398682858326224,
          0.6347104846750737,
          0.02439488235997827,
          0.1769737829387526,
          0.6855701182013325,
          -0.17904365174505296,
          1.1433068199376537,
          -0.5350610864288585,
          0.9907279193588812,
          0.02439488235997827,
          0.22783341646501132,
          0.8381490187801068,
          1.1433068199376537,
          0.3295526835175269,
          1.6010435216739767,
          1.1941664534639125,
          0.7364297517275912,
          1.0415875528851382,
          0.8381490187801068,
          0.43127195057004253,
          0.48213158409630125,
          -0.026464751166278635,
          0.48213158409630125,
          0.07525451588623698,
          0.8890086523063637,
          0.7364297517275912,
          0.6855701182013325,
          -0.5350610864288585,
          0.6855701182013325,
          0.3804123170437838,
          1.4484646210952024,
          -0.5859207199551172,
          1.4484646210952024,
          0.7364297517275912,
          0.8890086523063637,
          0.02439488235997827,
          1.4484646210952024,
          -0.07732438469253734,
          -0.3316225523238273,
          0.2786930499912682,
          1.1941664534639125,
          1.8044820557790078,
          0.5838508511488169,
          -0.07732438469253734,
          1.7027627887264922,
          -0.07732438469253734,
          0.7364297517275912,
          0.02439488235997827,
          1.3467453540426868,
          -0.07732438469253734,
          0.6855701182013325,
          -0.6367803534813751,
          0.9398682858326224,
          0.22783341646501132,
          0.5838508511488169,
          -0.026464751166278635,
          0.3804123170437838,
          1.0415875528851382,
          0.6855701182013325,
          0.6855701182013325,
          0.22783341646501132,
          0.1769737829387526,
          0.1769737829387526,
          1.4993242546214611,
          -0.3316225523238273,
          0.3804123170437838,
          -0.026464751166278635,
          0.02439488235997827,
          -0.8402188875864072,
          -0.07732438469253734,
          -0.17904365174505296,
          0.7872893852538481,
          0.7364297517275912,
          0.6347104846750737,
          0.3295526835175269,
          0.48213158409630125,
          -0.026464751166278635,
          0.6855701182013325,
          0.07525451588623698,
          -0.2807629187975686,
          -0.2807629187975686,
          -0.22990328527131168,
          0.07525451588623698,
          0.48213158409630125
         ]
        },
        {
         "marker": {
          "color": "#3357FF"
         },
         "mode": "markers",
         "name": "Penguin-Unknown",
         "type": "scatter",
         "x": [
          -0.3541289164954307
         ],
         "y": [
          1.550183888147718
         ]
        },
        {
         "marker": {
          "color": "#F39C12"
         },
         "mode": "markers",
         "name": "Penguin-Other",
         "type": "scatter",
         "x": [
          0.09658061358966245,
          0.38172337752104707,
          0.03219353786322038,
          0.34493076282022267,
          -0.13337322829048687,
          0.30813814811939955,
          0.03219353786322038,
          0.4737049142731068,
          1.117575671537525,
          1.3567276670928796,
          0.27134553341857515,
          1.614275969998648,
          0.23455291871775202,
          0.40011968487145927,
          1.3567276670928796,
          0.38172337752104707,
          1.3567276670928796,
          0.492101221623519,
          1.4303128964945284,
          0.5656864510251666,
          1.4855018185457638,
          0.36332707017063487,
          1.2095572082895847,
          1.17276459358876,
          2.5892802595704802,
          0.4553086069226946,
          0.9704052127342299,
          0.8416310612813457,
          1.2279535156399968,
          0.5104975289739312,
          1.4855018185457638,
          1.2095572082895847,
          1.0255941347854651,
          0.4553086069226946,
          1.6326722773490587,
          1.890220580254827,
          1.3015387450416442,
          1.0623867494862895,
          0.6576679877772262,
          0.6760642951276384,
          1.4855018185457638,
          0.5472901436747543,
          1.761446428801943,
          0.9336125980334055,
          0.41851599222187147,
          1.2831424376912322,
          0.28974184076898735,
          1.2831424376912322,
          1.2647461303408198,
          1.135971978887937,
          0.9336125980334055,
          1.393520281793704,
          1.0807830568367005,
          0.7680458318796982,
          1.375123974443292,
          0.32653445546981175,
          1.246349822990409,
          1.5222944332465882,
          0.23455291871775202,
          0.9888015200846407,
          1.1543682862383493,
          0.30813814811939955,
          1.4671055111953515,
          0.5288938363243421,
          0.32653445546981175,
          2.184561497861417,
          1.0439904421358774,
          1.2647461303408198,
          1.1543682862383493,
          0.09658061358966245
         ],
         "y": [
          0.07525451588623698,
          2.211359123989072,
          1.295885720516428,
          0.8890086523063637,
          0.9398682858326224,
          1.6010435216739767,
          0.43127195057004253,
          0.3804123170437838,
          1.1941664534639125,
          1.0415875528851382,
          0.7872893852538481,
          1.3467453540426868,
          0.3295526835175269,
          0.5329912176225582,
          0.5329912176225582,
          0.8890086523063637,
          1.3976049875689436,
          0.3295526835175269,
          1.6010435216739767,
          0.07525451588623698,
          0.48213158409630125,
          -0.026464751166278635,
          1.245026086990171,
          1.4484646210952024,
          0.3295526835175269,
          0.7364297517275912,
          0.5329912176225582,
          0.1769737829387526,
          1.1433068199376537,
          0.3804123170437838,
          0.9398682858326224,
          0.6347104846750737,
          0.9398682858326224,
          0.3295526835175269,
          1.4484646210952024,
          1.8553416893052666,
          0.8381490187801068,
          0.7364297517275912,
          -0.17904365174505296,
          0.5838508511488169,
          1.8044820557790078,
          -0.2807629187975686,
          1.3976049875689436,
          1.1941664534639125,
          0.1769737829387526,
          0.9907279193588812,
          -0.07732438469253734,
          0.3804123170437838,
          0.6855701182013325,
          0.3804123170437838,
          1.245026086990171,
          0.7872893852538481,
          0.07525451588623698,
          -0.382482185850086,
          0.9398682858326224,
          0.07525451588623698,
          1.295885720516428,
          0.8381490187801068,
          -0.2807629187975686,
          1.3976049875689436,
          0.8381490187801068,
          1.1433068199376537,
          1.1941664534639125,
          -0.3316225523238273,
          -0.07732438469253734,
          1.3467453540426868,
          0.5329912176225582,
          0.9398682858326224,
          0.7872893852538481,
          0.07525451588623698
         ]
        },
        {
         "marker": {
          "color": "#F1C40F",
          "size": 13,
          "symbol": 4
         },
         "mode": "markers",
         "name": "Centroids",
         "type": "scatter",
         "x": [
          0.658565368623588,
          -0.965254246676116,
          -0.3541289164954307,
          0.916267508245874
         ],
         "y": [
          -1.1036139002386531,
          0.5509616214685034,
          1.550183888147718,
          0.7364297517275908
         ]
        }
       ],
       "layout": {
        "height": 500,
        "template": {
         "data": {
          "bar": [
           {
            "error_x": {
             "color": "rgb(36,36,36)"
            },
            "error_y": {
             "color": "rgb(36,36,36)"
            },
            "marker": {
             "line": {
              "color": "rgb(234,234,242)",
              "width": 0.5
             },
             "pattern": {
              "fillmode": "overlay",
              "size": 10,
              "solidity": 0.2
             }
            },
            "type": "bar"
           }
          ],
          "barpolar": [
           {
            "marker": {
             "line": {
              "color": "rgb(234,234,242)",
              "width": 0.5
             },
             "pattern": {
              "fillmode": "overlay",
              "size": 10,
              "solidity": 0.2
             }
            },
            "type": "barpolar"
           }
          ],
          "carpet": [
           {
            "aaxis": {
             "endlinecolor": "rgb(36,36,36)",
             "gridcolor": "white",
             "linecolor": "white",
             "minorgridcolor": "white",
             "startlinecolor": "rgb(36,36,36)"
            },
            "baxis": {
             "endlinecolor": "rgb(36,36,36)",
             "gridcolor": "white",
             "linecolor": "white",
             "minorgridcolor": "white",
             "startlinecolor": "rgb(36,36,36)"
            },
            "type": "carpet"
           }
          ],
          "choropleth": [
           {
            "colorbar": {
             "outlinewidth": 0,
             "tickcolor": "rgb(36,36,36)",
             "ticklen": 8,
             "ticks": "outside",
             "tickwidth": 2
            },
            "type": "choropleth"
           }
          ],
          "contour": [
           {
            "colorbar": {
             "outlinewidth": 0,
             "tickcolor": "rgb(36,36,36)",
             "ticklen": 8,
             "ticks": "outside",
             "tickwidth": 2
            },
            "colorscale": [
             [
              0,
              "rgb(2,4,25)"
             ],
             [
              0.06274509803921569,
              "rgb(24,15,41)"
             ],
             [
              0.12549019607843137,
              "rgb(47,23,57)"
             ],
             [
              0.18823529411764706,
              "rgb(71,28,72)"
             ],
             [
              0.25098039215686274,
              "rgb(97,30,82)"
             ],
             [
              0.3137254901960784,
              "rgb(123,30,89)"
             ],
             [
              0.3764705882352941,
              "rgb(150,27,91)"
             ],
             [
              0.4392156862745098,
              "rgb(177,22,88)"
             ],
             [
              0.5019607843137255,
              "rgb(203,26,79)"
             ],
             [
              0.5647058823529412,
              "rgb(223,47,67)"
             ],
             [
              0.6274509803921569,
              "rgb(236,76,61)"
             ],
             [
              0.6901960784313725,
              "rgb(242,107,73)"
             ],
             [
              0.7529411764705882,
              "rgb(244,135,95)"
             ],
             [
              0.8156862745098039,
              "rgb(245,162,122)"
             ],
             [
              0.8784313725490196,
              "rgb(246,188,153)"
             ],
             [
              0.9411764705882353,
              "rgb(247,212,187)"
             ],
             [
              1,
              "rgb(250,234,220)"
             ]
            ],
            "type": "contour"
           }
          ],
          "contourcarpet": [
           {
            "colorbar": {
             "outlinewidth": 0,
             "tickcolor": "rgb(36,36,36)",
             "ticklen": 8,
             "ticks": "outside",
             "tickwidth": 2
            },
            "type": "contourcarpet"
           }
          ],
          "heatmap": [
           {
            "colorbar": {
             "outlinewidth": 0,
             "tickcolor": "rgb(36,36,36)",
             "ticklen": 8,
             "ticks": "outside",
             "tickwidth": 2
            },
            "colorscale": [
             [
              0,
              "rgb(2,4,25)"
             ],
             [
              0.06274509803921569,
              "rgb(24,15,41)"
             ],
             [
              0.12549019607843137,
              "rgb(47,23,57)"
             ],
             [
              0.18823529411764706,
              "rgb(71,28,72)"
             ],
             [
              0.25098039215686274,
              "rgb(97,30,82)"
             ],
             [
              0.3137254901960784,
              "rgb(123,30,89)"
             ],
             [
              0.3764705882352941,
              "rgb(150,27,91)"
             ],
             [
              0.4392156862745098,
              "rgb(177,22,88)"
             ],
             [
              0.5019607843137255,
              "rgb(203,26,79)"
             ],
             [
              0.5647058823529412,
              "rgb(223,47,67)"
             ],
             [
              0.6274509803921569,
              "rgb(236,76,61)"
             ],
             [
              0.6901960784313725,
              "rgb(242,107,73)"
             ],
             [
              0.7529411764705882,
              "rgb(244,135,95)"
             ],
             [
              0.8156862745098039,
              "rgb(245,162,122)"
             ],
             [
              0.8784313725490196,
              "rgb(246,188,153)"
             ],
             [
              0.9411764705882353,
              "rgb(247,212,187)"
             ],
             [
              1,
              "rgb(250,234,220)"
             ]
            ],
            "type": "heatmap"
           }
          ],
          "heatmapgl": [
           {
            "colorbar": {
             "outlinewidth": 0,
             "tickcolor": "rgb(36,36,36)",
             "ticklen": 8,
             "ticks": "outside",
             "tickwidth": 2
            },
            "colorscale": [
             [
              0,
              "rgb(2,4,25)"
             ],
             [
              0.06274509803921569,
              "rgb(24,15,41)"
             ],
             [
              0.12549019607843137,
              "rgb(47,23,57)"
             ],
             [
              0.18823529411764706,
              "rgb(71,28,72)"
             ],
             [
              0.25098039215686274,
              "rgb(97,30,82)"
             ],
             [
              0.3137254901960784,
              "rgb(123,30,89)"
             ],
             [
              0.3764705882352941,
              "rgb(150,27,91)"
             ],
             [
              0.4392156862745098,
              "rgb(177,22,88)"
             ],
             [
              0.5019607843137255,
              "rgb(203,26,79)"
             ],
             [
              0.5647058823529412,
              "rgb(223,47,67)"
             ],
             [
              0.6274509803921569,
              "rgb(236,76,61)"
             ],
             [
              0.6901960784313725,
              "rgb(242,107,73)"
             ],
             [
              0.7529411764705882,
              "rgb(244,135,95)"
             ],
             [
              0.8156862745098039,
              "rgb(245,162,122)"
             ],
             [
              0.8784313725490196,
              "rgb(246,188,153)"
             ],
             [
              0.9411764705882353,
              "rgb(247,212,187)"
             ],
             [
              1,
              "rgb(250,234,220)"
             ]
            ],
            "type": "heatmapgl"
           }
          ],
          "histogram": [
           {
            "marker": {
             "pattern": {
              "fillmode": "overlay",
              "size": 10,
              "solidity": 0.2
             }
            },
            "type": "histogram"
           }
          ],
          "histogram2d": [
           {
            "colorbar": {
             "outlinewidth": 0,
             "tickcolor": "rgb(36,36,36)",
             "ticklen": 8,
             "ticks": "outside",
             "tickwidth": 2
            },
            "colorscale": [
             [
              0,
              "rgb(2,4,25)"
             ],
             [
              0.06274509803921569,
              "rgb(24,15,41)"
             ],
             [
              0.12549019607843137,
              "rgb(47,23,57)"
             ],
             [
              0.18823529411764706,
              "rgb(71,28,72)"
             ],
             [
              0.25098039215686274,
              "rgb(97,30,82)"
             ],
             [
              0.3137254901960784,
              "rgb(123,30,89)"
             ],
             [
              0.3764705882352941,
              "rgb(150,27,91)"
             ],
             [
              0.4392156862745098,
              "rgb(177,22,88)"
             ],
             [
              0.5019607843137255,
              "rgb(203,26,79)"
             ],
             [
              0.5647058823529412,
              "rgb(223,47,67)"
             ],
             [
              0.6274509803921569,
              "rgb(236,76,61)"
             ],
             [
              0.6901960784313725,
              "rgb(242,107,73)"
             ],
             [
              0.7529411764705882,
              "rgb(244,135,95)"
             ],
             [
              0.8156862745098039,
              "rgb(245,162,122)"
             ],
             [
              0.8784313725490196,
              "rgb(246,188,153)"
             ],
             [
              0.9411764705882353,
              "rgb(247,212,187)"
             ],
             [
              1,
              "rgb(250,234,220)"
             ]
            ],
            "type": "histogram2d"
           }
          ],
          "histogram2dcontour": [
           {
            "colorbar": {
             "outlinewidth": 0,
             "tickcolor": "rgb(36,36,36)",
             "ticklen": 8,
             "ticks": "outside",
             "tickwidth": 2
            },
            "colorscale": [
             [
              0,
              "rgb(2,4,25)"
             ],
             [
              0.06274509803921569,
              "rgb(24,15,41)"
             ],
             [
              0.12549019607843137,
              "rgb(47,23,57)"
             ],
             [
              0.18823529411764706,
              "rgb(71,28,72)"
             ],
             [
              0.25098039215686274,
              "rgb(97,30,82)"
             ],
             [
              0.3137254901960784,
              "rgb(123,30,89)"
             ],
             [
              0.3764705882352941,
              "rgb(150,27,91)"
             ],
             [
              0.4392156862745098,
              "rgb(177,22,88)"
             ],
             [
              0.5019607843137255,
              "rgb(203,26,79)"
             ],
             [
              0.5647058823529412,
              "rgb(223,47,67)"
             ],
             [
              0.6274509803921569,
              "rgb(236,76,61)"
             ],
             [
              0.6901960784313725,
              "rgb(242,107,73)"
             ],
             [
              0.7529411764705882,
              "rgb(244,135,95)"
             ],
             [
              0.8156862745098039,
              "rgb(245,162,122)"
             ],
             [
              0.8784313725490196,
              "rgb(246,188,153)"
             ],
             [
              0.9411764705882353,
              "rgb(247,212,187)"
             ],
             [
              1,
              "rgb(250,234,220)"
             ]
            ],
            "type": "histogram2dcontour"
           }
          ],
          "mesh3d": [
           {
            "colorbar": {
             "outlinewidth": 0,
             "tickcolor": "rgb(36,36,36)",
             "ticklen": 8,
             "ticks": "outside",
             "tickwidth": 2
            },
            "type": "mesh3d"
           }
          ],
          "parcoords": [
           {
            "line": {
             "colorbar": {
              "outlinewidth": 0,
              "tickcolor": "rgb(36,36,36)",
              "ticklen": 8,
              "ticks": "outside",
              "tickwidth": 2
             }
            },
            "type": "parcoords"
           }
          ],
          "pie": [
           {
            "automargin": true,
            "type": "pie"
           }
          ],
          "scatter": [
           {
            "fillpattern": {
             "fillmode": "overlay",
             "size": 10,
             "solidity": 0.2
            },
            "type": "scatter"
           }
          ],
          "scatter3d": [
           {
            "line": {
             "colorbar": {
              "outlinewidth": 0,
              "tickcolor": "rgb(36,36,36)",
              "ticklen": 8,
              "ticks": "outside",
              "tickwidth": 2
             }
            },
            "marker": {
             "colorbar": {
              "outlinewidth": 0,
              "tickcolor": "rgb(36,36,36)",
              "ticklen": 8,
              "ticks": "outside",
              "tickwidth": 2
             }
            },
            "type": "scatter3d"
           }
          ],
          "scattercarpet": [
           {
            "marker": {
             "colorbar": {
              "outlinewidth": 0,
              "tickcolor": "rgb(36,36,36)",
              "ticklen": 8,
              "ticks": "outside",
              "tickwidth": 2
             }
            },
            "type": "scattercarpet"
           }
          ],
          "scattergeo": [
           {
            "marker": {
             "colorbar": {
              "outlinewidth": 0,
              "tickcolor": "rgb(36,36,36)",
              "ticklen": 8,
              "ticks": "outside",
              "tickwidth": 2
             }
            },
            "type": "scattergeo"
           }
          ],
          "scattergl": [
           {
            "marker": {
             "colorbar": {
              "outlinewidth": 0,
              "tickcolor": "rgb(36,36,36)",
              "ticklen": 8,
              "ticks": "outside",
              "tickwidth": 2
             }
            },
            "type": "scattergl"
           }
          ],
          "scattermapbox": [
           {
            "marker": {
             "colorbar": {
              "outlinewidth": 0,
              "tickcolor": "rgb(36,36,36)",
              "ticklen": 8,
              "ticks": "outside",
              "tickwidth": 2
             }
            },
            "type": "scattermapbox"
           }
          ],
          "scatterpolar": [
           {
            "marker": {
             "colorbar": {
              "outlinewidth": 0,
              "tickcolor": "rgb(36,36,36)",
              "ticklen": 8,
              "ticks": "outside",
              "tickwidth": 2
             }
            },
            "type": "scatterpolar"
           }
          ],
          "scatterpolargl": [
           {
            "marker": {
             "colorbar": {
              "outlinewidth": 0,
              "tickcolor": "rgb(36,36,36)",
              "ticklen": 8,
              "ticks": "outside",
              "tickwidth": 2
             }
            },
            "type": "scatterpolargl"
           }
          ],
          "scatterternary": [
           {
            "marker": {
             "colorbar": {
              "outlinewidth": 0,
              "tickcolor": "rgb(36,36,36)",
              "ticklen": 8,
              "ticks": "outside",
              "tickwidth": 2
             }
            },
            "type": "scatterternary"
           }
          ],
          "surface": [
           {
            "colorbar": {
             "outlinewidth": 0,
             "tickcolor": "rgb(36,36,36)",
             "ticklen": 8,
             "ticks": "outside",
             "tickwidth": 2
            },
            "colorscale": [
             [
              0,
              "rgb(2,4,25)"
             ],
             [
              0.06274509803921569,
              "rgb(24,15,41)"
             ],
             [
              0.12549019607843137,
              "rgb(47,23,57)"
             ],
             [
              0.18823529411764706,
              "rgb(71,28,72)"
             ],
             [
              0.25098039215686274,
              "rgb(97,30,82)"
             ],
             [
              0.3137254901960784,
              "rgb(123,30,89)"
             ],
             [
              0.3764705882352941,
              "rgb(150,27,91)"
             ],
             [
              0.4392156862745098,
              "rgb(177,22,88)"
             ],
             [
              0.5019607843137255,
              "rgb(203,26,79)"
             ],
             [
              0.5647058823529412,
              "rgb(223,47,67)"
             ],
             [
              0.6274509803921569,
              "rgb(236,76,61)"
             ],
             [
              0.6901960784313725,
              "rgb(242,107,73)"
             ],
             [
              0.7529411764705882,
              "rgb(244,135,95)"
             ],
             [
              0.8156862745098039,
              "rgb(245,162,122)"
             ],
             [
              0.8784313725490196,
              "rgb(246,188,153)"
             ],
             [
              0.9411764705882353,
              "rgb(247,212,187)"
             ],
             [
              1,
              "rgb(250,234,220)"
             ]
            ],
            "type": "surface"
           }
          ],
          "table": [
           {
            "cells": {
             "fill": {
              "color": "rgb(231,231,240)"
             },
             "line": {
              "color": "white"
             }
            },
            "header": {
             "fill": {
              "color": "rgb(183,183,191)"
             },
             "line": {
              "color": "white"
             }
            },
            "type": "table"
           }
          ]
         },
         "layout": {
          "annotationdefaults": {
           "arrowcolor": "rgb(67,103,167)"
          },
          "autotypenumbers": "strict",
          "coloraxis": {
           "colorbar": {
            "outlinewidth": 0,
            "tickcolor": "rgb(36,36,36)",
            "ticklen": 8,
            "ticks": "outside",
            "tickwidth": 2
           }
          },
          "colorscale": {
           "sequential": [
            [
             0,
             "rgb(2,4,25)"
            ],
            [
             0.06274509803921569,
             "rgb(24,15,41)"
            ],
            [
             0.12549019607843137,
             "rgb(47,23,57)"
            ],
            [
             0.18823529411764706,
             "rgb(71,28,72)"
            ],
            [
             0.25098039215686274,
             "rgb(97,30,82)"
            ],
            [
             0.3137254901960784,
             "rgb(123,30,89)"
            ],
            [
             0.3764705882352941,
             "rgb(150,27,91)"
            ],
            [
             0.4392156862745098,
             "rgb(177,22,88)"
            ],
            [
             0.5019607843137255,
             "rgb(203,26,79)"
            ],
            [
             0.5647058823529412,
             "rgb(223,47,67)"
            ],
            [
             0.6274509803921569,
             "rgb(236,76,61)"
            ],
            [
             0.6901960784313725,
             "rgb(242,107,73)"
            ],
            [
             0.7529411764705882,
             "rgb(244,135,95)"
            ],
            [
             0.8156862745098039,
             "rgb(245,162,122)"
            ],
            [
             0.8784313725490196,
             "rgb(246,188,153)"
            ],
            [
             0.9411764705882353,
             "rgb(247,212,187)"
            ],
            [
             1,
             "rgb(250,234,220)"
            ]
           ],
           "sequentialminus": [
            [
             0,
             "rgb(2,4,25)"
            ],
            [
             0.06274509803921569,
             "rgb(24,15,41)"
            ],
            [
             0.12549019607843137,
             "rgb(47,23,57)"
            ],
            [
             0.18823529411764706,
             "rgb(71,28,72)"
            ],
            [
             0.25098039215686274,
             "rgb(97,30,82)"
            ],
            [
             0.3137254901960784,
             "rgb(123,30,89)"
            ],
            [
             0.3764705882352941,
             "rgb(150,27,91)"
            ],
            [
             0.4392156862745098,
             "rgb(177,22,88)"
            ],
            [
             0.5019607843137255,
             "rgb(203,26,79)"
            ],
            [
             0.5647058823529412,
             "rgb(223,47,67)"
            ],
            [
             0.6274509803921569,
             "rgb(236,76,61)"
            ],
            [
             0.6901960784313725,
             "rgb(242,107,73)"
            ],
            [
             0.7529411764705882,
             "rgb(244,135,95)"
            ],
            [
             0.8156862745098039,
             "rgb(245,162,122)"
            ],
            [
             0.8784313725490196,
             "rgb(246,188,153)"
            ],
            [
             0.9411764705882353,
             "rgb(247,212,187)"
            ],
            [
             1,
             "rgb(250,234,220)"
            ]
           ]
          },
          "colorway": [
           "rgb(76,114,176)",
           "rgb(221,132,82)",
           "rgb(85,168,104)",
           "rgb(196,78,82)",
           "rgb(129,114,179)",
           "rgb(147,120,96)",
           "rgb(218,139,195)",
           "rgb(140,140,140)",
           "rgb(204,185,116)",
           "rgb(100,181,205)"
          ],
          "font": {
           "color": "rgb(36,36,36)"
          },
          "geo": {
           "bgcolor": "white",
           "lakecolor": "white",
           "landcolor": "rgb(234,234,242)",
           "showlakes": true,
           "showland": true,
           "subunitcolor": "white"
          },
          "hoverlabel": {
           "align": "left"
          },
          "hovermode": "closest",
          "paper_bgcolor": "white",
          "plot_bgcolor": "rgb(234,234,242)",
          "polar": {
           "angularaxis": {
            "gridcolor": "white",
            "linecolor": "white",
            "showgrid": true,
            "ticks": ""
           },
           "bgcolor": "rgb(234,234,242)",
           "radialaxis": {
            "gridcolor": "white",
            "linecolor": "white",
            "showgrid": true,
            "ticks": ""
           }
          },
          "scene": {
           "xaxis": {
            "backgroundcolor": "rgb(234,234,242)",
            "gridcolor": "white",
            "gridwidth": 2,
            "linecolor": "white",
            "showbackground": true,
            "showgrid": true,
            "ticks": "",
            "zerolinecolor": "white"
           },
           "yaxis": {
            "backgroundcolor": "rgb(234,234,242)",
            "gridcolor": "white",
            "gridwidth": 2,
            "linecolor": "white",
            "showbackground": true,
            "showgrid": true,
            "ticks": "",
            "zerolinecolor": "white"
           },
           "zaxis": {
            "backgroundcolor": "rgb(234,234,242)",
            "gridcolor": "white",
            "gridwidth": 2,
            "linecolor": "white",
            "showbackground": true,
            "showgrid": true,
            "ticks": "",
            "zerolinecolor": "white"
           }
          },
          "shapedefaults": {
           "fillcolor": "rgb(67,103,167)",
           "line": {
            "width": 0
           },
           "opacity": 0.5
          },
          "ternary": {
           "aaxis": {
            "gridcolor": "white",
            "linecolor": "white",
            "showgrid": true,
            "ticks": ""
           },
           "baxis": {
            "gridcolor": "white",
            "linecolor": "white",
            "showgrid": true,
            "ticks": ""
           },
           "bgcolor": "rgb(234,234,242)",
           "caxis": {
            "gridcolor": "white",
            "linecolor": "white",
            "showgrid": true,
            "ticks": ""
           }
          },
          "xaxis": {
           "automargin": true,
           "gridcolor": "white",
           "linecolor": "white",
           "showgrid": true,
           "ticks": "",
           "title": {
            "standoff": 15
           },
           "zerolinecolor": "white"
          },
          "yaxis": {
           "automargin": true,
           "gridcolor": "white",
           "linecolor": "white",
           "showgrid": true,
           "ticks": "",
           "title": {
            "standoff": 15
           },
           "zerolinecolor": "white"
          }
         }
        },
        "title": {
         "text": "K-Means Clustering of Penguins"
        },
        "width": 1000,
        "xaxis": {
         "color": "#7F8C8D",
         "title": {
          "text": "Culmen Length (mm)"
         }
        },
        "yaxis": {
         "color": "#7F8C8D",
         "title": {
          "text": "Culmen Depth (mm)"
         }
        }
       }
      }
     },
     "metadata": {},
     "output_type": "display_data"
    }
   ],
   "source": [
    "%pip install scikit-learn\n",
    "\n",
    "fig = go.Figure()\n",
    "fig.add_trace(go.Scatter(\n",
    "    x = X[y_kmeans == 0, 0], y = X[y_kmeans == 0, 1],\n",
    "    mode = 'markers',  \n",
    "    marker_color = '#FF5733', name = 'Penguin-Female'\n",
    "))\n",
    "\n",
    "fig.add_trace(go.Scatter(\n",
    "    x = X[y_kmeans == 1, 0], y = X[y_kmeans == 1, 1],\n",
    "    mode = 'markers',  \n",
    "    marker_color = '#33FF57', name = 'Penguin-Male'\n",
    "))\n",
    "\n",
    "fig.add_trace(go.Scatter(\n",
    "    x = X[y_kmeans == 2, 0], y = X[y_kmeans == 2, 1],\n",
    "    mode = 'markers',   \n",
    "    marker_color = '#3357FF', name = 'Penguin-Unknown'\n",
    "))\n",
    "\n",
    "fig.add_trace(go.Scatter(\n",
    "    x = X[y_kmeans == 3, 0], y = X[y_kmeans == 3, 1],\n",
    "    mode = 'markers',\n",
    "    marker_color = '#F39C12', name = 'Penguin-Other'\n",
    "))\n",
    "fig.add_trace(go.Scatter(\n",
    "    x = kmeans.cluster_centers_[:, 0], y = kmeans.cluster_centers_[:, 1],\n",
    "    mode = 'markers',\n",
    "    marker_color = '#F1C40F',\n",
    "    marker_symbol = 4,\n",
    "    marker_size = 13,\n",
    "    name = 'Centroids'\n",
    "))\n",
    "\n",
    "fig.update_layout(title = 'K-Means Clustering of Penguins', template = 'seaborn', width = 1000, height = 500, xaxis = dict(title = 'Culmen Length (mm)', color = '#7F8C8D'), yaxis = dict(title = 'Culmen Depth (mm)', color = '#7F8C8D'))"
   ]
  }
 ],
 "metadata": {
  "kernelspec": {
   "display_name": "base",
   "language": "python",
   "name": "python3"
  },
  "language_info": {
   "codemirror_mode": {
    "name": "ipython",
    "version": 3
   },
   "file_extension": ".py",
   "mimetype": "text/x-python",
   "name": "python",
   "nbconvert_exporter": "python",
   "pygments_lexer": "ipython3",
   "version": "3.13.5"
  }
 },
 "nbformat": 4,
 "nbformat_minor": 5
}
