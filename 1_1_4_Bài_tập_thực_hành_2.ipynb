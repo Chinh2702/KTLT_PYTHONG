{
  "nbformat": 4,
  "nbformat_minor": 0,
  "metadata": {
    "colab": {
      "provenance": [],
      "authorship_tag": "ABX9TyPXjUGQEm/mFs0OVsxsA63Q",
      "include_colab_link": true
    },
    "kernelspec": {
      "name": "python3",
      "display_name": "Python 3"
    },
    "language_info": {
      "name": "python"
    }
  },
  "cells": [
    {
      "cell_type": "markdown",
      "metadata": {
        "id": "view-in-github",
        "colab_type": "text"
      },
      "source": [
        "<a href=\"https://colab.research.google.com/github/Chinh2702/KTLT_PYTHONG/blob/main/1_1_4_B%C3%A0i_t%E1%BA%ADp_th%E1%BB%B1c_h%C3%A0nh_2.ipynb\" target=\"_parent\"><img src=\"https://colab.research.google.com/assets/colab-badge.svg\" alt=\"Open In Colab\"/></a>"
      ]
    },
    {
      "cell_type": "markdown",
      "source": [
        "## Bước 1: Chuẩn bị môi trường và đọc dữ liệu"
      ],
      "metadata": {
        "id": "XgRr82BkTllx"
      }
    },
    {
      "cell_type": "code",
      "source": [
        "from google.colab import files\n",
        "uploaded = files.upload()"
      ],
      "metadata": {
        "colab": {
          "base_uri": "https://localhost:8080/",
          "height": 73
        },
        "id": "SK1wOeKVFn9h",
        "outputId": "4c9f1ef3-8140-46e1-fa08-5ba99d30c2e9"
      },
      "execution_count": 4,
      "outputs": [
        {
          "output_type": "display_data",
          "data": {
            "text/plain": [
              "<IPython.core.display.HTML object>"
            ],
            "text/html": [
              "\n",
              "     <input type=\"file\" id=\"files-de8b361b-9abc-4053-8e7d-951827581a24\" name=\"files[]\" multiple disabled\n",
              "        style=\"border:none\" />\n",
              "     <output id=\"result-de8b361b-9abc-4053-8e7d-951827581a24\">\n",
              "      Upload widget is only available when the cell has been executed in the\n",
              "      current browser session. Please rerun this cell to enable.\n",
              "      </output>\n",
              "      <script>// Copyright 2017 Google LLC\n",
              "//\n",
              "// Licensed under the Apache License, Version 2.0 (the \"License\");\n",
              "// you may not use this file except in compliance with the License.\n",
              "// You may obtain a copy of the License at\n",
              "//\n",
              "//      http://www.apache.org/licenses/LICENSE-2.0\n",
              "//\n",
              "// Unless required by applicable law or agreed to in writing, software\n",
              "// distributed under the License is distributed on an \"AS IS\" BASIS,\n",
              "// WITHOUT WARRANTIES OR CONDITIONS OF ANY KIND, either express or implied.\n",
              "// See the License for the specific language governing permissions and\n",
              "// limitations under the License.\n",
              "\n",
              "/**\n",
              " * @fileoverview Helpers for google.colab Python module.\n",
              " */\n",
              "(function(scope) {\n",
              "function span(text, styleAttributes = {}) {\n",
              "  const element = document.createElement('span');\n",
              "  element.textContent = text;\n",
              "  for (const key of Object.keys(styleAttributes)) {\n",
              "    element.style[key] = styleAttributes[key];\n",
              "  }\n",
              "  return element;\n",
              "}\n",
              "\n",
              "// Max number of bytes which will be uploaded at a time.\n",
              "const MAX_PAYLOAD_SIZE = 100 * 1024;\n",
              "\n",
              "function _uploadFiles(inputId, outputId) {\n",
              "  const steps = uploadFilesStep(inputId, outputId);\n",
              "  const outputElement = document.getElementById(outputId);\n",
              "  // Cache steps on the outputElement to make it available for the next call\n",
              "  // to uploadFilesContinue from Python.\n",
              "  outputElement.steps = steps;\n",
              "\n",
              "  return _uploadFilesContinue(outputId);\n",
              "}\n",
              "\n",
              "// This is roughly an async generator (not supported in the browser yet),\n",
              "// where there are multiple asynchronous steps and the Python side is going\n",
              "// to poll for completion of each step.\n",
              "// This uses a Promise to block the python side on completion of each step,\n",
              "// then passes the result of the previous step as the input to the next step.\n",
              "function _uploadFilesContinue(outputId) {\n",
              "  const outputElement = document.getElementById(outputId);\n",
              "  const steps = outputElement.steps;\n",
              "\n",
              "  const next = steps.next(outputElement.lastPromiseValue);\n",
              "  return Promise.resolve(next.value.promise).then((value) => {\n",
              "    // Cache the last promise value to make it available to the next\n",
              "    // step of the generator.\n",
              "    outputElement.lastPromiseValue = value;\n",
              "    return next.value.response;\n",
              "  });\n",
              "}\n",
              "\n",
              "/**\n",
              " * Generator function which is called between each async step of the upload\n",
              " * process.\n",
              " * @param {string} inputId Element ID of the input file picker element.\n",
              " * @param {string} outputId Element ID of the output display.\n",
              " * @return {!Iterable<!Object>} Iterable of next steps.\n",
              " */\n",
              "function* uploadFilesStep(inputId, outputId) {\n",
              "  const inputElement = document.getElementById(inputId);\n",
              "  inputElement.disabled = false;\n",
              "\n",
              "  const outputElement = document.getElementById(outputId);\n",
              "  outputElement.innerHTML = '';\n",
              "\n",
              "  const pickedPromise = new Promise((resolve) => {\n",
              "    inputElement.addEventListener('change', (e) => {\n",
              "      resolve(e.target.files);\n",
              "    });\n",
              "  });\n",
              "\n",
              "  const cancel = document.createElement('button');\n",
              "  inputElement.parentElement.appendChild(cancel);\n",
              "  cancel.textContent = 'Cancel upload';\n",
              "  const cancelPromise = new Promise((resolve) => {\n",
              "    cancel.onclick = () => {\n",
              "      resolve(null);\n",
              "    };\n",
              "  });\n",
              "\n",
              "  // Wait for the user to pick the files.\n",
              "  const files = yield {\n",
              "    promise: Promise.race([pickedPromise, cancelPromise]),\n",
              "    response: {\n",
              "      action: 'starting',\n",
              "    }\n",
              "  };\n",
              "\n",
              "  cancel.remove();\n",
              "\n",
              "  // Disable the input element since further picks are not allowed.\n",
              "  inputElement.disabled = true;\n",
              "\n",
              "  if (!files) {\n",
              "    return {\n",
              "      response: {\n",
              "        action: 'complete',\n",
              "      }\n",
              "    };\n",
              "  }\n",
              "\n",
              "  for (const file of files) {\n",
              "    const li = document.createElement('li');\n",
              "    li.append(span(file.name, {fontWeight: 'bold'}));\n",
              "    li.append(span(\n",
              "        `(${file.type || 'n/a'}) - ${file.size} bytes, ` +\n",
              "        `last modified: ${\n",
              "            file.lastModifiedDate ? file.lastModifiedDate.toLocaleDateString() :\n",
              "                                    'n/a'} - `));\n",
              "    const percent = span('0% done');\n",
              "    li.appendChild(percent);\n",
              "\n",
              "    outputElement.appendChild(li);\n",
              "\n",
              "    const fileDataPromise = new Promise((resolve) => {\n",
              "      const reader = new FileReader();\n",
              "      reader.onload = (e) => {\n",
              "        resolve(e.target.result);\n",
              "      };\n",
              "      reader.readAsArrayBuffer(file);\n",
              "    });\n",
              "    // Wait for the data to be ready.\n",
              "    let fileData = yield {\n",
              "      promise: fileDataPromise,\n",
              "      response: {\n",
              "        action: 'continue',\n",
              "      }\n",
              "    };\n",
              "\n",
              "    // Use a chunked sending to avoid message size limits. See b/62115660.\n",
              "    let position = 0;\n",
              "    do {\n",
              "      const length = Math.min(fileData.byteLength - position, MAX_PAYLOAD_SIZE);\n",
              "      const chunk = new Uint8Array(fileData, position, length);\n",
              "      position += length;\n",
              "\n",
              "      const base64 = btoa(String.fromCharCode.apply(null, chunk));\n",
              "      yield {\n",
              "        response: {\n",
              "          action: 'append',\n",
              "          file: file.name,\n",
              "          data: base64,\n",
              "        },\n",
              "      };\n",
              "\n",
              "      let percentDone = fileData.byteLength === 0 ?\n",
              "          100 :\n",
              "          Math.round((position / fileData.byteLength) * 100);\n",
              "      percent.textContent = `${percentDone}% done`;\n",
              "\n",
              "    } while (position < fileData.byteLength);\n",
              "  }\n",
              "\n",
              "  // All done.\n",
              "  yield {\n",
              "    response: {\n",
              "      action: 'complete',\n",
              "    }\n",
              "  };\n",
              "}\n",
              "\n",
              "scope.google = scope.google || {};\n",
              "scope.google.colab = scope.google.colab || {};\n",
              "scope.google.colab._files = {\n",
              "  _uploadFiles,\n",
              "  _uploadFilesContinue,\n",
              "};\n",
              "})(self);\n",
              "</script> "
            ]
          },
          "metadata": {}
        },
        {
          "output_type": "stream",
          "name": "stdout",
          "text": [
            "Saving diabetes.csv to diabetes.csv\n"
          ]
        }
      ]
    },
    {
      "cell_type": "code",
      "execution_count": 5,
      "metadata": {
        "colab": {
          "base_uri": "https://localhost:8080/"
        },
        "id": "DIT472x8_Ega",
        "outputId": "06c3c63e-e1be-4e2b-d0ee-ab2dfbbb3de3"
      },
      "outputs": [
        {
          "output_type": "stream",
          "name": "stdout",
          "text": [
            "   Pregnancies  Glucose  BloodPressure  SkinThickness  Insulin   BMI  \\\n",
            "0            6      148             72             35        0  33.6   \n",
            "1            1       85             66             29        0  26.6   \n",
            "2            8      183             64              0        0  23.3   \n",
            "3            1       89             66             23       94  28.1   \n",
            "4            0      137             40             35      168  43.1   \n",
            "\n",
            "   DiabetesPedigreeFunction  Age  Outcome  \n",
            "0                     0.627   50        1  \n",
            "1                     0.351   31        0  \n",
            "2                     0.672   32        1  \n",
            "3                     0.167   21        0  \n",
            "4                     2.288   33        1  \n",
            "<class 'pandas.core.frame.DataFrame'>\n",
            "RangeIndex: 768 entries, 0 to 767\n",
            "Data columns (total 9 columns):\n",
            " #   Column                    Non-Null Count  Dtype  \n",
            "---  ------                    --------------  -----  \n",
            " 0   Pregnancies               768 non-null    int64  \n",
            " 1   Glucose                   768 non-null    int64  \n",
            " 2   BloodPressure             768 non-null    int64  \n",
            " 3   SkinThickness             768 non-null    int64  \n",
            " 4   Insulin                   768 non-null    int64  \n",
            " 5   BMI                       768 non-null    float64\n",
            " 6   DiabetesPedigreeFunction  768 non-null    float64\n",
            " 7   Age                       768 non-null    int64  \n",
            " 8   Outcome                   768 non-null    int64  \n",
            "dtypes: float64(2), int64(7)\n",
            "memory usage: 54.1 KB\n",
            "None\n",
            "       Pregnancies     Glucose  BloodPressure  SkinThickness     Insulin  \\\n",
            "count   768.000000  768.000000     768.000000     768.000000  768.000000   \n",
            "mean      3.845052  120.894531      69.105469      20.536458   79.799479   \n",
            "std       3.369578   31.972618      19.355807      15.952218  115.244002   \n",
            "min       0.000000    0.000000       0.000000       0.000000    0.000000   \n",
            "25%       1.000000   99.000000      62.000000       0.000000    0.000000   \n",
            "50%       3.000000  117.000000      72.000000      23.000000   30.500000   \n",
            "75%       6.000000  140.250000      80.000000      32.000000  127.250000   \n",
            "max      17.000000  199.000000     122.000000      99.000000  846.000000   \n",
            "\n",
            "              BMI  DiabetesPedigreeFunction         Age     Outcome  \n",
            "count  768.000000                768.000000  768.000000  768.000000  \n",
            "mean    31.992578                  0.471876   33.240885    0.348958  \n",
            "std      7.884160                  0.331329   11.760232    0.476951  \n",
            "min      0.000000                  0.078000   21.000000    0.000000  \n",
            "25%     27.300000                  0.243750   24.000000    0.000000  \n",
            "50%     32.000000                  0.372500   29.000000    0.000000  \n",
            "75%     36.600000                  0.626250   41.000000    1.000000  \n",
            "max     67.100000                  2.420000   81.000000    1.000000  \n"
          ]
        }
      ],
      "source": [
        "# pandas dùng để đọc file và thao tác dữ liệu\n",
        "import pandas as pd\n",
        "import numpy as np\n",
        "from scipy import stats\n",
        "import matplotlib.pyplot as plt\n",
        "import seaborn as sns\n",
        "\n",
        "# Đọc dữ liệu\n",
        "data = pd.read_csv(\"diabetes.csv\")\n",
        "\n",
        "# Xem vài dòng đầu tiên, kiểm tra cột có đúng không\n",
        "print(data.head())\n",
        "\n",
        "# Kiểm tra thông tin dữ liệu (kiểu biến, số lượng quan sát), cho biết kiểu dữ liệu (int, float) và có bị thiếu dữ liệu không.\n",
        "print(data.info())\n",
        "\n",
        "# Kiểm tra thống kê cơ bản, hiển thị trung bình, độ lệch chuẩn, min, max, và tứ phân vị (25%, 50%, 75%).\n",
        "print(data.describe())"
      ]
    },
    {
      "cell_type": "markdown",
      "source": [
        "## Bước 2: Kiểm tra trùng lặp & các lỗi định dạng"
      ],
      "metadata": {
        "id": "vIdVUl4OaG4p"
      }
    },
    {
      "cell_type": "code",
      "source": [
        "## Kiểm tra và loại bỏ bản ghi trùng lặp nếu cần, gán lại DataFrame để tránh SettingWithCopyWarning.\n",
        "# Số dòng trùng lặp (toàn hàng)\n",
        "n_dup = data.duplicated().sum()\n",
        "print(\"Số hàng duplicate:\", n_dup)\n",
        "\n",
        "# Nếu có, loại bỏ (nếu muốn)\n",
        "if n_dup > 0:\n",
        "    data = data.drop_duplicates().reset_index(drop=True)\n",
        "    print(\"Đã drop duplicates, shape mới:\", data.shape)\n",
        "\n",
        "# Kiểm tra các cột text, ngày (nếu có) — ở bộ này thường không cần\n",
        "print(data.dtypes)\n"
      ],
      "metadata": {
        "colab": {
          "base_uri": "https://localhost:8080/"
        },
        "id": "xTqxUAv_aMTe",
        "outputId": "df685731-00c6-42fa-de68-8273d416e99c"
      },
      "execution_count": 10,
      "outputs": [
        {
          "output_type": "stream",
          "name": "stdout",
          "text": [
            "Số hàng duplicate: 0\n",
            "Pregnancies                   int64\n",
            "Glucose                     float64\n",
            "BloodPressure               float64\n",
            "SkinThickness               float64\n",
            "Insulin                     float64\n",
            "BMI                         float64\n",
            "DiabetesPedigreeFunction    float64\n",
            "Age                           int64\n",
            "Outcome                       int64\n",
            "dtype: object\n"
          ]
        }
      ]
    },
    {
      "cell_type": "markdown",
      "source": [
        "## Bước 3: Kiểm tra và xử lý giá trị thiếu (missing values)"
      ],
      "metadata": {
        "id": "J3IxeWPoVhI_"
      }
    },
    {
      "cell_type": "code",
      "source": [
        "## Giải thích: nhiều dataset mã hóa giá trị thiếu bằng 0; ta chuyển 0 -> NaN để pandas và các hàm thống kê bỏ qua khi cần hoặc để xử lý missing một cách đúng đắn.\n",
        "\n",
        "# Kiểm tra nhanh: số NaN hiện có thực sự (ô trống)\n",
        "print(\"Missing (NaN) ban đầu theo cột:\")\n",
        "print(data.isnull().sum())\n",
        "\n",
        "# Kiểm tra số lượng giá trị bằng 0 để thấy có bao nhiêu giá trị được mã hóa là 0 (thực chất là missing) là không hợp lệ y học\n",
        "cols_with_zero = ['Glucose', 'BloodPressure', 'SkinThickness', 'Insulin', 'BMI']\n",
        "for col in cols_with_zero:\n",
        "    print(f\"Số lượng giá trị 0 trong {col}: {int((data[col] == 0).sum())}\")\n",
        "\n",
        "# Thay giá trị 0 bằng NaN an toàn trên tập các cột được chỉ định (không dùng inplace trên slice); cú pháp này gán lại nguyên khối giúp tránh SettingWithCopyWarning\n",
        "data[cols_with_zero] = data[cols_with_zero].replace(0, np.nan)\n",
        "\n",
        "# Kiểm tra lại NaN thực sự (ô trống): giờ sẽ thấy NaN xuất hiện\n",
        "print(\"\\nSau khi thay 0 -> NaN, tổng NaN theo cột:\")\n",
        "print(data.isnull().sum())\n",
        "\n"
      ],
      "metadata": {
        "colab": {
          "base_uri": "https://localhost:8080/"
        },
        "id": "NQYhIIu8VnX5",
        "outputId": "cbfa5ade-e55e-48f6-ad42-8be2093fdcc0"
      },
      "execution_count": 11,
      "outputs": [
        {
          "output_type": "stream",
          "name": "stdout",
          "text": [
            "Missing (NaN) ban đầu theo cột:\n",
            "Pregnancies                   0\n",
            "Glucose                       5\n",
            "BloodPressure                35\n",
            "SkinThickness               227\n",
            "Insulin                     374\n",
            "BMI                          11\n",
            "DiabetesPedigreeFunction      0\n",
            "Age                           0\n",
            "Outcome                       0\n",
            "dtype: int64\n",
            "Số lượng giá trị 0 trong Glucose: 0\n",
            "Số lượng giá trị 0 trong BloodPressure: 0\n",
            "Số lượng giá trị 0 trong SkinThickness: 0\n",
            "Số lượng giá trị 0 trong Insulin: 0\n",
            "Số lượng giá trị 0 trong BMI: 0\n",
            "\n",
            "Sau khi thay 0 -> NaN, tổng NaN theo cột:\n",
            "Pregnancies                   0\n",
            "Glucose                       5\n",
            "BloodPressure                35\n",
            "SkinThickness               227\n",
            "Insulin                     374\n",
            "BMI                          11\n",
            "DiabetesPedigreeFunction      0\n",
            "Age                           0\n",
            "Outcome                       0\n",
            "dtype: int64\n"
          ]
        }
      ]
    },
    {
      "cell_type": "markdown",
      "source": [
        "## Bước 4 — Tính thống kê mô tả bằng numpy và scipy.stats\n",
        "\n"
      ],
      "metadata": {
        "id": "4EbWI0dFYUDI"
      }
    },
    {
      "cell_type": "code",
      "source": [
        "num_cols = data.select_dtypes(include=[np.number]).columns.tolist()\n",
        "\n",
        "print(\"Numeric columns:\", num_cols)\n",
        "\n",
        "def descriptive_with_numpy_stats(arr):\n",
        "    arr_clean = np.array(arr.dropna())   # convert thành numpy array, bỏ NaN\n",
        "    res = {}\n",
        "    if arr_clean.size == 0:\n",
        "        return None\n",
        "    res['n'] = arr_clean.size\n",
        "    res['mean'] = np.mean(arr_clean)                           # numpy mean\n",
        "    res['median'] = np.median(arr_clean)                       # numpy median\n",
        "    # mode: scipy.stats.mode hoặc pandas Series.mode (pandas trả về list nếu multi-mode)\n",
        "    mode_result = stats.mode(arr_clean, keepdims=True)         # mode có rtype ModeResult\n",
        "    res['mode'] = mode_result.mode[0]                          # lấy mode (nếu nhiều mode, SciPy trả về nhỏ nhất)\n",
        "    res['variance'] = np.var(arr_clean, ddof=1)               # sample variance (ddof=1)\n",
        "    res['std'] = np.std(arr_clean, ddof=1)                    # sample std\n",
        "    res['min'] = np.min(arr_clean)\n",
        "    res['max'] = np.max(arr_clean)\n",
        "    res['range'] = res['max'] - res['min']\n",
        "    res['p60'] = np.percentile(arr_clean, 60)                 # 60th percentile ví dụ\n",
        "    res['Q1'] = np.quantile(arr_clean, 0.25)\n",
        "    res['Q2'] = np.quantile(arr_clean, 0.50)\n",
        "    res['Q3'] = np.quantile(arr_clean, 0.75)\n",
        "    res['IQR'] = stats.iqr(arr_clean)                         # scipy iqr (Q3-Q1)\n",
        "    return res\n",
        "\n",
        "# In mô tả cho từng biến numeric\n",
        "for col in num_cols:\n",
        "    stats_col = descriptive_with_numpy_stats(data[col])\n",
        "    print(\"\\n--- Variable:\", col)\n",
        "    if stats_col is None:\n",
        "        print(\"Không có quan sát hợp lệ (sau dropna).\")\n",
        "        continue\n",
        "    for k,v in stats_col.items():\n",
        "        print(f\"{k}: {v}\")\n"
      ],
      "metadata": {
        "colab": {
          "base_uri": "https://localhost:8080/"
        },
        "id": "Pt0QAusmYddr",
        "outputId": "a1c2bd8e-9eff-46dc-9cd3-f3b219749f97"
      },
      "execution_count": 12,
      "outputs": [
        {
          "output_type": "stream",
          "name": "stdout",
          "text": [
            "Numeric columns: ['Pregnancies', 'Glucose', 'BloodPressure', 'SkinThickness', 'Insulin', 'BMI', 'DiabetesPedigreeFunction', 'Age', 'Outcome']\n",
            "\n",
            "--- Variable: Pregnancies\n",
            "n: 768\n",
            "mean: 3.8450520833333335\n",
            "median: 3.0\n",
            "mode: 1\n",
            "variance: 11.354056320621465\n",
            "std: 3.3695780626988694\n",
            "min: 0\n",
            "max: 17\n",
            "range: 17\n",
            "p60: 4.0\n",
            "Q1: 1.0\n",
            "Q2: 3.0\n",
            "Q3: 6.0\n",
            "IQR: 5.0\n",
            "\n",
            "--- Variable: Glucose\n",
            "n: 763\n",
            "mean: 121.6867627785059\n",
            "median: 117.0\n",
            "mode: 99.0\n",
            "variance: 932.4253757271167\n",
            "std: 30.535641072804033\n",
            "min: 44.0\n",
            "max: 199.0\n",
            "range: 155.0\n",
            "p60: 125.0\n",
            "Q1: 99.0\n",
            "Q2: 117.0\n",
            "Q3: 141.0\n",
            "IQR: 42.0\n",
            "\n",
            "--- Variable: BloodPressure\n",
            "n: 733\n",
            "mean: 72.40518417462484\n",
            "median: 72.0\n",
            "mode: 70.0\n",
            "variance: 153.31784194007707\n",
            "std: 12.38215821010526\n",
            "min: 24.0\n",
            "max: 122.0\n",
            "range: 98.0\n",
            "p60: 75.0\n",
            "Q1: 64.0\n",
            "Q2: 72.0\n",
            "Q3: 80.0\n",
            "IQR: 16.0\n",
            "\n",
            "--- Variable: SkinThickness\n",
            "n: 541\n",
            "mean: 29.153419593345657\n",
            "median: 29.0\n",
            "mode: 32.0\n",
            "variance: 109.7671595810228\n",
            "std: 10.476982369987208\n",
            "min: 7.0\n",
            "max: 99.0\n",
            "range: 92.0\n",
            "p60: 32.0\n",
            "Q1: 22.0\n",
            "Q2: 29.0\n",
            "Q3: 36.0\n",
            "IQR: 14.0\n",
            "\n",
            "--- Variable: Insulin\n",
            "n: 394\n",
            "mean: 155.5482233502538\n",
            "median: 125.0\n",
            "mode: 105.0\n",
            "variance: 14107.70377546144\n",
            "std: 118.77585518724518\n",
            "min: 14.0\n",
            "max: 846.0\n",
            "range: 832.0\n",
            "p60: 145.79999999999998\n",
            "Q1: 76.25\n",
            "Q2: 125.0\n",
            "Q3: 190.0\n",
            "IQR: 113.75\n",
            "\n",
            "--- Variable: BMI\n",
            "n: 757\n",
            "mean: 32.457463672391015\n",
            "median: 32.3\n",
            "mode: 32.0\n",
            "variance: 47.955463399802895\n",
            "std: 6.924988332105903\n",
            "min: 18.2\n",
            "max: 67.1\n",
            "range: 48.89999999999999\n",
            "p60: 33.8\n",
            "Q1: 27.5\n",
            "Q2: 32.3\n",
            "Q3: 36.6\n",
            "IQR: 9.100000000000001\n",
            "\n",
            "--- Variable: DiabetesPedigreeFunction\n",
            "n: 768\n",
            "mean: 0.47187630208333325\n",
            "median: 0.3725\n",
            "mode: 0.254\n",
            "variance: 0.1097786378731394\n",
            "std: 0.3313285950127749\n",
            "min: 0.078\n",
            "max: 2.42\n",
            "range: 2.342\n",
            "p60: 0.4542\n",
            "Q1: 0.24375\n",
            "Q2: 0.3725\n",
            "Q3: 0.62625\n",
            "IQR: 0.38249999999999995\n",
            "\n",
            "--- Variable: Age\n",
            "n: 768\n",
            "mean: 33.240885416666664\n",
            "median: 29.0\n",
            "mode: 22\n",
            "variance: 138.30304589037377\n",
            "std: 11.760231540678685\n",
            "min: 21\n",
            "max: 81\n",
            "range: 60\n",
            "p60: 33.0\n",
            "Q1: 24.0\n",
            "Q2: 29.0\n",
            "Q3: 41.0\n",
            "IQR: 17.0\n",
            "\n",
            "--- Variable: Outcome\n",
            "n: 768\n",
            "mean: 0.3489583333333333\n",
            "median: 0.0\n",
            "mode: 0\n",
            "variance: 0.22748261625380273\n",
            "std: 0.47695137724279896\n",
            "min: 0\n",
            "max: 1\n",
            "range: 1\n",
            "p60: 0.0\n",
            "Q1: 0.0\n",
            "Q2: 0.0\n",
            "Q3: 1.0\n",
            "IQR: 1.0\n"
          ]
        }
      ]
    },
    {
      "cell_type": "markdown",
      "source": [
        "## Bước 5: Xử lý NaN trước khi tính mô tả"
      ],
      "metadata": {
        "id": "0BEHgi9Ybyh7"
      }
    },
    {
      "cell_type": "code",
      "source": [
        "## Dùng phương pháp Impute theo median (đơn giản, an toàn cho mô tả),\n",
        "## median imputation không bị kéo bởi extreme values, thường hợp lý cho thống kê mô tả\n",
        "df_median = data.copy()\n",
        "for col in cols_with_zero:\n",
        "    med = df_median[col].median()    # pandas median bỏ NaN\n",
        "    df_median[col] = df_median[col].fillna(med)\n",
        "print(\"Số NaN còn lại (median impute):\", df_median.isnull().sum().sum())\n"
      ],
      "metadata": {
        "colab": {
          "base_uri": "https://localhost:8080/"
        },
        "id": "cfyXZwBAb2SQ",
        "outputId": "4f57113b-11b5-423c-a59c-923ba781d090"
      },
      "execution_count": 13,
      "outputs": [
        {
          "output_type": "stream",
          "name": "stdout",
          "text": [
            "Số NaN còn lại (median impute): 0\n"
          ]
        }
      ]
    },
    {
      "cell_type": "markdown",
      "source": [
        "## Bước 6: Trực quan hóa dữ liệu (Boxplot và Histogram)"
      ],
      "metadata": {
        "id": "1vU-_KuxfWnE"
      }
    },
    {
      "cell_type": "code",
      "source": [
        "# Boxplot cho các biến định lượng\n",
        "plt.figure(figsize=(12,8))\n",
        "data.boxplot(column=['Glucose','BloodPressure','SkinThickness','Insulin','BMI'])\n",
        "plt.title(\"Biểu đồ Boxplot các biến định lượng\")\n",
        "plt.show()\n",
        "\n",
        "# Histogram\n",
        "data.hist(figsize=(12,8))\n",
        "plt.suptitle(\"Phân phối dữ liệu (Histogram)\", fontsize=14)\n",
        "plt.show()\n",
        "\n",
        "\n"
      ],
      "metadata": {
        "colab": {
          "base_uri": "https://localhost:8080/",
          "height": 1000
        },
        "id": "PD1maI42fVZP",
        "outputId": "8154244b-1b0b-4953-e252-fec352a2265a"
      },
      "execution_count": 15,
      "outputs": [
        {
          "output_type": "display_data",
          "data": {
            "text/plain": [
              "<Figure size 1200x800 with 1 Axes>"
            ],
            "image/png": "[encoded data removed]"
          },
          "metadata": {}
        },
        {
          "output_type": "display_data",
          "data": {
            "text/plain": [
              "<Figure size 1200x800 with 9 Axes>"
            ],
            "image/png": "[encoded data removed]"
          },
          "metadata": {}
        }
      ]
    }
  ]
}